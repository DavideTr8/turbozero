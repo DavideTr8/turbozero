{
 "cells": [
  {
   "cell_type": "code",
   "execution_count": null,
   "metadata": {},
   "outputs": [],
   "source": [
    "import torch\n",
    "import matplotlib.pyplot as plt\n",
    "from turbozero import *"
   ]
  },
  {
   "cell_type": "code",
   "execution_count": null,
   "metadata": {},
   "outputs": [],
   "source": [
    "trainer = load_trainer_nb(\n",
    "    config_file='', #TODO: specify a config file\n",
    "    gpu=torch.cuda.is_available(),\n",
    "    debug=False,\n",
    "    logfile='turbozero.log',\n",
    "    verbose_logging=True,\n",
    "    checkpoint='' #TODO: specify a checkpoint to load if you'd like to resume training from a checkpoint\n",
    ")\n",
    "plt.close('all'); "
   ]
  },
  {
   "cell_type": "code",
   "execution_count": null,
   "metadata": {},
   "outputs": [],
   "source": [
    "# sometimes JupyterLab stops reporting cell output properly and if something breaks you may lose the stack trace! this ensures it is captured in the log \n",
    "try:\n",
    "    trainer.training_loop()\n",
    "except Exception as e:\n",
    "    logging.exception(e)\n",
    "    raise e"
   ]
  }
 ],
 "metadata": {
  "kernelspec": {
   "display_name": "python3",
   "language": "python",
   "name": "python3"
  },
  "language_info": {
   "name": "python",
   "version": "3.8.16"
  },
  "orig_nbformat": 4
 },
 "nbformat": 4,
 "nbformat_minor": 2
}
