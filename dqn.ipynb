{
 "cells": [
  {
   "cell_type": "code",
   "execution_count": 1,
   "metadata": {},
   "outputs": [],
   "source": [
    "import os\n",
    "os.environ[\"MKL_NUM_THREADS\"] = \"1\" \n",
    "os.environ[\"NUMEXPR_NUM_THREADS\"] = \"1\" \n",
    "os.environ[\"OMP_NUM_THREADS\"] = \"1\" \n",
    "\n",
    "from train import MCTS_HYPERPARAMETERS, load_from_checkpoint, collect_episode, train, rotate_training_examples\n",
    "import torch\n",
    "from resnet import ResNet2Heads\n",
    "from utils import input_to_tensor_3d, input_to_tensor, input_to_tensor_scalar\n",
    "import torch.multiprocessing as mp\n",
    "from train import save_checkpoint, load_from_checkpoint, MetricsHistory, test_network, GameReplayMemory\n",
    "import warnings\n",
    "import matplotlib.pyplot as plt"
   ]
  },
  {
   "cell_type": "code",
   "execution_count": 2,
   "metadata": {},
   "outputs": [],
   "source": [
    "MODEL_TO_LOAD = \"\" # place filename of checkpoint here, otherwise leave empty\n",
    "LOAD_REPLAY_MEMORY = True\n",
    "PLOT_EVERY = 25\n",
    "WARMUP_AMOUNT = 10\n",
    "\n",
    "# HYPERPARAMETERS (will be ignored if loading from a checkpoint)\n",
    "hyperparameters = MCTS_HYPERPARAMETERS() # use kwargs to specify non-default values\n"
   ]
  },
  {
   "cell_type": "code",
   "execution_count": 3,
   "metadata": {},
   "outputs": [
    {
     "data": {
      "text/plain": [
       "<Figure size 640x480 with 0 Axes>"
      ]
     },
     "metadata": {},
     "output_type": "display_data"
    },
    {
     "data": {
      "text/plain": [
       "<Figure size 640x480 with 0 Axes>"
      ]
     },
     "metadata": {},
     "output_type": "display_data"
    },
    {
     "data": {
      "text/plain": [
       "<Figure size 640x480 with 0 Axes>"
      ]
     },
     "metadata": {},
     "output_type": "display_data"
    },
    {
     "data": {
      "text/plain": [
       "<Figure size 640x480 with 0 Axes>"
      ]
     },
     "metadata": {},
     "output_type": "display_data"
    },
    {
     "data": {
      "text/plain": [
       "<Figure size 640x480 with 0 Axes>"
      ]
     },
     "metadata": {},
     "output_type": "display_data"
    },
    {
     "data": {
      "text/plain": [
       "<Figure size 640x480 with 0 Axes>"
      ]
     },
     "metadata": {},
     "output_type": "display_data"
    }
   ],
   "source": [
    "if MODEL_TO_LOAD:\n",
    "    _, model, optimizer, hyperparameters, metrics_history, replay_memory, run_tag = load_from_checkpoint(MODEL_TO_LOAD, ResNet2Heads, load_replay_memory=LOAD_REPLAY_MEMORY)\n",
    "    metrics_history.figs = [plt.figure() for _ in range(6)]\n",
    "else:\n",
    "    hyperparameters.replay_memory_size = 1000\n",
    "    hyperparameters.minibatch_size = 128\n",
    "    hyperparameters.weight_decay = 0.01\n",
    "    hyperparameters.num_mcts_train_evals = 50\n",
    "    hyperparameters.num_episodes = 100000\n",
    "    hyperparameters.mcts_c_puct = 1\n",
    "    hyperparameters.minibatches_per_episode = 16\n",
    "    hyperparameters.lr = 5e-5\n",
    "    hyperparameters.mcts_tau = 0.95\n",
    "    hyperparameters.checkpoint_every = 250\n",
    "    hyperparameters.c_prob = 50\n",
    "    model = ResNet2Heads()\n",
    "    replay_memory = GameReplayMemory(hyperparameters.replay_memory_size)\n",
    "    optimizer = torch.optim.AdamW(model.parameters(), lr=hyperparameters.lr, weight_decay=hyperparameters.weight_decay)\n",
    "    metrics_history = MetricsHistory()\n",
    "    run_tag = 'mcresnet1283'     \n",
    "    episode = 0\n",
    "    \n",
    "    \n",
    "NUM_PROCS = 7"
   ]
  },
  {
   "cell_type": "code",
   "execution_count": 4,
   "metadata": {},
   "outputs": [],
   "source": [
    "collect_episode(model, hyperparameters, input_to_tensor_scalar)"
   ]
  },
  {
   "cell_type": "code",
   "execution_count": 5,
   "metadata": {},
   "outputs": [
    {
     "name": "stderr",
     "output_type": "stream",
     "text": [
      "[W NNPACK.cpp:53] Could not initialize NNPACK! Reason: Unsupported hardware.\n",
      "/Users/marshingjay/opt/anaconda3/envs/python38/lib/python3.8/site-packages/torch/nn/modules/conv.py:459: UserWarning: Using padding='same' with even kernel lengths and odd dilation may require a zero-padded copy of the input be created (Triggered internally at /Users/runner/work/pytorch/pytorch/pytorch/aten/src/ATen/native/Convolution.cpp:896.)\n",
      "  return F.conv2d(input, weight, bias, self.stride,\n",
      "[W NNPACK.cpp:53] Could not initialize NNPACK! Reason: Unsupported hardware.\n",
      "/Users/marshingjay/opt/anaconda3/envs/python38/lib/python3.8/site-packages/torch/nn/modules/conv.py:459: UserWarning: Using padding='same' with even kernel lengths and odd dilation may require a zero-padded copy of the input be created (Triggered internally at /Users/runner/work/pytorch/pytorch/pytorch/aten/src/ATen/native/Convolution.cpp:896.)\n",
      "  return F.conv2d(input, weight, bias, self.stride,\n",
      "[W NNPACK.cpp:53] Could not initialize NNPACK! Reason: Unsupported hardware.\n",
      "/Users/marshingjay/opt/anaconda3/envs/python38/lib/python3.8/site-packages/torch/nn/modules/conv.py:459: UserWarning: Using padding='same' with even kernel lengths and odd dilation may require a zero-padded copy of the input be created (Triggered internally at /Users/runner/work/pytorch/pytorch/pytorch/aten/src/ATen/native/Convolution.cpp:896.)\n",
      "  return F.conv2d(input, weight, bias, self.stride,\n",
      "[W NNPACK.cpp:53] Could not initialize NNPACK! Reason: Unsupported hardware.\n",
      "/Users/marshingjay/opt/anaconda3/envs/python38/lib/python3.8/site-packages/torch/nn/modules/conv.py:459: UserWarning: Using padding='same' with even kernel lengths and odd dilation may require a zero-padded copy of the input be created (Triggered internally at /Users/runner/work/pytorch/pytorch/pytorch/aten/src/ATen/native/Convolution.cpp:896.)\n",
      "  return F.conv2d(input, weight, bias, self.stride,\n",
      "[W NNPACK.cpp:53] Could not initialize NNPACK! Reason: Unsupported hardware.\n",
      "/Users/marshingjay/opt/anaconda3/envs/python38/lib/python3.8/site-packages/torch/nn/modules/conv.py:459: UserWarning: Using padding='same' with even kernel lengths and odd dilation may require a zero-padded copy of the input be created (Triggered internally at /Users/runner/work/pytorch/pytorch/pytorch/aten/src/ATen/native/Convolution.cpp:896.)\n",
      "  return F.conv2d(input, weight, bias, self.stride,\n",
      "[W NNPACK.cpp:53] Could not initialize NNPACK! Reason: Unsupported hardware.\n",
      "/Users/marshingjay/opt/anaconda3/envs/python38/lib/python3.8/site-packages/torch/nn/modules/conv.py:459: UserWarning: Using padding='same' with even kernel lengths and odd dilation may require a zero-padded copy of the input be created (Triggered internally at /Users/runner/work/pytorch/pytorch/pytorch/aten/src/ATen/native/Convolution.cpp:896.)\n",
      "  return F.conv2d(input, weight, bias, self.stride,\n",
      "[W NNPACK.cpp:53] Could not initialize NNPACK! Reason: Unsupported hardware.\n",
      "/Users/marshingjay/opt/anaconda3/envs/python38/lib/python3.8/site-packages/torch/nn/modules/conv.py:459: UserWarning: Using padding='same' with even kernel lengths and odd dilation may require a zero-padded copy of the input be created (Triggered internally at /Users/runner/work/pytorch/pytorch/pytorch/aten/src/ATen/native/Convolution.cpp:896.)\n",
      "  return F.conv2d(input, weight, bias, self.stride,\n"
     ]
    },
    {
     "name": "stdout",
     "output_type": "stream",
     "text": [
      "Replay memory size not large enough, 1 < 10\n",
      "Replay memory size not large enough, 2 < 10\n",
      "Replay memory size not large enough, 3 < 10\n",
      "Replay memory size not large enough, 4 < 10\n",
      "Replay memory size not large enough, 5 < 10\n",
      "Replay memory size not large enough, 6 < 10\n",
      "Replay memory size not large enough, 7 < 10\n",
      "Replay memory size not large enough, 8 < 10\n",
      "Replay memory size not large enough, 9 < 10\n"
     ]
    },
    {
     "name": "stderr",
     "output_type": "stream",
     "text": [
      "Exception in thread Thread-7:\n",
      "Traceback (most recent call last):\n",
      "  File \"/Users/marshingjay/opt/anaconda3/envs/python38/lib/python3.8/threading.py\", line 932, in _bootstrap_inner\n",
      "    self.run()\n",
      "  File \"/Users/marshingjay/opt/anaconda3/envs/python38/lib/python3.8/threading.py\", line 870, in run\n",
      "    self._target(*self._args, **self._kwargs)\n",
      "  File \"/Users/marshingjay/opt/anaconda3/envs/python38/lib/python3.8/multiprocessing/pool.py\", line 592, in _handle_results\n",
      "    cache[job]._set(i, obj)\n",
      "  File \"/Users/marshingjay/opt/anaconda3/envs/python38/lib/python3.8/multiprocessing/pool.py\", line 776, in _set\n",
      "    self._callback(self._value)\n",
      "  File \"/var/folders/bd/sfd5qw2j27v1b3ht5zx176l00000gn/T/ipykernel_37854/531245689.py\", line 11, in enque_and_train\n",
      "  File \"/Users/marshingjay/Repos/2048_dqn/train.py\", line 165, in train\n",
      "    obs = tensor_conversion_fn(obs)\n",
      "  File \"/Users/marshingjay/Repos/2048_dqn/utils.py\", line 28, in input_to_tensor_scalar\n",
      "    torch.tensor(board, dtype=torch.float)\n",
      "ValueError: At least one stride in the given numpy array is negative, and tensors with negative strides are not currently supported. (You can probably work around this by making a copy of your array  with array.copy().) \n",
      "Process SpawnPoolWorker-3:\n",
      "Process SpawnPoolWorker-1:\n",
      "Process SpawnPoolWorker-4:\n",
      "Process SpawnPoolWorker-7:\n",
      "Traceback (most recent call last):\n",
      "  File \"/Users/marshingjay/opt/anaconda3/envs/python38/lib/python3.8/multiprocessing/process.py\", line 315, in _bootstrap\n",
      "    self.run()\n",
      "  File \"/Users/marshingjay/opt/anaconda3/envs/python38/lib/python3.8/multiprocessing/process.py\", line 108, in run\n",
      "    self._target(*self._args, **self._kwargs)\n",
      "  File \"/Users/marshingjay/opt/anaconda3/envs/python38/lib/python3.8/multiprocessing/pool.py\", line 131, in worker\n",
      "    put((job, i, result))\n",
      "  File \"/Users/marshingjay/opt/anaconda3/envs/python38/lib/python3.8/multiprocessing/queues.py\", line 367, in put\n",
      "    with self._wlock:\n",
      "  File \"/Users/marshingjay/opt/anaconda3/envs/python38/lib/python3.8/multiprocessing/synchronize.py\", line 95, in __enter__\n",
      "    return self._semlock.__enter__()\n",
      "KeyboardInterrupt\n",
      "Process SpawnPoolWorker-5:\n",
      "Process SpawnPoolWorker-2:\n",
      "Traceback (most recent call last):\n",
      "  File \"/Users/marshingjay/opt/anaconda3/envs/python38/lib/python3.8/multiprocessing/process.py\", line 315, in _bootstrap\n",
      "    self.run()\n",
      "  File \"/Users/marshingjay/opt/anaconda3/envs/python38/lib/python3.8/multiprocessing/process.py\", line 108, in run\n",
      "    self._target(*self._args, **self._kwargs)\n",
      "  File \"/Users/marshingjay/opt/anaconda3/envs/python38/lib/python3.8/multiprocessing/pool.py\", line 131, in worker\n",
      "    put((job, i, result))\n",
      "  File \"/Users/marshingjay/opt/anaconda3/envs/python38/lib/python3.8/multiprocessing/queues.py\", line 368, in put\n",
      "    self._writer.send_bytes(obj)\n",
      "  File \"/Users/marshingjay/opt/anaconda3/envs/python38/lib/python3.8/multiprocessing/connection.py\", line 200, in send_bytes\n",
      "    self._send_bytes(m[offset:offset + size])\n",
      "  File \"/Users/marshingjay/opt/anaconda3/envs/python38/lib/python3.8/multiprocessing/connection.py\", line 405, in _send_bytes\n",
      "    self._send(buf)\n",
      "  File \"/Users/marshingjay/opt/anaconda3/envs/python38/lib/python3.8/multiprocessing/connection.py\", line 368, in _send\n",
      "    n = write(self._handle, buf)\n",
      "KeyboardInterrupt\n",
      "Traceback (most recent call last):\n",
      "  File \"/Users/marshingjay/opt/anaconda3/envs/python38/lib/python3.8/multiprocessing/process.py\", line 315, in _bootstrap\n",
      "    self.run()\n",
      "  File \"/Users/marshingjay/opt/anaconda3/envs/python38/lib/python3.8/multiprocessing/process.py\", line 108, in run\n",
      "    self._target(*self._args, **self._kwargs)\n",
      "  File \"/Users/marshingjay/opt/anaconda3/envs/python38/lib/python3.8/multiprocessing/pool.py\", line 131, in worker\n",
      "    put((job, i, result))\n",
      "  File \"/Users/marshingjay/opt/anaconda3/envs/python38/lib/python3.8/multiprocessing/queues.py\", line 367, in put\n",
      "    with self._wlock:\n",
      "  File \"/Users/marshingjay/opt/anaconda3/envs/python38/lib/python3.8/multiprocessing/synchronize.py\", line 95, in __enter__\n",
      "    return self._semlock.__enter__()\n",
      "KeyboardInterrupt\n",
      "Traceback (most recent call last):\n",
      "Process SpawnPoolWorker-6:\n",
      "  File \"/Users/marshingjay/opt/anaconda3/envs/python38/lib/python3.8/multiprocessing/process.py\", line 315, in _bootstrap\n",
      "    self.run()\n",
      "  File \"/Users/marshingjay/opt/anaconda3/envs/python38/lib/python3.8/multiprocessing/process.py\", line 108, in run\n",
      "    self._target(*self._args, **self._kwargs)\n",
      "  File \"/Users/marshingjay/opt/anaconda3/envs/python38/lib/python3.8/multiprocessing/pool.py\", line 131, in worker\n",
      "    put((job, i, result))\n",
      "  File \"/Users/marshingjay/opt/anaconda3/envs/python38/lib/python3.8/multiprocessing/queues.py\", line 367, in put\n",
      "    with self._wlock:\n",
      "  File \"/Users/marshingjay/opt/anaconda3/envs/python38/lib/python3.8/multiprocessing/synchronize.py\", line 95, in __enter__\n",
      "    return self._semlock.__enter__()\n",
      "KeyboardInterrupt\n",
      "Traceback (most recent call last):\n",
      "Traceback (most recent call last):\n",
      "  File \"/Users/marshingjay/opt/anaconda3/envs/python38/lib/python3.8/multiprocessing/process.py\", line 315, in _bootstrap\n",
      "    self.run()\n",
      "  File \"/Users/marshingjay/opt/anaconda3/envs/python38/lib/python3.8/multiprocessing/process.py\", line 108, in run\n",
      "    self._target(*self._args, **self._kwargs)\n",
      "  File \"/Users/marshingjay/opt/anaconda3/envs/python38/lib/python3.8/multiprocessing/pool.py\", line 125, in worker\n",
      "    result = (True, func(*args, **kwds))\n",
      "  File \"/Users/marshingjay/Repos/2048_dqn/train.py\", line 215, in collect_episode\n",
      "    terminated, inputs, reward, mcts_probs, _ = mcts.choose_progression(hyperparameters.num_mcts_train_evals)\n",
      "  File \"/Users/marshingjay/Repos/2048_dqn/mcts.py\", line 130, in choose_progression\n",
      "    self.iterate_v2(self.puct_node)\n",
      "  File \"/Users/marshingjay/Repos/2048_dqn/mcts.py\", line 82, in iterate_v2\n",
      "    reward = self.iterate_v2(puct_node.children[best_move][placement])\n",
      "  File \"/Users/marshingjay/Repos/2048_dqn/mcts.py\", line 65, in iterate_v2\n",
      "    probs, values = self.model(boards)\n",
      "  File \"/Users/marshingjay/opt/anaconda3/envs/python38/lib/python3.8/site-packages/torch/nn/modules/module.py\", line 1194, in _call_impl\n",
      "    return forward_call(*input, **kwargs)\n",
      "  File \"/Users/marshingjay/Repos/2048_dqn/resnet.py\", line 74, in forward\n",
      "    x = self.res_blocks(x)\n",
      "  File \"/Users/marshingjay/opt/anaconda3/envs/python38/lib/python3.8/site-packages/torch/nn/modules/module.py\", line 1194, in _call_impl\n",
      "    return forward_call(*input, **kwargs)\n",
      "  File \"/Users/marshingjay/opt/anaconda3/envs/python38/lib/python3.8/site-packages/torch/nn/modules/container.py\", line 204, in forward\n",
      "    input = module(input)\n",
      "  File \"/Users/marshingjay/opt/anaconda3/envs/python38/lib/python3.8/site-packages/torch/nn/modules/module.py\", line 1194, in _call_impl\n",
      "    return forward_call(*input, **kwargs)\n",
      "  File \"/Users/marshingjay/Repos/2048_dqn/resnet.py\", line 22, in forward\n",
      "    out = self.conv2(out)\n",
      "  File \"/Users/marshingjay/opt/anaconda3/envs/python38/lib/python3.8/multiprocessing/process.py\", line 315, in _bootstrap\n",
      "    self.run()\n",
      "  File \"/Users/marshingjay/opt/anaconda3/envs/python38/lib/python3.8/site-packages/torch/nn/modules/module.py\", line 1194, in _call_impl\n",
      "    return forward_call(*input, **kwargs)\n",
      "  File \"/Users/marshingjay/opt/anaconda3/envs/python38/lib/python3.8/multiprocessing/process.py\", line 108, in run\n",
      "    self._target(*self._args, **self._kwargs)\n",
      "  File \"/Users/marshingjay/opt/anaconda3/envs/python38/lib/python3.8/site-packages/torch/nn/modules/container.py\", line 204, in forward\n",
      "    input = module(input)\n",
      "  File \"/Users/marshingjay/opt/anaconda3/envs/python38/lib/python3.8/multiprocessing/pool.py\", line 125, in worker\n",
      "    result = (True, func(*args, **kwds))\n",
      "  File \"/Users/marshingjay/opt/anaconda3/envs/python38/lib/python3.8/site-packages/torch/nn/modules/module.py\", line 1194, in _call_impl\n",
      "    return forward_call(*input, **kwargs)\n",
      "  File \"/Users/marshingjay/Repos/2048_dqn/train.py\", line 215, in collect_episode\n",
      "    terminated, inputs, reward, mcts_probs, _ = mcts.choose_progression(hyperparameters.num_mcts_train_evals)\n",
      "  File \"/Users/marshingjay/opt/anaconda3/envs/python38/lib/python3.8/site-packages/torch/nn/modules/conv.py\", line 463, in forward\n",
      "    return self._conv_forward(input, self.weight, self.bias)\n",
      "  File \"/Users/marshingjay/Repos/2048_dqn/mcts.py\", line 130, in choose_progression\n",
      "    self.iterate_v2(self.puct_node)\n",
      "  File \"/Users/marshingjay/opt/anaconda3/envs/python38/lib/python3.8/site-packages/torch/nn/modules/conv.py\", line 459, in _conv_forward\n",
      "    return F.conv2d(input, weight, bias, self.stride,\n",
      "  File \"/Users/marshingjay/Repos/2048_dqn/mcts.py\", line 82, in iterate_v2\n",
      "    reward = self.iterate_v2(puct_node.children[best_move][placement])\n",
      "  File \"/Users/marshingjay/Repos/2048_dqn/mcts.py\", line 65, in iterate_v2\n",
      "    probs, values = self.model(boards)\n",
      "  File \"/Users/marshingjay/opt/anaconda3/envs/python38/lib/python3.8/site-packages/torch/nn/modules/module.py\", line 1194, in _call_impl\n",
      "    return forward_call(*input, **kwargs)\n",
      "  File \"/Users/marshingjay/Repos/2048_dqn/resnet.py\", line 74, in forward\n",
      "    x = self.res_blocks(x)\n",
      "  File \"/Users/marshingjay/opt/anaconda3/envs/python38/lib/python3.8/site-packages/torch/nn/modules/module.py\", line 1194, in _call_impl\n",
      "    return forward_call(*input, **kwargs)\n",
      "  File \"/Users/marshingjay/opt/anaconda3/envs/python38/lib/python3.8/site-packages/torch/nn/modules/container.py\", line 204, in forward\n",
      "    input = module(input)\n",
      "  File \"/Users/marshingjay/opt/anaconda3/envs/python38/lib/python3.8/site-packages/torch/nn/modules/module.py\", line 1194, in _call_impl\n",
      "    return forward_call(*input, **kwargs)\n",
      "KeyboardInterrupt\n",
      "  File \"/Users/marshingjay/Repos/2048_dqn/resnet.py\", line 21, in forward\n",
      "    out = self.conv1(x)\n",
      "  File \"/Users/marshingjay/opt/anaconda3/envs/python38/lib/python3.8/site-packages/torch/nn/modules/module.py\", line 1194, in _call_impl\n",
      "    return forward_call(*input, **kwargs)\n",
      "  File \"/Users/marshingjay/opt/anaconda3/envs/python38/lib/python3.8/site-packages/torch/nn/modules/container.py\", line 204, in forward\n",
      "    input = module(input)\n",
      "  File \"/Users/marshingjay/opt/anaconda3/envs/python38/lib/python3.8/site-packages/torch/nn/modules/module.py\", line 1194, in _call_impl\n",
      "    return forward_call(*input, **kwargs)\n",
      "  File \"/Users/marshingjay/opt/anaconda3/envs/python38/lib/python3.8/site-packages/torch/nn/modules/conv.py\", line 463, in forward\n",
      "    return self._conv_forward(input, self.weight, self.bias)\n",
      "  File \"/Users/marshingjay/opt/anaconda3/envs/python38/lib/python3.8/site-packages/torch/nn/modules/conv.py\", line 459, in _conv_forward\n",
      "    return F.conv2d(input, weight, bias, self.stride,\n",
      "KeyboardInterrupt\n",
      "Traceback (most recent call last):\n",
      "  File \"/Users/marshingjay/opt/anaconda3/envs/python38/lib/python3.8/multiprocessing/process.py\", line 315, in _bootstrap\n",
      "    self.run()\n",
      "  File \"/Users/marshingjay/opt/anaconda3/envs/python38/lib/python3.8/multiprocessing/process.py\", line 108, in run\n",
      "    self._target(*self._args, **self._kwargs)\n",
      "  File \"/Users/marshingjay/opt/anaconda3/envs/python38/lib/python3.8/multiprocessing/pool.py\", line 125, in worker\n",
      "    result = (True, func(*args, **kwds))\n",
      "  File \"/Users/marshingjay/Repos/2048_dqn/train.py\", line 215, in collect_episode\n",
      "    terminated, inputs, reward, mcts_probs, _ = mcts.choose_progression(hyperparameters.num_mcts_train_evals)\n",
      "  File \"/Users/marshingjay/Repos/2048_dqn/mcts.py\", line 130, in choose_progression\n",
      "    self.iterate_v2(self.puct_node)\n",
      "  File \"/Users/marshingjay/Repos/2048_dqn/mcts.py\", line 82, in iterate_v2\n",
      "    reward = self.iterate_v2(puct_node.children[best_move][placement])\n",
      "  File \"/Users/marshingjay/Repos/2048_dqn/mcts.py\", line 65, in iterate_v2\n",
      "    probs, values = self.model(boards)\n",
      "  File \"/Users/marshingjay/opt/anaconda3/envs/python38/lib/python3.8/site-packages/torch/nn/modules/module.py\", line 1194, in _call_impl\n",
      "    return forward_call(*input, **kwargs)\n",
      "  File \"/Users/marshingjay/Repos/2048_dqn/resnet.py\", line 74, in forward\n",
      "    x = self.res_blocks(x)\n",
      "  File \"/Users/marshingjay/opt/anaconda3/envs/python38/lib/python3.8/site-packages/torch/nn/modules/module.py\", line 1194, in _call_impl\n",
      "    return forward_call(*input, **kwargs)\n",
      "  File \"/Users/marshingjay/opt/anaconda3/envs/python38/lib/python3.8/site-packages/torch/nn/modules/container.py\", line 204, in forward\n",
      "    input = module(input)\n",
      "  File \"/Users/marshingjay/opt/anaconda3/envs/python38/lib/python3.8/site-packages/torch/nn/modules/module.py\", line 1194, in _call_impl\n",
      "    return forward_call(*input, **kwargs)\n",
      "  File \"/Users/marshingjay/Repos/2048_dqn/resnet.py\", line 21, in forward\n",
      "    out = self.conv1(x)\n",
      "  File \"/Users/marshingjay/opt/anaconda3/envs/python38/lib/python3.8/site-packages/torch/nn/modules/module.py\", line 1194, in _call_impl\n",
      "    return forward_call(*input, **kwargs)\n",
      "  File \"/Users/marshingjay/opt/anaconda3/envs/python38/lib/python3.8/site-packages/torch/nn/modules/container.py\", line 204, in forward\n",
      "    input = module(input)\n",
      "  File \"/Users/marshingjay/opt/anaconda3/envs/python38/lib/python3.8/site-packages/torch/nn/modules/module.py\", line 1194, in _call_impl\n",
      "    return forward_call(*input, **kwargs)\n",
      "  File \"/Users/marshingjay/opt/anaconda3/envs/python38/lib/python3.8/site-packages/torch/nn/modules/conv.py\", line 463, in forward\n",
      "    return self._conv_forward(input, self.weight, self.bias)\n",
      "  File \"/Users/marshingjay/opt/anaconda3/envs/python38/lib/python3.8/site-packages/torch/nn/modules/conv.py\", line 459, in _conv_forward\n",
      "    return F.conv2d(input, weight, bias, self.stride,\n",
      "KeyboardInterrupt\n"
     ]
    },
    {
     "ename": "AssertionError",
     "evalue": "Cannot have cache with result_hander not alive",
     "output_type": "error",
     "traceback": [
      "\u001b[0;31m---------------------------------------------------------------------------\u001b[0m",
      "\u001b[0;31mKeyboardInterrupt\u001b[0m                         Traceback (most recent call last)",
      "Cell \u001b[0;32mIn[5], line 46\u001b[0m\n\u001b[1;32m     45\u001b[0m \u001b[39mfor\u001b[39;00m r \u001b[39min\u001b[39;00m results:\n\u001b[0;32m---> 46\u001b[0m     r\u001b[39m.\u001b[39;49mwait()\n",
      "File \u001b[0;32m~/opt/anaconda3/envs/python38/lib/python3.8/multiprocessing/pool.py:762\u001b[0m, in \u001b[0;36mApplyResult.wait\u001b[0;34m(self, timeout)\u001b[0m\n\u001b[1;32m    761\u001b[0m \u001b[39mdef\u001b[39;00m \u001b[39mwait\u001b[39m(\u001b[39mself\u001b[39m, timeout\u001b[39m=\u001b[39m\u001b[39mNone\u001b[39;00m):\n\u001b[0;32m--> 762\u001b[0m     \u001b[39mself\u001b[39;49m\u001b[39m.\u001b[39;49m_event\u001b[39m.\u001b[39;49mwait(timeout)\n",
      "File \u001b[0;32m~/opt/anaconda3/envs/python38/lib/python3.8/threading.py:558\u001b[0m, in \u001b[0;36mEvent.wait\u001b[0;34m(self, timeout)\u001b[0m\n\u001b[1;32m    557\u001b[0m \u001b[39mif\u001b[39;00m \u001b[39mnot\u001b[39;00m signaled:\n\u001b[0;32m--> 558\u001b[0m     signaled \u001b[39m=\u001b[39m \u001b[39mself\u001b[39;49m\u001b[39m.\u001b[39;49m_cond\u001b[39m.\u001b[39;49mwait(timeout)\n\u001b[1;32m    559\u001b[0m \u001b[39mreturn\u001b[39;00m signaled\n",
      "File \u001b[0;32m~/opt/anaconda3/envs/python38/lib/python3.8/threading.py:302\u001b[0m, in \u001b[0;36mCondition.wait\u001b[0;34m(self, timeout)\u001b[0m\n\u001b[1;32m    301\u001b[0m \u001b[39mif\u001b[39;00m timeout \u001b[39mis\u001b[39;00m \u001b[39mNone\u001b[39;00m:\n\u001b[0;32m--> 302\u001b[0m     waiter\u001b[39m.\u001b[39;49macquire()\n\u001b[1;32m    303\u001b[0m     gotit \u001b[39m=\u001b[39m \u001b[39mTrue\u001b[39;00m\n",
      "\u001b[0;31mKeyboardInterrupt\u001b[0m: ",
      "\nDuring handling of the above exception, another exception occurred:\n",
      "\u001b[0;31mAssertionError\u001b[0m                            Traceback (most recent call last)",
      "Cell \u001b[0;32mIn[5], line 46\u001b[0m\n\u001b[1;32m     44\u001b[0m     results\u001b[39m.\u001b[39mappend(p\u001b[39m.\u001b[39mapply_async(collect_episode, (model, hyperparameters, input_to_tensor_scalar, ), callback\u001b[39m=\u001b[39menque_and_train, error_callback\u001b[39m=\u001b[39m\u001b[39mprint\u001b[39m))\n\u001b[1;32m     45\u001b[0m \u001b[39mfor\u001b[39;00m r \u001b[39min\u001b[39;00m results:\n\u001b[0;32m---> 46\u001b[0m     r\u001b[39m.\u001b[39mwait()\n",
      "File \u001b[0;32m~/opt/anaconda3/envs/python38/lib/python3.8/multiprocessing/pool.py:736\u001b[0m, in \u001b[0;36mPool.__exit__\u001b[0;34m(self, exc_type, exc_val, exc_tb)\u001b[0m\n\u001b[1;32m    735\u001b[0m \u001b[39mdef\u001b[39;00m \u001b[39m__exit__\u001b[39m(\u001b[39mself\u001b[39m, exc_type, exc_val, exc_tb):\n\u001b[0;32m--> 736\u001b[0m     \u001b[39mself\u001b[39;49m\u001b[39m.\u001b[39;49mterminate()\n",
      "File \u001b[0;32m~/opt/anaconda3/envs/python38/lib/python3.8/multiprocessing/pool.py:654\u001b[0m, in \u001b[0;36mPool.terminate\u001b[0;34m(self)\u001b[0m\n\u001b[1;32m    652\u001b[0m util\u001b[39m.\u001b[39mdebug(\u001b[39m'\u001b[39m\u001b[39mterminating pool\u001b[39m\u001b[39m'\u001b[39m)\n\u001b[1;32m    653\u001b[0m \u001b[39mself\u001b[39m\u001b[39m.\u001b[39m_state \u001b[39m=\u001b[39m TERMINATE\n\u001b[0;32m--> 654\u001b[0m \u001b[39mself\u001b[39;49m\u001b[39m.\u001b[39;49m_terminate()\n",
      "File \u001b[0;32m~/opt/anaconda3/envs/python38/lib/python3.8/multiprocessing/util.py:224\u001b[0m, in \u001b[0;36mFinalize.__call__\u001b[0;34m(self, wr, _finalizer_registry, sub_debug, getpid)\u001b[0m\n\u001b[1;32m    221\u001b[0m \u001b[39melse\u001b[39;00m:\n\u001b[1;32m    222\u001b[0m     sub_debug(\u001b[39m'\u001b[39m\u001b[39mfinalizer calling \u001b[39m\u001b[39m%s\u001b[39;00m\u001b[39m with args \u001b[39m\u001b[39m%s\u001b[39;00m\u001b[39m and kwargs \u001b[39m\u001b[39m%s\u001b[39;00m\u001b[39m'\u001b[39m,\n\u001b[1;32m    223\u001b[0m               \u001b[39mself\u001b[39m\u001b[39m.\u001b[39m_callback, \u001b[39mself\u001b[39m\u001b[39m.\u001b[39m_args, \u001b[39mself\u001b[39m\u001b[39m.\u001b[39m_kwargs)\n\u001b[0;32m--> 224\u001b[0m     res \u001b[39m=\u001b[39m \u001b[39mself\u001b[39;49m\u001b[39m.\u001b[39;49m_callback(\u001b[39m*\u001b[39;49m\u001b[39mself\u001b[39;49m\u001b[39m.\u001b[39;49m_args, \u001b[39m*\u001b[39;49m\u001b[39m*\u001b[39;49m\u001b[39mself\u001b[39;49m\u001b[39m.\u001b[39;49m_kwargs)\n\u001b[1;32m    225\u001b[0m \u001b[39mself\u001b[39m\u001b[39m.\u001b[39m_weakref \u001b[39m=\u001b[39m \u001b[39mself\u001b[39m\u001b[39m.\u001b[39m_callback \u001b[39m=\u001b[39m \u001b[39mself\u001b[39m\u001b[39m.\u001b[39m_args \u001b[39m=\u001b[39m \\\n\u001b[1;32m    226\u001b[0m                 \u001b[39mself\u001b[39m\u001b[39m.\u001b[39m_kwargs \u001b[39m=\u001b[39m \u001b[39mself\u001b[39m\u001b[39m.\u001b[39m_key \u001b[39m=\u001b[39m \u001b[39mNone\u001b[39;00m\n\u001b[1;32m    227\u001b[0m \u001b[39mreturn\u001b[39;00m res\n",
      "File \u001b[0;32m~/opt/anaconda3/envs/python38/lib/python3.8/multiprocessing/pool.py:695\u001b[0m, in \u001b[0;36mPool._terminate_pool\u001b[0;34m(cls, taskqueue, inqueue, outqueue, pool, change_notifier, worker_handler, task_handler, result_handler, cache)\u001b[0m\n\u001b[1;32m    692\u001b[0m \u001b[39mcls\u001b[39m\u001b[39m.\u001b[39m_help_stuff_finish(inqueue, task_handler, \u001b[39mlen\u001b[39m(pool))\n\u001b[1;32m    694\u001b[0m \u001b[39mif\u001b[39;00m (\u001b[39mnot\u001b[39;00m result_handler\u001b[39m.\u001b[39mis_alive()) \u001b[39mand\u001b[39;00m (\u001b[39mlen\u001b[39m(cache) \u001b[39m!=\u001b[39m \u001b[39m0\u001b[39m):\n\u001b[0;32m--> 695\u001b[0m     \u001b[39mraise\u001b[39;00m \u001b[39mAssertionError\u001b[39;00m(\n\u001b[1;32m    696\u001b[0m         \u001b[39m\"\u001b[39m\u001b[39mCannot have cache with result_hander not alive\u001b[39m\u001b[39m\"\u001b[39m)\n\u001b[1;32m    698\u001b[0m result_handler\u001b[39m.\u001b[39m_state \u001b[39m=\u001b[39m TERMINATE\n\u001b[1;32m    699\u001b[0m change_notifier\u001b[39m.\u001b[39mput(\u001b[39mNone\u001b[39;00m)\n",
      "\u001b[0;31mAssertionError\u001b[0m: Cannot have cache with result_hander not alive"
     ]
    }
   ],
   "source": [
    "def enque_and_train(results):\n",
    "    torch.set_num_threads(4)\n",
    "    \n",
    "    training_examples, reward, moves, high_square, pid = results\n",
    "    training_examples = rotate_training_examples(training_examples)\n",
    "    replay_memory.insert(list(training_examples))\n",
    "    \n",
    "    if replay_memory.size() >= WARMUP_AMOUNT:\n",
    "        cum_vl, cum_pl, cum_tl = 0.0, 0.0, 0.0\n",
    "        for i in range(hyperparameters.minibatches_per_episode):\n",
    "            value_loss, prob_loss, total_loss = train(replay_memory.sample(hyperparameters.minibatch_size), model, optimizer, tensor_conversion_fn=input_to_tensor_scalar, c_prob=hyperparameters.c_prob)\n",
    "            cum_vl += value_loss\n",
    "            cum_pl += prob_loss\n",
    "            cum_tl += total_loss\n",
    "        cum_vl /= hyperparameters.minibatches_per_episode\n",
    "        cum_pl /= hyperparameters.minibatches_per_episode\n",
    "        cum_tl /= hyperparameters.minibatches_per_episode\n",
    "        new_best = metrics_history.add_history({\n",
    "            'reward': reward,\n",
    "            'game_moves': moves,\n",
    "            'prob_loss': cum_pl,\n",
    "            'value_loss': cum_vl,\n",
    "            'total_loss': cum_tl,\n",
    "            'high_square': high_square\n",
    "        })\n",
    "        if metrics_history.episodes % PLOT_EVERY == 0:\n",
    "            metrics_history.plot_history(window_size=100)\n",
    "        \n",
    "        if new_best:\n",
    "            print(f'*** NEW BEST REWARD: {metrics_history.best_result} ***')\n",
    "        \n",
    "        print(f'[EPISODE {metrics_history.episodes}] Total Loss: {cum_tl}, Prob Loss {cum_pl}, Value Loss {cum_vl}, Reward {reward}, Moves: {moves}, Highest Square: {high_square}, PID: {pid}')\n",
    "        if metrics_history.episodes % hyperparameters.checkpoint_every == 0:\n",
    "            print('Saving model checkpoint...')\n",
    "            save_checkpoint(metrics_history.episodes, model, optimizer, hyperparameters, metrics_history, replay_memory, run_tag=run_tag, save_replay_memory=True)\n",
    "            print('Saved model checkpoint!')\n",
    "    else:\n",
    "        print(f'Replay memory size not large enough, {replay_memory.size()} < {WARMUP_AMOUNT}')\n",
    "with warnings.catch_warnings():\n",
    "    warnings.simplefilter('ignore')\n",
    "    with mp.Pool(NUM_PROCS) as p:\n",
    "        results = []\n",
    "        for n in range(metrics_history.episodes, hyperparameters.num_episodes):\n",
    "            results.append(p.apply_async(collect_episode, (model, hyperparameters, input_to_tensor_scalar, ), callback=enque_and_train, error_callback=print))\n",
    "        for r in results:\n",
    "            r.wait()"
   ]
  },
  {
   "cell_type": "code",
   "execution_count": null,
   "metadata": {},
   "outputs": [],
   "source": [
    "# test_network(model, hyperparameters, input_to_tensor, debug_print=True)"
   ]
  },
  {
   "cell_type": "code",
   "execution_count": null,
   "metadata": {},
   "outputs": [],
   "source": []
  },
  {
   "cell_type": "code",
   "execution_count": null,
   "metadata": {},
   "outputs": [],
   "source": []
  }
 ],
 "metadata": {
  "kernelspec": {
   "display_name": "Python 3",
   "language": "python",
   "name": "python3"
  },
  "language_info": {
   "codemirror_mode": {
    "name": "ipython",
    "version": 3
   },
   "file_extension": ".py",
   "mimetype": "text/x-python",
   "name": "python",
   "nbconvert_exporter": "python",
   "pygments_lexer": "ipython3",
   "version": "3.8.16"
  },
  "vscode": {
   "interpreter": {
    "hash": "644e7a931897874d9649e2ac8857f34ca516c0cb177a94235220b02fad034c18"
   }
  }
 },
 "nbformat": 4,
 "nbformat_minor": 4
}
