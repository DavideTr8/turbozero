{
 "cells": [
  {
   "cell_type": "code",
   "execution_count": 1,
   "metadata": {},
   "outputs": [],
   "source": [
    "import os\n",
    "os.environ[\"MKL_NUM_THREADS\"] = \"1\" \n",
    "os.environ[\"NUMEXPR_NUM_THREADS\"] = \"1\" \n",
    "os.environ[\"OMP_NUM_THREADS\"] = \"1\" \n",
    "\n",
    "from train import MCTS_HYPERPARAMETERS, load_from_checkpoint, collect_episode, train, rotate_training_examples\n",
    "import torch\n",
    "from resnet import ResNet2Heads\n",
    "from utils import input_to_tensor_3d, input_to_tensor, input_to_tensor_scalar\n",
    "import torch.multiprocessing as mp\n",
    "from train import save_checkpoint, load_from_checkpoint, MetricsHistory, test_network, GameReplayMemory\n",
    "import warnings\n",
    "import matplotlib.pyplot as plt"
   ]
  },
  {
   "cell_type": "code",
   "execution_count": 2,
   "metadata": {},
   "outputs": [],
   "source": [
    "MODEL_TO_LOAD = \"\" # place filename of checkpoint here, otherwise leave empty\n",
    "LOAD_REPLAY_MEMORY = True\n",
    "PLOT_EVERY = 1\n",
    "WARMUP_AMOUNT = 1000\n",
    "NUM_COLLECTION_PROCS = 30\n",
    "NUM_TRAIN_PROCS = 1\n",
    "\n",
    "# HYPERPARAMETERS (will be ignored if loading from a checkpoint)\n",
    "hyperparameters = MCTS_HYPERPARAMETERS() # use kwargs to specify non-default values\n"
   ]
  },
  {
   "cell_type": "code",
   "execution_count": 3,
   "metadata": {},
   "outputs": [
    {
     "data": {
      "text/plain": [
       "<Figure size 640x480 with 0 Axes>"
      ]
     },
     "metadata": {},
     "output_type": "display_data"
    },
    {
     "data": {
      "text/plain": [
       "<Figure size 640x480 with 0 Axes>"
      ]
     },
     "metadata": {},
     "output_type": "display_data"
    },
    {
     "data": {
      "text/plain": [
       "<Figure size 640x480 with 0 Axes>"
      ]
     },
     "metadata": {},
     "output_type": "display_data"
    },
    {
     "data": {
      "text/plain": [
       "<Figure size 640x480 with 0 Axes>"
      ]
     },
     "metadata": {},
     "output_type": "display_data"
    },
    {
     "data": {
      "text/plain": [
       "<Figure size 640x480 with 0 Axes>"
      ]
     },
     "metadata": {},
     "output_type": "display_data"
    },
    {
     "data": {
      "text/plain": [
       "<Figure size 640x480 with 0 Axes>"
      ]
     },
     "metadata": {},
     "output_type": "display_data"
    },
    {
     "data": {
      "text/plain": [
       "<Figure size 640x480 with 0 Axes>"
      ]
     },
     "metadata": {},
     "output_type": "display_data"
    },
    {
     "data": {
      "text/plain": [
       "<Figure size 640x480 with 0 Axes>"
      ]
     },
     "metadata": {},
     "output_type": "display_data"
    },
    {
     "data": {
      "text/plain": [
       "<Figure size 640x480 with 0 Axes>"
      ]
     },
     "metadata": {},
     "output_type": "display_data"
    }
   ],
   "source": [
    "if MODEL_TO_LOAD:\n",
    "    _, model, optimizer, hyperparameters, metrics_history, replay_memory, run_tag = load_from_checkpoint(MODEL_TO_LOAD, ResNet2Heads, load_replay_memory=LOAD_REPLAY_MEMORY)\n",
    "else:\n",
    "\n",
    "    # Set any hyperparameters you want to change here\n",
    "    hyperparameters.replay_memory_size = 1000\n",
    "    hyperparameters.minibatch_size = 128\n",
    "    hyperparameters.weight_decay = 0.01\n",
    "    hyperparameters.num_mcts_train_evals = 50\n",
    "    hyperparameters.num_mcts_test_evals = 200\n",
    "    hyperparameters.num_episodes = 100000\n",
    "    hyperparameters.mcts_c_puct = 1\n",
    "    hyperparameters.minibatches_per_episode = 16\n",
    "    hyperparameters.lr = 1e-4\n",
    "    hyperparameters.mcts_tau = 0.95\n",
    "    hyperparameters.checkpoint_every = 250\n",
    "    hyperparameters.c_prob = 50\n",
    "    hyperparameters.episodes_per_epoch = 1000\n",
    "    hyperparameters.num_epochs = 1000\n",
    "    hyperparameters.num_eval_games = 200\n",
    "\n",
    "    # init model, replay memory, optimizer, and metrics history\n",
    "    model = ResNet2Heads()\n",
    "    replay_memory = GameReplayMemory(hyperparameters.replay_memory_size)\n",
    "    optimizer = torch.optim.AdamW(model.parameters(), lr=hyperparameters.lr, weight_decay=hyperparameters.weight_decay)\n",
    "    metrics_history = MetricsHistory()\n",
    "    run_tag = 'resnet64'     \n",
    "    \n",
    "    \n"
   ]
  },
  {
   "cell_type": "code",
   "execution_count": 4,
   "metadata": {},
   "outputs": [],
   "source": [
    "# %prun -s tottime collect_episode(model, hyperparameters, input_to_tensor_scalar)"
   ]
  },
  {
   "cell_type": "code",
   "execution_count": 5,
   "metadata": {},
   "outputs": [],
   "source": [
    "# results = collect_episode(model, hyperparameters, input_to_tensor_scalar)"
   ]
  },
  {
   "cell_type": "code",
   "execution_count": 6,
   "metadata": {},
   "outputs": [],
   "source": [
    "# %prun -s tottime enque_and_train(results)"
   ]
  },
  {
   "cell_type": "code",
   "execution_count": 7,
   "metadata": {},
   "outputs": [],
   "source": [
    "def enque_and_train(results):\n",
    "    torch.set_num_threads(NUM_TRAIN_PROCS)\n",
    "    \n",
    "    training_examples, reward, moves, high_square, pid, score = results\n",
    "    training_examples = rotate_training_examples(training_examples)\n",
    "    replay_memory.insert(list(training_examples))\n",
    "    \n",
    "    if replay_memory.size() >= WARMUP_AMOUNT:\n",
    "        cum_vl, cum_pl, cum_tl = 0.0, 0.0, 0.0\n",
    "        for i in range(hyperparameters.minibatches_per_episode):\n",
    "            value_loss, prob_loss, total_loss = train(replay_memory.sample(hyperparameters.minibatch_size), model, optimizer, tensor_conversion_fn=input_to_tensor_scalar, c_prob=hyperparameters.c_prob)\n",
    "            cum_vl += value_loss\n",
    "            cum_pl += prob_loss\n",
    "            cum_tl += total_loss\n",
    "            \n",
    "        cum_vl /= hyperparameters.minibatches_per_episode\n",
    "        cum_pl /= hyperparameters.minibatches_per_episode\n",
    "        cum_tl /= hyperparameters.minibatches_per_episode\n",
    "\n",
    "        new_best = metrics_history.add_training_history({\n",
    "            'game_score': score,\n",
    "            'game_moves': moves,\n",
    "            'prob_loss': cum_pl,\n",
    "            'value_loss': cum_vl,\n",
    "            'total_loss': cum_tl,\n",
    "            'high_square': high_square\n",
    "        })\n",
    "\n",
    "        if metrics_history.episodes % PLOT_EVERY == 0:\n",
    "            metrics_history.plot_history(offset=5000, window_size=100)\n",
    "        \n",
    "        if new_best:\n",
    "            print(f'*** NEW BEST {metrics_history.high_score_metric}: {metrics_history.best_training_result} ***')\n",
    "        \n",
    "        print(f'EPISODE {metrics_history.episodes}\\n Total Loss: {cum_tl:.04f}\\n Prob Loss: {cum_pl:.04f}\\n Value Loss: {cum_vl:.04f}\\n Score: {int(score)}\\n Moves: {moves}\\n Highest Square: {2 ** high_square}\\n')\n",
    "        \n",
    "        if metrics_history.episodes % hyperparameters.checkpoint_every == 0:\n",
    "            print('Saving model checkpoint...')\n",
    "            save_checkpoint(metrics_history.episodes, model, optimizer, hyperparameters, metrics_history, replay_memory, run_tag=run_tag, save_replay_memory=True)\n",
    "            print('Saved model checkpoint!')\n",
    "    else:\n",
    "        print(f'Replay memory size not large enough, {replay_memory.size()} < {WARMUP_AMOUNT}')\n",
    "\n",
    "def enque_eval_results(results):\n",
    "    reward, moves, high_square, score = results\n",
    "    new_best = metrics_history.add_eval_history({\n",
    "        'game_score': score,\n",
    "        'game_moves': moves,\n",
    "        'high_square': high_square\n",
    "    })\n",
    "    if new_best:\n",
    "        print(f'*** NEW BEST EVAL {metrics_history.high_score_metric}: {metrics_history.best_eval_result} ***')\n",
    "    "
   ]
  },
  {
   "cell_type": "code",
   "execution_count": 8,
   "metadata": {},
   "outputs": [
    {
     "name": "stdout",
     "output_type": "stream",
     "text": [
      "Epoch 0 of 1000\n"
     ]
    }
   ],
   "source": [
    "\n",
    "with warnings.catch_warnings():\n",
    "    warnings.simplefilter('ignore')\n",
    "    if metrics_history.episodes % hyperparameters.episodes_per_epoch == 0:\n",
    "        print('Testing network...')\n",
    "        with mp.Pool(NUM_COLLECTION_PROCS) as p:\n",
    "            results = []\n",
    "            for _ in range(hyperparameters.num_eval_games):\n",
    "                results.append(p.apply_async(test_network, (model, hyperparameters, input_to_tensor_scalar, ), callback=enque_eval_results, error_callback=print))\n",
    "            for r in results:\n",
    "                r.wait()\n",
    "        \n",
    "        metrics_history.set_last_eval_plots()\n",
    "        metrics_history.update_overall_eval_history()\n",
    "        metrics_history.plot_history(offset=5000, window_size=100, plot_training=False)\n",
    "        metrics_history.increment_epoch()\n",
    "\n",
    "    for epoch in range(metrics_history.cur_epoch, hyperparameters.num_epochs + 1):\n",
    "        print(f'Epoch {epoch} of {hyperparameters.num_epochs}')\n",
    "        with mp.Pool(NUM_COLLECTION_PROCS) as p:\n",
    "            results = []\n",
    "            for episode in range(metrics_history.episodes, hyperparameters.episodes_per_epoch * (epoch+1)):\n",
    "                epsilon = max(hyperparameters.mcts_epsilon_end, hyperparameters.mcts_epsilon_start - (episode * hyperparameters.mcts_epsilon_decay_rate))\n",
    "                results.append(p.apply_async(collect_episode, (model, hyperparameters, input_to_tensor_scalar, epsilon, ), callback=enque_and_train, error_callback=print))\n",
    "            for r in results:\n",
    "                r.wait()\n",
    "\n",
    "\n",
    "        print('Testing network...')\n",
    "        # TODO: test network\n",
    "        with mp.Pool(NUM_COLLECTION_PROCS) as p:\n",
    "            results = []\n",
    "            for _ in range(hyperparameters.num_eval_games):\n",
    "                results.append(p.apply_async(test_network, (model, hyperparameters, input_to_tensor_scalar, ), callback=enque_eval_results, error_callback=print))\n",
    "            for r in results:\n",
    "                r.wait()\n",
    "        \n",
    "        metrics_history.set_last_eval_plots()\n",
    "        metrics_history.update_overall_eval_history()\n",
    "        metrics_history.plot_history(offset=5000, window_size=100, plot_training=False)\n",
    "        metrics_history.increment_epoch()\n",
    "        "
   ]
  }
 ],
 "metadata": {
  "kernelspec": {
   "display_name": "Python 3",
   "language": "python",
   "name": "python3"
  },
  "language_info": {
   "codemirror_mode": {
    "name": "ipython",
    "version": 3
   },
   "file_extension": ".py",
   "mimetype": "text/x-python",
   "name": "python",
   "nbconvert_exporter": "python",
   "pygments_lexer": "ipython3",
   "version": "3.8.16"
  },
  "vscode": {
   "interpreter": {
    "hash": "644e7a931897874d9649e2ac8857f34ca516c0cb177a94235220b02fad034c18"
   }
  }
 },
 "nbformat": 4,
 "nbformat_minor": 4
}
