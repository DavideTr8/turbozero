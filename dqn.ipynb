{
 "cells": [
  {
   "cell_type": "code",
   "execution_count": 1,
   "metadata": {},
   "outputs": [],
   "source": [
    "import os\n",
    "os.environ[\"MKL_NUM_THREADS\"] = \"1\" \n",
    "os.environ[\"NUMEXPR_NUM_THREADS\"] = \"1\" \n",
    "os.environ[\"OMP_NUM_THREADS\"] = \"1\" \n",
    "\n",
    "from train import MCTS_HYPERPARAMETERS, load_from_checkpoint, collect_episode, train, rotate_training_examples\n",
    "import torch\n",
    "from resnet import ResNet2Heads\n",
    "from utils import input_to_tensor_3d, input_to_tensor\n",
    "import torch.multiprocessing as mp\n",
    "from train import save_checkpoint, load_from_checkpoint, MetricsHistory, test_network, GameReplayMemory\n"
   ]
  },
  {
   "cell_type": "code",
   "execution_count": 2,
   "metadata": {},
   "outputs": [],
   "source": [
    "MODEL_TO_LOAD = \"\" # place filename of checkpoint here, otherwise leave empty\n",
    "LOAD_REPLAY_MEMORY = True\n",
    "PLOT_EVERY = 25\n",
    "WARMUP_AMOUNT = 10\n",
    "\n",
    "# HYPERPARAMETERS (will be ignored if loading from a checkpoint)\n",
    "hyperparameters = MCTS_HYPERPARAMETERS() # use kwargs to specify non-default values\n"
   ]
  },
  {
   "cell_type": "code",
   "execution_count": 3,
   "metadata": {},
   "outputs": [
    {
     "data": {
      "text/plain": [
       "<Figure size 640x480 with 0 Axes>"
      ]
     },
     "metadata": {},
     "output_type": "display_data"
    },
    {
     "data": {
      "text/plain": [
       "<Figure size 640x480 with 0 Axes>"
      ]
     },
     "metadata": {},
     "output_type": "display_data"
    },
    {
     "data": {
      "text/plain": [
       "<Figure size 640x480 with 0 Axes>"
      ]
     },
     "metadata": {},
     "output_type": "display_data"
    },
    {
     "data": {
      "text/plain": [
       "<Figure size 640x480 with 0 Axes>"
      ]
     },
     "metadata": {},
     "output_type": "display_data"
    },
    {
     "data": {
      "text/plain": [
       "<Figure size 640x480 with 0 Axes>"
      ]
     },
     "metadata": {},
     "output_type": "display_data"
    },
    {
     "data": {
      "text/plain": [
       "<Figure size 640x480 with 0 Axes>"
      ]
     },
     "metadata": {},
     "output_type": "display_data"
    }
   ],
   "source": [
    "if MODEL_TO_LOAD:\n",
    "    _, model, optimizer, hyperparameters, metrics_history, replay_memory, run_tag = load_from_checkpoint(MODEL_TO_LOAD, ResNet2Heads, load_replay_memory=LOAD_REPLAY_MEMORY)\n",
    "    metrics_history.figs = [plt.figure() for _ in range(6)]\n",
    "else:\n",
    "    hyperparameters.replay_memory_size = 1000\n",
    "    hyperparameters.minibatch_size = 5\n",
    "    hyperparameters.weight_decay = 0.01\n",
    "    hyperparameters.num_mcts_train_evals = 50\n",
    "    hyperparameters.num_episodes = 100000\n",
    "    hyperparameters.mcts_c_puct = 1\n",
    "    hyperparameters.minibatches_per_episode = 16\n",
    "    hyperparameters.lr = 5e-5\n",
    "    hyperparameters.mcts_tau = 0.95\n",
    "    hyperparameters.checkpoint_every = 250\n",
    "    hyperparameters.c_prob = 50\n",
    "    model = ResNet2Heads()\n",
    "    replay_memory = GameReplayMemory(hyperparameters.replay_memory_size)\n",
    "    optimizer = torch.optim.AdamW(model.parameters(), lr=hyperparameters.lr, weight_decay=hyperparameters.weight_decay)\n",
    "    metrics_history = MetricsHistory()\n",
    "    run_tag = 'mcresnet1283'     \n",
    "    episode = 0\n",
    "    \n",
    "    \n",
    "NUM_PROCS = 7"
   ]
  },
  {
   "cell_type": "code",
   "execution_count": null,
   "metadata": {},
   "outputs": [],
   "source": [
    "def enque_and_train(results):\n",
    "    torch.set_num_threads(4)\n",
    "    \n",
    "    training_examples, reward, moves, high_square, pid = results\n",
    "    training_examples = rotate_training_examples(training_examples)\n",
    "    replay_memory.insert(list(training_examples))\n",
    "    \n",
    "    if replay_memory.size() >= WARMUP_AMOUNT:\n",
    "        cum_vl, cum_pl, cum_tl = 0.0, 0.0, 0.0\n",
    "        for i in range(hyperparameters.minibatches_per_episode):\n",
    "            value_loss, prob_loss, total_loss = train(replay_memory.sample(hyperparameters.minibatch_size), model, optimizer, tensor_conversion_fn=input_to_tensor, c_prob=hyperparameters.c_prob)\n",
    "            cum_vl += value_loss\n",
    "            cum_pl += prob_loss\n",
    "            cum_tl += total_loss\n",
    "        cum_vl /= hyperparameters.minibatches_per_episode\n",
    "        cum_pl /= hyperparameters.minibatches_per_episode\n",
    "        cum_tl /= hyperparameters.minibatches_per_episode\n",
    "        new_best = metrics_history.add_history({\n",
    "            'reward': reward,\n",
    "            'game_moves': moves,\n",
    "            'prob_loss': cum_pl,\n",
    "            'value_loss': cum_vl,\n",
    "            'total_loss': cum_tl,\n",
    "            'high_square': high_square\n",
    "        })\n",
    "        if metrics_history.episodes % PLOT_EVERY == 0:\n",
    "            metrics_history.plot_history(window_size=100)\n",
    "        \n",
    "        if new_best:\n",
    "            print(f'*** NEW BEST REWARD: {metrics_history.best_result} ***')\n",
    "        \n",
    "        print(f'[EPISODE {metrics_history.episodes}] Total Loss: {cum_tl}, Prob Loss {cum_pl}, Value Loss {cum_vl}, Reward {reward}, Moves: {moves}, Highest Square: {high_square}, PID: {pid}')\n",
    "        if metrics_history.episodes % hyperparameters.checkpoint_every == 0:\n",
    "            print('Saving model checkpoint...')\n",
    "            save_checkpoint(metrics_history.episodes, model, optimizer, hyperparameters, metrics_history, replay_memory, run_tag=run_tag, save_replay_memory=True)\n",
    "            print('Saved model checkpoint!')\n",
    "    else:\n",
    "        print(f'Replay memory size not large enough, {replay_memory.size()} < {WARMUP_AMOUNT}')\n",
    "with warnings.catch_warnings():\n",
    "    warnings.simplefilter('ignore')\n",
    "    with mp.Pool(NUM_PROCS) as p:\n",
    "        results = []\n",
    "        for n in range(metrics_history.episodes, hyperparameters.num_episodes):\n",
    "            results.append(p.apply_async(collect_episode, (model, hyperparameters, input_to_tensor, ), callback=enque_and_train, error_callback=print))\n",
    "        for r in results:\n",
    "            r.wait()"
   ]
  },
  {
   "cell_type": "code",
   "execution_count": null,
   "metadata": {},
   "outputs": [],
   "source": [
    "# test_network(model, hyperparameters, input_to_tensor, debug_print=True)"
   ]
  },
  {
   "cell_type": "code",
   "execution_count": null,
   "metadata": {},
   "outputs": [],
   "source": []
  },
  {
   "cell_type": "code",
   "execution_count": null,
   "metadata": {},
   "outputs": [],
   "source": []
  }
 ],
 "metadata": {
  "kernelspec": {
   "display_name": "Python 3",
   "language": "python",
   "name": "python3"
  },
  "language_info": {
   "codemirror_mode": {
    "name": "ipython",
    "version": 3
   },
   "file_extension": ".py",
   "mimetype": "text/x-python",
   "name": "python",
   "nbconvert_exporter": "python",
   "pygments_lexer": "ipython3",
   "version": "3.8.16"
  },
  "vscode": {
   "interpreter": {
    "hash": "644e7a931897874d9649e2ac8857f34ca516c0cb177a94235220b02fad034c18"
   }
  }
 },
 "nbformat": 4,
 "nbformat_minor": 4
}
