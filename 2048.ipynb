{
 "cells": [
  {
   "cell_type": "code",
   "execution_count": 5,
   "metadata": {},
   "outputs": [],
   "source": [
    "\n",
    "import torch\n",
    "import matplotlib.pyplot as plt\n",
    "import logging\n",
    "\n",
    "torch.backends.cudnn.benchmark = True\n",
    "\n",
    "logging.basicConfig(filename='training_2048.log', filemode='a', level=logging.INFO, format='%(asctime)s %(message)s')\n",
    "logging.info('Starting training')\n",
    "\n",
    "from core.evaluation.mcts_hypers import MCTSHypers\n",
    "from core.resnet import TurboZeroResnet, TurboZeroArchParams\n",
    "from core.training.training_hypers import TurboZeroHypers\n",
    "from envs._2048.evaluator import _2048MCTS\n",
    "from envs._2048.trainer import _2048Trainer, load_checkpoint\n"
   ]
  },
  {
   "cell_type": "code",
   "execution_count": 6,
   "metadata": {},
   "outputs": [],
   "source": [
    "NUM_PARALLEL_ENVS = 100\n",
    "CHECKPOINT_FILE = ''\n",
    "DEVICE = torch.device('cuda') if torch.cuda.is_available() else torch.device('cpu')\n",
    "DEBUG = True # disables JIT compilation"
   ]
  },
  {
   "cell_type": "code",
   "execution_count": 7,
   "metadata": {},
   "outputs": [],
   "source": [
    "if CHECKPOINT_FILE:\n",
    "    trainer = load_checkpoint(NUM_PARALLEL_ENVS, CHECKPOINT_FILE, DEVICE, debug=DEBUG)\n",
    "else:\n",
    "    arch_params=TurboZeroArchParams(\n",
    "        input_size=torch.Size((1, 4, 4)),\n",
    "        policy_size=4,\n",
    "        res_channels=4,\n",
    "        res_blocks=1,\n",
    "        value_head_res_channels=4,\n",
    "        value_head_res_blocks=1,\n",
    "        policy_head_res_channels=4,\n",
    "        policy_head_res_blocks=1,\n",
    "        kernel_size=3,\n",
    "        value_output_activation=torch.nn.Tanh()\n",
    "    )\n",
    "\n",
    "    hypers=TurboZeroHypers()\n",
    "\n",
    "    eval_hypers = MCTSHypers(num_iters = 100)\n",
    "\n",
    "    run_tag='test_2048_1'\n",
    "\n",
    "    model = TurboZeroResnet(arch_params).to(DEVICE)\n",
    "\n",
    "    optimizer = torch.optim.AdamW(model.parameters(), lr=hypers.learning_rate)\n",
    "\n",
    "    trainer = _2048Trainer(\n",
    "        _2048MCTS(NUM_PARALLEL_ENVS, DEVICE, eval_hypers, debug=DEBUG),\n",
    "        _2048MCTS(hypers.test_episodes_per_epoch, DEVICE, eval_hypers, debug=DEBUG),\n",
    "        NUM_PARALLEL_ENVS,\n",
    "        DEVICE,\n",
    "        torch.device('cpu'),\n",
    "        model,\n",
    "        optimizer,\n",
    "        hypers,\n",
    "        run_tag=run_tag\n",
    "    )\n",
    "\n",
    "plt.close('all')"
   ]
  },
  {
   "cell_type": "code",
   "execution_count": null,
   "metadata": {},
   "outputs": [],
   "source": [
    "trainer.training_loop()"
   ]
  }
 ],
 "metadata": {
  "kernelspec": {
   "display_name": "Python 3 (ipykernel)",
   "language": "python",
   "name": "python3"
  },
  "language_info": {
   "codemirror_mode": {
    "name": "ipython",
    "version": 3
   },
   "file_extension": ".py",
   "mimetype": "text/x-python",
   "name": "python",
   "nbconvert_exporter": "python",
   "pygments_lexer": "ipython3",
   "version": "3.8.16"
  },
  "orig_nbformat": 4
 },
 "nbformat": 4,
 "nbformat_minor": 2
}
