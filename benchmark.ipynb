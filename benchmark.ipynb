{
 "cells": [
  {
   "cell_type": "code",
   "execution_count": 1,
   "metadata": {},
   "outputs": [
    {
     "name": "stderr",
     "output_type": "stream",
     "text": [
      "/Users/marshingjay/miniconda3/envs/python3/lib/python3.8/site-packages/tqdm/auto.py:21: TqdmWarning: IProgress not found. Please update jupyter and ipywidgets. See https://ipywidgets.readthedocs.io/en/stable/user_install.html\n",
      "  from .autonotebook import tqdm as notebook_tqdm\n"
     ]
    }
   ],
   "source": [
    "import os\n",
    "os.environ[\"MKL_NUM_THREADS\"] = \"1\" \n",
    "os.environ[\"NUMEXPR_NUM_THREADS\"] = \"1\" \n",
    "os.environ[\"OMP_NUM_THREADS\"] = \"1\" \n",
    "import torch\n",
    "torch.set_num_threads(1)\n",
    "import torch.multiprocessing as mp\n",
    "import csv\n",
    "from train import test_network, load_from_checkpoint\n",
    "from utils import input_to_tensor_scalar\n",
    "\n",
    "from resnet2 import ResNet2Heads\n",
    "import logging\n",
    "\n",
    "# import resource\n",
    "# resource.setrlimit(\n",
    "#     resource.RLIMIT_NOFILE,\n",
    "#     (200000, 200000))"
   ]
  },
  {
   "cell_type": "code",
   "execution_count": 2,
   "metadata": {},
   "outputs": [],
   "source": [
    "MODEL_PATH = 'resnet16_eps0.1_ep35.pt'\n",
    "MODEL_NAME = 'resnet16_eps0.1'\n",
    "\n",
    "NUM_PROCS = 4\n",
    "ITERS = [1, 10, 50, 100, 500]\n",
    "GAMES_PER_CONFIG = 200\n"
   ]
  },
  {
   "cell_type": "code",
   "execution_count": 3,
   "metadata": {},
   "outputs": [],
   "source": [
    "csv_filename = ''\n",
    "\n",
    "def write_results_to_csv(results):\n",
    "    global csv_filename\n",
    "    _, moves, high_square, score = results\n",
    "    with open(csv_filename, 'a', newline='') as csvfile:\n",
    "        writer = csv.writer(csvfile, delimiter=',')\n",
    "        writer.writerow([moves, high_square, score])"
   ]
  },
  {
   "cell_type": "code",
   "execution_count": null,
   "metadata": {},
   "outputs": [],
   "source": [
    "logging.basicConfig(filename=f'{MODEL_NAME}_benchmark.log', filemode='a', level=logging.INFO, format='%(asctime)s %(message)s')\n",
    "logging.info('Starting benchmark')\n",
    "\n",
    "model, _, hypers, _, _, _ = load_from_checkpoint(MODEL_PATH, ResNet2Heads, load_replay_memory=False)\n",
    "for iters in ITERS:\n",
    "    logging.info(f'Benchmarking {iters} iterations...')\n",
    "    with mp.Pool(NUM_PROCS) as p:\n",
    "        csv_filename = f'{MODEL_NAME}_benchmark_{iters}.csv'\n",
    "        results = []\n",
    "        hypers.mcts_iters_eval = iters\n",
    "        for _ in range(GAMES_PER_CONFIG):\n",
    "            results.append(p.apply_async(test_network, (model, hypers, input_to_tensor_scalar), callback=write_results_to_csv, error_callback=print))\n",
    "        for r in results:\n",
    "            r.wait()\n"
   ]
  }
 ],
 "metadata": {
  "kernelspec": {
   "display_name": "python3",
   "language": "python",
   "name": "python3"
  },
  "language_info": {
   "codemirror_mode": {
    "name": "ipython",
    "version": 3
   },
   "file_extension": ".py",
   "mimetype": "text/x-python",
   "name": "python",
   "nbconvert_exporter": "python",
   "pygments_lexer": "ipython3",
   "version": "3.8.16"
  },
  "orig_nbformat": 4
 },
 "nbformat": 4,
 "nbformat_minor": 2
}
