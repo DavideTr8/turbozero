{
 "cells": [
  {
   "cell_type": "code",
   "execution_count": 1,
   "metadata": {},
   "outputs": [],
   "source": [
    "MODELS = [\n",
    "    \n",
    "]\n",
    "\n",
    "ITERATIONS_TO_TEST = [\n",
    "    1\n",
    "]\n",
    "\n",
    "NUM_PROCS = 4\n",
    "GAMES_PER_CONFIG = 10"
   ]
  },
  {
   "cell_type": "code",
   "execution_count": 2,
   "metadata": {},
   "outputs": [],
   "source": [
    "import os\n",
    "os.environ[\"MKL_NUM_THREADS\"] = \"1\" \n",
    "os.environ[\"NUMEXPR_NUM_THREADS\"] = \"1\" \n",
    "os.environ[\"OMP_NUM_THREADS\"] = \"1\" \n",
    "import torch\n",
    "torch.set_num_threads(1)\n",
    "from train import load_from_checkpoint, test_network\n",
    "import torch.multiprocessing as mp\n",
    "from resnet import ResNet2Heads\n",
    "from copy import deepcopy\n",
    "from utils import input_to_tensor_scalar\n",
    "import time\n",
    "import warnings\n",
    "import csv"
   ]
  },
  {
   "cell_type": "code",
   "execution_count": 3,
   "metadata": {},
   "outputs": [],
   "source": [
    "model_results = dict()"
   ]
  },
  {
   "cell_type": "code",
   "execution_count": null,
   "metadata": {},
   "outputs": [],
   "source": [
    "with warnings.catch_warnings():\n",
    "    warnings.simplefilter('ignore')\n",
    "    for model_path in MODELS:\n",
    "        _, model, _, hyperparameters, _, _, _ = load_from_checkpoint(model_path, ResNet2Heads, load_replay_memory=False)\n",
    "        csv_filename = f'benchmark_results_{model_path.split(\"/\")[-1][:-3]}.csv'\n",
    "        trials = 0\n",
    "        def write_trial_results(results):\n",
    "            _, moves, high_square, score = results\n",
    "            with open(csv_filename, 'a', newline='') as f:\n",
    "                writer = csv.writer(f)\n",
    "                writer.writerow([moves, high_square, score, iter_qty])\n",
    "            global trials\n",
    "            trials += 1\n",
    "            print(f'score={score}, moves={moves}, high_square={high_square}, trial_num={trials}')\n",
    "\n",
    "        for iter_qty in ITERATIONS_TO_TEST:\n",
    "            trials = 0\n",
    "            print(model_path, iter_qty)\n",
    "            hyperparameters.num_mcts_test_evals = iter_qty\n",
    "            start_time = time.time()\n",
    "            with mp.Pool(NUM_PROCS) as pool:\n",
    "                results = []\n",
    "                for _ in range(GAMES_PER_CONFIG):\n",
    "                    results.append(pool.apply_async(test_network, (model, hyperparameters, input_to_tensor_scalar, ), callback=write_trial_results, error_callback=print))\n",
    "                for r in results:\n",
    "                    r.wait()\n",
    "            print(f'took {time.time() - start_time}')\n"
   ]
  }
 ],
 "metadata": {
  "kernelspec": {
   "display_name": "python3",
   "language": "python",
   "name": "python3"
  },
  "language_info": {
   "codemirror_mode": {
    "name": "ipython",
    "version": 3
   },
   "file_extension": ".py",
   "mimetype": "text/x-python",
   "name": "python",
   "nbconvert_exporter": "python",
   "pygments_lexer": "ipython3",
   "version": "3.8.16"
  },
  "orig_nbformat": 4
 },
 "nbformat": 4,
 "nbformat_minor": 2
}
