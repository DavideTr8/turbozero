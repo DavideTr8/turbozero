{
 "cells": [
  {
   "cell_type": "code",
   "execution_count": 1,
   "metadata": {},
   "outputs": [],
   "source": [
    "import logging\n",
    "import torch\n",
    "\n",
    "from envs._2048.vecttrainer import _2048Trainer, init_2048_trainer_from_checkpoint\n",
    "\n",
    "logging.basicConfig(filename='benchmark.log', filemode='a', level=logging.INFO, format='%(asctime)s %(message)s')\n",
    "logging.info('Starting benchmark')"
   ]
  },
  {
   "cell_type": "code",
   "execution_count": 2,
   "metadata": {},
   "outputs": [],
   "source": [
    "NUM_PARALLEL_ENVS = 1\n",
    "CHECKPOINTS = [\n",
    "    './checkpoints/0.pt',\n",
    "    './checkpoints/1-2.pt',\n",
    "    './checkpoints/2-2.pt',\n",
    "    './checkpoints/3-2.pt',\n",
    "    './checkpoints/4-2.pt',\n",
    "    './checkpoints/5.pt',\n",
    "]\n",
    "ITER_AMNTS = [5, 10, 50, 100]\n",
    "ITER_DEPTHS = [1, 2, 3, 4, 5]\n",
    "\n",
    "NUM_PARALLEL_ENVS = 10\n",
    "device = torch.device('cuda') if torch.cuda.is_available() else torch.device('cpu')"
   ]
  },
  {
   "cell_type": "code",
   "execution_count": null,
   "metadata": {},
   "outputs": [],
   "source": [
    "results = dict()\n",
    "for checkpoint in CHECKPOINTS:\n",
    "    for iter_amnt in ITER_AMNTS:\n",
    "        for iter_depth in ITER_DEPTHS:\n",
    "            logging.info(f'Benchmarking checkpoint {checkpoint} with {iter_amnt} iterations and {iter_depth} depth')\n",
    "            trainer: _2048Trainer = init_2048_trainer_from_checkpoint(NUM_PARALLEL_ENVS, checkpoint, device)\n",
    "            trainer.hypers.num_iters_eval = iter_amnt\n",
    "            trainer.hypers.iter_depth_test = iter_depth\n",
    "            trainer.run_test_batch()\n",
    "            results[(checkpoint, iter_amnt, iter_depth)] = trainer.history.eval_metrics"
   ]
  }
 ],
 "metadata": {
  "kernelspec": {
   "display_name": "python3",
   "language": "python",
   "name": "python3"
  },
  "language_info": {
   "codemirror_mode": {
    "name": "ipython",
    "version": 3
   },
   "file_extension": ".py",
   "mimetype": "text/x-python",
   "name": "python",
   "nbconvert_exporter": "python",
   "pygments_lexer": "ipython3",
   "version": "3.8.16"
  },
  "orig_nbformat": 4
 },
 "nbformat": 4,
 "nbformat_minor": 2
}
