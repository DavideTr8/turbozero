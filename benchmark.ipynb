{
 "cells": [
  {
   "cell_type": "code",
   "execution_count": 1,
   "metadata": {},
   "outputs": [],
   "source": [
    "MODELS = [\n",
    "    \n",
    "]\n",
    "\n",
    "ITERATIONS_TO_TEST = [\n",
    "    1\n",
    "]\n",
    "\n",
    "NUM_PROCS = 4\n",
    "GAMES_PER_CONFIG = 10"
   ]
  },
  {
   "cell_type": "code",
   "execution_count": 2,
   "metadata": {},
   "outputs": [],
   "source": [
    "import os\n",
    "os.environ[\"MKL_NUM_THREADS\"] = \"1\" \n",
    "os.environ[\"NUMEXPR_NUM_THREADS\"] = \"1\" \n",
    "os.environ[\"OMP_NUM_THREADS\"] = \"1\" \n",
    "import torch\n",
    "torch.set_num_threads(1)\n",
    "from train import load_from_checkpoint, test_network\n",
    "import torch.multiprocessing as mp\n",
    "from resnet import ResNet2Heads\n",
    "from copy import deepcopy\n",
    "from utils import input_to_tensor_scalar\n",
    "import time\n",
    "import warnings\n",
    "import csv"
   ]
  },
  {
   "cell_type": "code",
   "execution_count": 3,
   "metadata": {},
   "outputs": [],
   "source": [
    "model_results = dict()"
   ]
  },
  {
   "cell_type": "code",
   "execution_count": 4,
   "metadata": {},
   "outputs": [
    {
     "name": "stdout",
     "output_type": "stream",
     "text": [
      "/Users/marshingjay/Downloads/resnet64_ep1000-2.pt 1\n"
     ]
    },
    {
     "name": "stderr",
     "output_type": "stream",
     "text": [
      "/Users/marshingjay/miniconda3/envs/python3/lib/python3.8/site-packages/torch/nn/modules/conv.py:453: UserWarning: Using padding='same' with even kernel lengths and odd dilation may require a zero-padded copy of the input be created (Triggered internally at  /private/var/folders/nz/j6p8yfhx1mv_0grj5xl4650h0000gp/T/abs_62dm4livko/croot/pytorch_1675190252673/work/aten/src/ATen/native/Convolution.cpp:883.)\n",
      "  return F.conv2d(input, weight, bias, self.stride,\n",
      "/Users/marshingjay/miniconda3/envs/python3/lib/python3.8/site-packages/torch/nn/modules/conv.py:453: UserWarning: Using padding='same' with even kernel lengths and odd dilation may require a zero-padded copy of the input be created (Triggered internally at  /private/var/folders/nz/j6p8yfhx1mv_0grj5xl4650h0000gp/T/abs_62dm4livko/croot/pytorch_1675190252673/work/aten/src/ATen/native/Convolution.cpp:883.)\n",
      "  return F.conv2d(input, weight, bias, self.stride,\n",
      "/Users/marshingjay/miniconda3/envs/python3/lib/python3.8/site-packages/torch/nn/modules/conv.py:453: UserWarning: Using padding='same' with even kernel lengths and odd dilation may require a zero-padded copy of the input be created (Triggered internally at  /private/var/folders/nz/j6p8yfhx1mv_0grj5xl4650h0000gp/T/abs_62dm4livko/croot/pytorch_1675190252673/work/aten/src/ATen/native/Convolution.cpp:883.)\n",
      "  return F.conv2d(input, weight, bias, self.stride,\n",
      "/Users/marshingjay/miniconda3/envs/python3/lib/python3.8/site-packages/torch/nn/modules/conv.py:453: UserWarning: Using padding='same' with even kernel lengths and odd dilation may require a zero-padded copy of the input be created (Triggered internally at  /private/var/folders/nz/j6p8yfhx1mv_0grj5xl4650h0000gp/T/abs_62dm4livko/croot/pytorch_1675190252673/work/aten/src/ATen/native/Convolution.cpp:883.)\n",
      "  return F.conv2d(input, weight, bias, self.stride,\n"
     ]
    },
    {
     "name": "stdout",
     "output_type": "stream",
     "text": [
      "score=596.0, moves=82, high_square=6, trial_num=1\n",
      "score=580.0, moves=80, high_square=6, trial_num=2\n",
      "score=1104.0, moves=121, high_square=7, trial_num=3\n",
      "score=1712.0, moves=174, high_square=7, trial_num=4\n",
      "score=1224.0, moves=127, high_square=7, trial_num=5\n",
      "score=1008.0, moves=107, high_square=7, trial_num=6\n",
      "score=2768.0, moves=240, high_square=8, trial_num=7\n",
      "score=1300.0, moves=135, high_square=7, trial_num=8\n",
      "score=656.0, moves=93, high_square=6, trial_num=9\n",
      "score=904.0, moves=99, high_square=7, trial_num=10\n",
      "took 4.736548185348511\n",
      "/Users/marshingjay/Downloads/resnet64_ep1000-2.pt 2\n"
     ]
    },
    {
     "name": "stderr",
     "output_type": "stream",
     "text": [
      "/Users/marshingjay/miniconda3/envs/python3/lib/python3.8/site-packages/torch/nn/modules/conv.py:453: UserWarning: Using padding='same' with even kernel lengths and odd dilation may require a zero-padded copy of the input be created (Triggered internally at  /private/var/folders/nz/j6p8yfhx1mv_0grj5xl4650h0000gp/T/abs_62dm4livko/croot/pytorch_1675190252673/work/aten/src/ATen/native/Convolution.cpp:883.)\n",
      "  return F.conv2d(input, weight, bias, self.stride,\n",
      "/Users/marshingjay/miniconda3/envs/python3/lib/python3.8/site-packages/torch/nn/modules/conv.py:453: UserWarning: Using padding='same' with even kernel lengths and odd dilation may require a zero-padded copy of the input be created (Triggered internally at  /private/var/folders/nz/j6p8yfhx1mv_0grj5xl4650h0000gp/T/abs_62dm4livko/croot/pytorch_1675190252673/work/aten/src/ATen/native/Convolution.cpp:883.)\n",
      "  return F.conv2d(input, weight, bias, self.stride,\n",
      "/Users/marshingjay/miniconda3/envs/python3/lib/python3.8/site-packages/torch/nn/modules/conv.py:453: UserWarning: Using padding='same' with even kernel lengths and odd dilation may require a zero-padded copy of the input be created (Triggered internally at  /private/var/folders/nz/j6p8yfhx1mv_0grj5xl4650h0000gp/T/abs_62dm4livko/croot/pytorch_1675190252673/work/aten/src/ATen/native/Convolution.cpp:883.)\n",
      "  return F.conv2d(input, weight, bias, self.stride,\n",
      "/Users/marshingjay/miniconda3/envs/python3/lib/python3.8/site-packages/torch/nn/modules/conv.py:453: UserWarning: Using padding='same' with even kernel lengths and odd dilation may require a zero-padded copy of the input be created (Triggered internally at  /private/var/folders/nz/j6p8yfhx1mv_0grj5xl4650h0000gp/T/abs_62dm4livko/croot/pytorch_1675190252673/work/aten/src/ATen/native/Convolution.cpp:883.)\n",
      "  return F.conv2d(input, weight, bias, self.stride,\n"
     ]
    },
    {
     "name": "stdout",
     "output_type": "stream",
     "text": [
      "score=712.0, moves=92, high_square=6, trial_num=1\n",
      "score=1020.0, moves=126, high_square=6, trial_num=2\n",
      "score=1992.0, moves=201, high_square=7, trial_num=3\n",
      "score=1736.0, moves=175, high_square=7, trial_num=4\n",
      "score=1988.0, moves=165, high_square=8, trial_num=5\n",
      "score=676.0, moves=94, high_square=6, trial_num=6\n",
      "score=1488.0, moves=155, high_square=7, trial_num=7\n",
      "score=3188.0, moves=261, high_square=8, trial_num=8\n",
      "score=440.0, moves=69, high_square=5, trial_num=9\n",
      "score=728.0, moves=96, high_square=6, trial_num=10\n",
      "took 6.86165714263916\n",
      "/Users/marshingjay/Downloads/resnet64_ep2000-2.pt 1\n"
     ]
    },
    {
     "name": "stderr",
     "output_type": "stream",
     "text": [
      "/Users/marshingjay/miniconda3/envs/python3/lib/python3.8/site-packages/torch/nn/modules/conv.py:453: UserWarning: Using padding='same' with even kernel lengths and odd dilation may require a zero-padded copy of the input be created (Triggered internally at  /private/var/folders/nz/j6p8yfhx1mv_0grj5xl4650h0000gp/T/abs_62dm4livko/croot/pytorch_1675190252673/work/aten/src/ATen/native/Convolution.cpp:883.)\n",
      "  return F.conv2d(input, weight, bias, self.stride,\n",
      "/Users/marshingjay/miniconda3/envs/python3/lib/python3.8/site-packages/torch/nn/modules/conv.py:453: UserWarning: Using padding='same' with even kernel lengths and odd dilation may require a zero-padded copy of the input be created (Triggered internally at  /private/var/folders/nz/j6p8yfhx1mv_0grj5xl4650h0000gp/T/abs_62dm4livko/croot/pytorch_1675190252673/work/aten/src/ATen/native/Convolution.cpp:883.)\n",
      "  return F.conv2d(input, weight, bias, self.stride,\n",
      "/Users/marshingjay/miniconda3/envs/python3/lib/python3.8/site-packages/torch/nn/modules/conv.py:453: UserWarning: Using padding='same' with even kernel lengths and odd dilation may require a zero-padded copy of the input be created (Triggered internally at  /private/var/folders/nz/j6p8yfhx1mv_0grj5xl4650h0000gp/T/abs_62dm4livko/croot/pytorch_1675190252673/work/aten/src/ATen/native/Convolution.cpp:883.)\n",
      "  return F.conv2d(input, weight, bias, self.stride,\n",
      "/Users/marshingjay/miniconda3/envs/python3/lib/python3.8/site-packages/torch/nn/modules/conv.py:453: UserWarning: Using padding='same' with even kernel lengths and odd dilation may require a zero-padded copy of the input be created (Triggered internally at  /private/var/folders/nz/j6p8yfhx1mv_0grj5xl4650h0000gp/T/abs_62dm4livko/croot/pytorch_1675190252673/work/aten/src/ATen/native/Convolution.cpp:883.)\n",
      "  return F.conv2d(input, weight, bias, self.stride,\n"
     ]
    },
    {
     "name": "stdout",
     "output_type": "stream",
     "text": [
      "score=724.0, moves=95, high_square=6, trial_num=1\n",
      "score=684.0, moves=90, high_square=6, trial_num=2\n",
      "score=984.0, moves=105, high_square=7, trial_num=3\n",
      "score=2040.0, moves=191, high_square=7, trial_num=4\n",
      "score=772.0, moves=95, high_square=6, trial_num=5\n",
      "score=1160.0, moves=119, high_square=7, trial_num=6\n",
      "score=1288.0, moves=131, high_square=7, trial_num=7\n",
      "score=1508.0, moves=152, high_square=7, trial_num=8\n",
      "score=664.0, moves=89, high_square=6, trial_num=9\n",
      "score=2680.0, moves=217, high_square=8, trial_num=10\n",
      "took 5.187170028686523\n",
      "/Users/marshingjay/Downloads/resnet64_ep2000-2.pt 2\n"
     ]
    },
    {
     "name": "stderr",
     "output_type": "stream",
     "text": [
      "/Users/marshingjay/miniconda3/envs/python3/lib/python3.8/site-packages/torch/nn/modules/conv.py:453: UserWarning: Using padding='same' with even kernel lengths and odd dilation may require a zero-padded copy of the input be created (Triggered internally at  /private/var/folders/nz/j6p8yfhx1mv_0grj5xl4650h0000gp/T/abs_62dm4livko/croot/pytorch_1675190252673/work/aten/src/ATen/native/Convolution.cpp:883.)\n",
      "  return F.conv2d(input, weight, bias, self.stride,\n",
      "/Users/marshingjay/miniconda3/envs/python3/lib/python3.8/site-packages/torch/nn/modules/conv.py:453: UserWarning: Using padding='same' with even kernel lengths and odd dilation may require a zero-padded copy of the input be created (Triggered internally at  /private/var/folders/nz/j6p8yfhx1mv_0grj5xl4650h0000gp/T/abs_62dm4livko/croot/pytorch_1675190252673/work/aten/src/ATen/native/Convolution.cpp:883.)\n",
      "  return F.conv2d(input, weight, bias, self.stride,\n",
      "/Users/marshingjay/miniconda3/envs/python3/lib/python3.8/site-packages/torch/nn/modules/conv.py:453: UserWarning: Using padding='same' with even kernel lengths and odd dilation may require a zero-padded copy of the input be created (Triggered internally at  /private/var/folders/nz/j6p8yfhx1mv_0grj5xl4650h0000gp/T/abs_62dm4livko/croot/pytorch_1675190252673/work/aten/src/ATen/native/Convolution.cpp:883.)\n",
      "  return F.conv2d(input, weight, bias, self.stride,\n",
      "/Users/marshingjay/miniconda3/envs/python3/lib/python3.8/site-packages/torch/nn/modules/conv.py:453: UserWarning: Using padding='same' with even kernel lengths and odd dilation may require a zero-padded copy of the input be created (Triggered internally at  /private/var/folders/nz/j6p8yfhx1mv_0grj5xl4650h0000gp/T/abs_62dm4livko/croot/pytorch_1675190252673/work/aten/src/ATen/native/Convolution.cpp:883.)\n",
      "  return F.conv2d(input, weight, bias, self.stride,\n"
     ]
    },
    {
     "name": "stdout",
     "output_type": "stream",
     "text": [
      "score=288.0, moves=58, high_square=4, trial_num=1\n",
      "score=1248.0, moves=129, high_square=7, trial_num=2\n",
      "score=1544.0, moves=165, high_square=7, trial_num=3\n",
      "score=1684.0, moves=172, high_square=7, trial_num=4\n",
      "score=632.0, moves=87, high_square=6, trial_num=5\n",
      "score=1772.0, moves=173, high_square=7, trial_num=6\n",
      "score=1484.0, moves=155, high_square=7, trial_num=7\n",
      "score=2840.0, moves=234, high_square=8, trial_num=8\n",
      "score=2252.0, moves=218, high_square=7, trial_num=9\n",
      "score=740.0, moves=98, high_square=6, trial_num=10\n",
      "took 7.399557828903198\n"
     ]
    },
    {
     "data": {
      "image/png": "[encoded data removed]",
      "text/plain": [
       "<Figure size 432x288 with 1 Axes>"
      ]
     },
     "metadata": {
      "needs_background": "light"
     },
     "output_type": "display_data"
    },
    {
     "data": {
      "image/png": "[encoded data removed]",
      "text/plain": [
       "<Figure size 432x288 with 1 Axes>"
      ]
     },
     "metadata": {
      "needs_background": "light"
     },
     "output_type": "display_data"
    },
    {
     "data": {
      "image/png": "[encoded data removed]",
      "text/plain": [
       "<Figure size 432x288 with 1 Axes>"
      ]
     },
     "metadata": {
      "needs_background": "light"
     },
     "output_type": "display_data"
    }
   ],
   "source": [
    "with warnings.catch_warnings():\n",
    "    warnings.simplefilter('ignore')\n",
    "    for model_path in MODELS:\n",
    "        _, model, _, hyperparameters, _, _, _ = load_from_checkpoint(model_path, ResNet2Heads, load_replay_memory=False)\n",
    "        csv_filename = f'benchmark_results_{model_path.split(\"/\")[-1][:-3]}.csv'\n",
    "        trials = 0\n",
    "        def write_trial_results(results):\n",
    "            _, moves, high_square, score = results\n",
    "            with open(csv_filename, 'a', newline='') as f:\n",
    "                writer = csv.writer(f)\n",
    "                writer.writerow([moves, high_square, score, iter_qty])\n",
    "            global trials\n",
    "            trials += 1\n",
    "            print(f'score={score}, moves={moves}, high_square={high_square}, trial_num={trials}')\n",
    "\n",
    "        for iter_qty in ITERATIONS_TO_TEST:\n",
    "            trials = 0\n",
    "            print(model_path, iter_qty)\n",
    "            hyperparameters.num_mcts_test_evals = iter_qty\n",
    "            start_time = time.time()\n",
    "            with mp.Pool(NUM_PROCS) as pool:\n",
    "                results = []\n",
    "                for _ in range(GAMES_PER_CONFIG):\n",
    "                    results.append(pool.apply_async(test_network, (model, hyperparameters, input_to_tensor_scalar, ), callback=write_trial_results, error_callback=print))\n",
    "                for r in results:\n",
    "                    r.wait()\n",
    "            print(f'took {time.time() - start_time}')\n"
   ]
  }
 ],
 "metadata": {
  "kernelspec": {
   "display_name": "python3",
   "language": "python",
   "name": "python3"
  },
  "language_info": {
   "codemirror_mode": {
    "name": "ipython",
    "version": 3
   },
   "file_extension": ".py",
   "mimetype": "text/x-python",
   "name": "python",
   "nbconvert_exporter": "python",
   "pygments_lexer": "ipython3",
   "version": "3.8.16"
  },
  "orig_nbformat": 4
 },
 "nbformat": 4,
 "nbformat_minor": 2
}
