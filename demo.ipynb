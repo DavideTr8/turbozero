{
 "cells": [
  {
   "cell_type": "code",
   "execution_count": 1,
   "metadata": {},
   "outputs": [],
   "source": [
    "from core.demo.demo import Demo\n",
    "from envs._2048.env import _2048Env\n",
    "from core.demo.human import HumanEvaluator"
   ]
  },
  {
   "cell_type": "code",
   "execution_count": 2,
   "metadata": {},
   "outputs": [],
   "source": [
    "import torch\n",
    "from core.algorithms.baselines.greedy import GreedyBaseline, GreedyConfig\n",
    "from core.algorithms.evaluator import EvaluatorConfig\n",
    "from core.demo.demo import TwoPlayerDemo\n",
    "from core.env import EnvConfig\n",
    "from envs._2048.env import _2048EnvConfig\n",
    "from envs.othello.env import OthelloEnv, OthelloEnvConfig\n",
    "\n",
    "\n",
    "# env = _2048Env(\n",
    "#     parallel_envs=1,\n",
    "#     config=_2048EnvConfig(**{'env_type': '2048'}),\n",
    "#     device=torch.device('cpu'),\n",
    "#     debug=True\n",
    "# )\n",
    "\n",
    "env = OthelloEnv(\n",
    "    parallel_envs=1,\n",
    "    config=OthelloEnvConfig(**{'env_type': 'othello', 'board_size': 8}),\n",
    "    device=torch.device('cpu'),\n",
    "    debug=True,\n",
    ")\n",
    "\n",
    "# evaluator = HumanEvaluator(env, EvaluatorConfig(name='human'))\n",
    "evaluator = GreedyBaseline(env, GreedyConfig(name='greedy', heuristic='num_tiles'))\n",
    "evaluator2 = GreedyBaseline(env, GreedyConfig(name='greedy', heuristic='num_tiles'))\n",
    "\n",
    "\n",
    "demo = TwoPlayerDemo(evaluator,{},evaluator2,{}, manual_step=False)"
   ]
  },
  {
   "cell_type": "code",
   "execution_count": 5,
   "metadata": {},
   "outputs": [
    {
     "name": "stdout",
     "output_type": "stream",
     "text": [
      "Action chosen: 6\n",
      "Action Probabilities: ['0:0.01', '1:0.01', '2:0.01', '3:0.01', '4:0.01', '5:0.01', '6:0.04', '7:0.01', '8:0.01', '9:0.01', '10:0.01', '11:0.01', '12:0.01', '13:0.01', '14:0.01', '15:0.01', '16:0.01', '17:0.01', '18:0.01', '19:0.01', '20:0.01', '21:0.01', '22:0.01', '23:0.01', '24:0.01', '25:0.01', '26:0.01', '27:0.01', '28:0.01', '29:0.01', '30:0.01', '31:0.01', '32:0.01', '33:0.01', '34:0.01', '35:0.01', '36:0.01', '37:0.01', '38:0.01', '39:0.01', '40:0.01', '41:0.01', '42:0.01', '43:0.01', '44:0.01', '45:0.01', '46:0.01', '47:0.01', '48:0.01', '49:0.01', '50:0.01', '51:0.01', '52:0.01', '53:0.01', '54:0.01', '55:0.01', '56:0.01', '57:0.01', '58:0.01', '59:0.01', '60:0.01', '61:0.01', '62:0.01', '63:0.01', '64:0.01']\n",
      "Game over!\n",
      "Final state:\n",
      "+---+---+---+---+---+---+---+---+\n",
      "|\u001b[32m O \u001b[39m|\u001b[32m O \u001b[39m|\u001b[32m O \u001b[39m|\u001b[32m O \u001b[39m|\u001b[32m O \u001b[39m|\u001b[31m X \u001b[39m|\u001b[31m X \u001b[39m|\u001b[32m O \u001b[39m|\n",
      "+---+---+---+---+---+---+---+---+\n",
      "|\u001b[31m X \u001b[39m|\u001b[32m O \u001b[39m|\u001b[32m O \u001b[39m|\u001b[32m O \u001b[39m|\u001b[31m X \u001b[39m|\u001b[31m X \u001b[39m|\u001b[31m X \u001b[39m|\u001b[31m X \u001b[39m|\n",
      "+---+---+---+---+---+---+---+---+\n",
      "|\u001b[31m X \u001b[39m|\u001b[31m X \u001b[39m|\u001b[32m O \u001b[39m|\u001b[31m X \u001b[39m|\u001b[31m X \u001b[39m|\u001b[32m O \u001b[39m|\u001b[31m X \u001b[39m|\u001b[31m X \u001b[39m|\n",
      "+---+---+---+---+---+---+---+---+\n",
      "|\u001b[32m O \u001b[39m|\u001b[31m X \u001b[39m|\u001b[32m O \u001b[39m|\u001b[32m O \u001b[39m|\u001b[32m O \u001b[39m|\u001b[31m X \u001b[39m|\u001b[32m O \u001b[39m|\u001b[31m X \u001b[39m|\n",
      "+---+---+---+---+---+---+---+---+\n",
      "|\u001b[32m O \u001b[39m|\u001b[32m O \u001b[39m|\u001b[31m X \u001b[39m|\u001b[32m O \u001b[39m|\u001b[31m X \u001b[39m|\u001b[31m X \u001b[39m|\u001b[32m O \u001b[39m|\u001b[31m X \u001b[39m|\n",
      "+---+---+---+---+---+---+---+---+\n",
      "|\u001b[32m O \u001b[39m|\u001b[32m O \u001b[39m|\u001b[31m X \u001b[39m|\u001b[31m X \u001b[39m|\u001b[31m X \u001b[39m|\u001b[32m O \u001b[39m|\u001b[31m X \u001b[39m|\u001b[31m X \u001b[39m|\n",
      "+---+---+---+---+---+---+---+---+\n",
      "|\u001b[32m O \u001b[39m|\u001b[31m X \u001b[39m|\u001b[32m O \u001b[39m|\u001b[31m X \u001b[39m|\u001b[31m X \u001b[39m|\u001b[31m X \u001b[39m|\u001b[32m O \u001b[39m|\u001b[31m X \u001b[39m|\n",
      "+---+---+---+---+---+---+---+---+\n",
      "|\u001b[32m O \u001b[39m|\u001b[31m X \u001b[39m|\u001b[31m X \u001b[39m|\u001b[31m X \u001b[39m|\u001b[31m X \u001b[39m|\u001b[31m X \u001b[39m|\u001b[32m O \u001b[39m|\u001b[31m X \u001b[39m|\n",
      "+---+---+---+---+---+---+---+---+\n",
      "\n",
      "Player 2 won!\n"
     ]
    }
   ],
   "source": [
    "demo.run(print_probablities=True, print_value=True, print_action=True, print_state=True, interactive=True)"
   ]
  },
  {
   "cell_type": "code",
   "execution_count": null,
   "metadata": {},
   "outputs": [],
   "source": []
  }
 ],
 "metadata": {
  "kernelspec": {
   "display_name": "python3",
   "language": "python",
   "name": "python3"
  },
  "language_info": {
   "codemirror_mode": {
    "name": "ipython",
    "version": 3
   },
   "file_extension": ".py",
   "mimetype": "text/x-python",
   "name": "python",
   "nbconvert_exporter": "python",
   "pygments_lexer": "ipython3",
   "version": "3.8.16"
  },
  "orig_nbformat": 4
 },
 "nbformat": 4,
 "nbformat_minor": 2
}
