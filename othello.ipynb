{
 "cells": [
  {
   "cell_type": "code",
   "execution_count": 1,
   "metadata": {},
   "outputs": [],
   "source": [
    "import torch\n",
    "import logging\n",
    "import matplotlib.pyplot as plt\n",
    "\n",
    "logging.basicConfig(filename='training_othello.log', filemode='a', level=logging.INFO, format='%(asctime)s %(message)s')\n",
    "logging.info('Starting training')"
   ]
  },
  {
   "cell_type": "code",
   "execution_count": 2,
   "metadata": {},
   "outputs": [],
   "source": [
    "from envs.othello.trainer import OthelloTrainer\n",
    "from core.hyperparameters import LZHyperparameters\n",
    "from core.lz_resnet import LZArchitectureParameters, LZResnet\n",
    "\n",
    "NUM_PARALLEL_ENVS = 10\n",
    "DEVICE = torch.device('cpu')\n",
    "torch.backends.cudnn.benchmark = True\n",
    "\n",
    "arch_params=LZArchitectureParameters(\n",
    "    input_size=torch.Size((2, 8, 8)),\n",
    "    policy_size=64,\n",
    "    res_channels=4,\n",
    "    res_blocks=1,\n",
    "    value_head_res_channels=4,\n",
    "    value_head_res_blocks=1,\n",
    "    policy_head_res_channels=4,\n",
    "    policy_head_res_blocks=1,\n",
    "    kernel_size=3,\n",
    "    value_output_activation=torch.nn.Tanh()\n",
    ")\n",
    "\n",
    "hypers=LZHyperparameters(\n",
    "    learning_rate=1e-4,\n",
    "    num_iters_train=20,\n",
    "    iter_depth_train=3,\n",
    "    num_iters_eval=20,\n",
    "    iter_depth_test=3,\n",
    "    replay_memory_size=1000,\n",
    "    replay_memory_min_size=1,\n",
    "    policy_factor=1,\n",
    "    minibatch_size=128,\n",
    "    minibatches_per_update=1,\n",
    "    episodes_per_epoch=5,\n",
    "    eval_episodes_per_epoch=5,\n",
    "    epsilon_decay_per_epoch=0.0000,\n",
    "    epsilon_start=0.0,\n",
    "    epsilon_end=0.0,\n",
    "    mcts_c_puct=1.0\n",
    ")\n",
    "\n",
    "run_tag='test_othello_1'\n",
    "\n",
    "model = LZResnet(arch_params).to(DEVICE)\n",
    "\n",
    "trainer = OthelloTrainer(\n",
    "    num_parallel_envs = NUM_PARALLEL_ENVS,\n",
    "    model = model,\n",
    "    optimizer = torch.optim.AdamW(model.parameters(), lr=hypers.learning_rate),\n",
    "    hypers = hypers,\n",
    "    device = DEVICE,\n",
    "    debug=True\n",
    ")\n",
    "\n",
    "plt.close('all')"
   ]
  },
  {
   "cell_type": "code",
   "execution_count": null,
   "metadata": {},
   "outputs": [],
   "source": [
    "trainer.training_loop()"
   ]
  }
 ],
 "metadata": {
  "kernelspec": {
   "display_name": "python3",
   "language": "python",
   "name": "python3"
  },
  "language_info": {
   "codemirror_mode": {
    "name": "ipython",
    "version": 3
   },
   "file_extension": ".py",
   "mimetype": "text/x-python",
   "name": "python",
   "nbconvert_exporter": "python",
   "pygments_lexer": "ipython3",
   "version": "3.8.16"
  },
  "orig_nbformat": 4
 },
 "nbformat": 4,
 "nbformat_minor": 2
}
