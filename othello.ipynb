{
 "cells": [
  {
   "cell_type": "code",
   "execution_count": 1,
   "metadata": {},
   "outputs": [],
   "source": [
    "import torch\n",
    "import logging\n",
    "import matplotlib.pyplot as plt\n",
    "\n",
    "torch.backends.cudnn.benchmark = True\n",
    "\n",
    "from core.evaluation.mcts_hypers import MCTSHypers\n",
    "from core.resnet import TurboZeroResnet, TurboZeroArchParams\n",
    "from core.training.training_hypers import TurboZeroHypers\n",
    "from envs.othello.evaluator import OthelloMCTS\n",
    "from envs.othello.trainer import OthelloTrainer, load_checkpoint\n",
    "from core.utils.custom_activations import Tanh0to1\n",
    "\n",
    "logging.basicConfig(filename='training_othello.log', filemode='a', level=logging.INFO, format='%(asctime)s %(message)s')\n",
    "logging.info('Starting training')"
   ]
  },
  {
   "cell_type": "code",
   "execution_count": 3,
   "metadata": {},
   "outputs": [],
   "source": [
    "NUM_PARALLEL_ENVS = 8192\n",
    "CHECKPOINT_FILE = ''\n",
    "DEVICE = torch.device('cuda') if torch.cuda.is_available() else torch.device('cpu')\n",
    "DEBUG = False # disables JIT compilation"
   ]
  },
  {
   "cell_type": "code",
   "execution_count": 4,
   "metadata": {},
   "outputs": [],
   "source": [
    "if CHECKPOINT_FILE:\n",
    "    trainer = load_checkpoint(NUM_PARALLEL_ENVS, CHECKPOINT_FILE, DEVICE, debug=DEBUG)\n",
    "else:\n",
    "    arch_params=TurboZeroArchParams(\n",
    "        input_size=torch.Size((2, 8, 8)),\n",
    "        policy_size=65,\n",
    "        res_channels=4,\n",
    "        res_blocks=1,\n",
    "        value_head_res_channels=4,\n",
    "        value_head_res_blocks=1,\n",
    "        policy_head_res_channels=4,\n",
    "        policy_head_res_blocks=1,\n",
    "        kernel_size=3,\n",
    "        value_output_activation=Tanh0to1()\n",
    "    )\n",
    "\n",
    "    hypers=TurboZeroHypers(\n",
    "        learning_rate = 3e-4,\n",
    "        replay_memory_size = 30000,\n",
    "        replay_memory_min_size = 10000,\n",
    "        minibatch_size = 2048,\n",
    "        minibatches_per_update = 1,\n",
    "        train_episodes_per_epoch = 10000,\n",
    "        test_episodes_per_epoch = 1000,\n",
    "        temperature_train = 1.0,\n",
    "        temperature_test = 0.1\n",
    "    )\n",
    "\n",
    "    eval_hypers_train = MCTSHypers(num_iters = 250, puct_coeff=1.41, dirichlet_alpha=0.5, dirichlet_epsilon=0.25)\n",
    "    eval_hypers_test = MCTSHypers(num_iters = 250, puct_coeff=1.41, dirichlet_alpha=0.1, dirichlet_epsilon=0.1)\n",
    "\n",
    "    run_tag='test_othello_1'\n",
    "\n",
    "    model = TurboZeroResnet(arch_params).to(DEVICE)\n",
    "\n",
    "    optimizer = torch.optim.AdamW(model.parameters(), lr=hypers.learning_rate)\n",
    "\n",
    "    trainer = OthelloTrainer(\n",
    "        OthelloMCTS(NUM_PARALLEL_ENVS, DEVICE, 8, eval_hypers_train, debug=DEBUG),\n",
    "        OthelloMCTS(hypers.test_episodes_per_epoch, DEVICE, 8, eval_hypers_test, debug=DEBUG),\n",
    "        NUM_PARALLEL_ENVS,\n",
    "        DEVICE,\n",
    "        torch.device('cpu'),\n",
    "        model,\n",
    "        optimizer,\n",
    "        hypers,\n",
    "        run_tag=run_tag\n",
    "    )\n",
    "\n",
    "plt.close('all')"
   ]
  },
  {
   "cell_type": "code",
   "execution_count": null,
   "metadata": {},
   "outputs": [],
   "source": [
    "trainer.training_loop()"
   ]
  }
 ],
 "metadata": {
  "kernelspec": {
   "display_name": "python3",
   "language": "python",
   "name": "python3"
  },
  "language_info": {
   "codemirror_mode": {
    "name": "ipython",
    "version": 3
   },
   "file_extension": ".py",
   "mimetype": "text/x-python",
   "name": "python",
   "nbconvert_exporter": "python",
   "pygments_lexer": "ipython3",
   "version": "3.8.16"
  },
  "orig_nbformat": 4
 },
 "nbformat": 4,
 "nbformat_minor": 2
}
