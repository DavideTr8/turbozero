{
 "cells": [
  {
   "cell_type": "code",
   "execution_count": 1,
   "metadata": {},
   "outputs": [],
   "source": [
    "import os\n",
    "os.environ[\"MKL_NUM_THREADS\"] = \"1\" \n",
    "os.environ[\"NUMEXPR_NUM_THREADS\"] = \"1\" \n",
    "os.environ[\"OMP_NUM_THREADS\"] = \"1\" \n",
    "\n",
    "\n",
    "import warnings\n",
    "warnings.filterwarnings(\"ignore\", category=UserWarning)\n",
    "from hyperparameters import AZ_HYPERPARAMETERS\n",
    "import torch\n",
    "from resnet2 import ResNet2Heads\n",
    "from utils import input_to_tensor_3d, input_to_tensor, input_to_tensor_scalar\n",
    "import torch.multiprocessing as mp\n",
    "from train import save_checkpoint, load_from_checkpoint, test_network, GameReplayMemory, rotate_training_examples, train, collect_episode\n",
    "from history import TrainingMetrics, Metric\n",
    "\n",
    "import matplotlib.pyplot as plt\n",
    "import numpy as np"
   ]
  },
  {
   "cell_type": "code",
   "execution_count": 2,
   "metadata": {},
   "outputs": [],
   "source": [
    "MODEL_TO_LOAD = \"resnet64v2_ep1.pt\" # place filename of checkpoint here, otherwise leave empty\n",
    "LOAD_REPLAY_MEMORY = True\n",
    "PLOT_EVERY = 50\n",
    "NUM_COLLECTION_PROCS = 4\n",
    "NUM_TRAIN_PROCS = 1\n",
    "\n",
    "# HYPERPARAMETERS (will be ignored if loading from a checkpoint)\n",
    "hypers = AZ_HYPERPARAMETERS() # use kwargs to specify non-default values\n"
   ]
  },
  {
   "cell_type": "code",
   "execution_count": 3,
   "metadata": {},
   "outputs": [
    {
     "name": "stderr",
     "output_type": "stream",
     "text": [
      "/Users/marshingjay/Repos/alpha-2048/history.py:43: RuntimeWarning: More than 20 figures have been opened. Figures created through the pyplot interface (`matplotlib.pyplot.figure`) are retained until explicitly closed and may consume too much memory. (To control this warning, see the rcParam `figure.max_open_warning`).\n",
      "  self.plot = plt.figure()\n"
     ]
    },
    {
     "data": {
      "text/plain": [
       "<Figure size 640x480 with 0 Axes>"
      ]
     },
     "metadata": {},
     "output_type": "display_data"
    },
    {
     "data": {
      "text/plain": [
       "<Figure size 640x480 with 0 Axes>"
      ]
     },
     "metadata": {},
     "output_type": "display_data"
    },
    {
     "data": {
      "text/plain": [
       "<Figure size 640x480 with 0 Axes>"
      ]
     },
     "metadata": {},
     "output_type": "display_data"
    },
    {
     "data": {
      "text/plain": [
       "<Figure size 640x480 with 0 Axes>"
      ]
     },
     "metadata": {},
     "output_type": "display_data"
    },
    {
     "data": {
      "text/plain": [
       "<Figure size 640x480 with 0 Axes>"
      ]
     },
     "metadata": {},
     "output_type": "display_data"
    },
    {
     "data": {
      "text/plain": [
       "<Figure size 640x480 with 0 Axes>"
      ]
     },
     "metadata": {},
     "output_type": "display_data"
    },
    {
     "data": {
      "text/plain": [
       "<Figure size 640x480 with 0 Axes>"
      ]
     },
     "metadata": {},
     "output_type": "display_data"
    },
    {
     "data": {
      "text/plain": [
       "<Figure size 640x480 with 0 Axes>"
      ]
     },
     "metadata": {},
     "output_type": "display_data"
    },
    {
     "data": {
      "text/plain": [
       "<Figure size 640x480 with 0 Axes>"
      ]
     },
     "metadata": {},
     "output_type": "display_data"
    },
    {
     "data": {
      "text/plain": [
       "<Figure size 640x480 with 0 Axes>"
      ]
     },
     "metadata": {},
     "output_type": "display_data"
    },
    {
     "data": {
      "text/plain": [
       "<Figure size 640x480 with 0 Axes>"
      ]
     },
     "metadata": {},
     "output_type": "display_data"
    },
    {
     "data": {
      "text/plain": [
       "<Figure size 640x480 with 0 Axes>"
      ]
     },
     "metadata": {},
     "output_type": "display_data"
    },
    {
     "data": {
      "text/plain": [
       "<Figure size 640x480 with 0 Axes>"
      ]
     },
     "metadata": {},
     "output_type": "display_data"
    },
    {
     "data": {
      "text/plain": [
       "<Figure size 640x480 with 0 Axes>"
      ]
     },
     "metadata": {},
     "output_type": "display_data"
    },
    {
     "data": {
      "text/plain": [
       "<Figure size 640x480 with 0 Axes>"
      ]
     },
     "metadata": {},
     "output_type": "display_data"
    },
    {
     "data": {
      "text/plain": [
       "<Figure size 640x480 with 0 Axes>"
      ]
     },
     "metadata": {},
     "output_type": "display_data"
    },
    {
     "data": {
      "text/plain": [
       "<Figure size 640x480 with 0 Axes>"
      ]
     },
     "metadata": {},
     "output_type": "display_data"
    },
    {
     "data": {
      "text/plain": [
       "<Figure size 640x480 with 0 Axes>"
      ]
     },
     "metadata": {},
     "output_type": "display_data"
    },
    {
     "data": {
      "text/plain": [
       "<Figure size 640x480 with 0 Axes>"
      ]
     },
     "metadata": {},
     "output_type": "display_data"
    },
    {
     "data": {
      "text/plain": [
       "<Figure size 640x480 with 0 Axes>"
      ]
     },
     "metadata": {},
     "output_type": "display_data"
    },
    {
     "data": {
      "text/plain": [
       "<Figure size 640x480 with 0 Axes>"
      ]
     },
     "metadata": {},
     "output_type": "display_data"
    },
    {
     "data": {
      "text/plain": [
       "<Figure size 640x480 with 0 Axes>"
      ]
     },
     "metadata": {},
     "output_type": "display_data"
    }
   ],
   "source": [
    "if MODEL_TO_LOAD:\n",
    "    model, optimizer, hypers, history, memory, run_tag = load_from_checkpoint(MODEL_TO_LOAD, ResNet2Heads, load_replay_memory=LOAD_REPLAY_MEMORY)\n",
    "    history.reset_all_figs()\n",
    "else:\n",
    "    # Set any hyperparameters you want to change here\n",
    "    \n",
    "\n",
    "    # init model, replay memory, optimizer, and metrics history\n",
    "    model = ResNet2Heads()\n",
    "    memory = GameReplayMemory(hypers.replay_memory_size)\n",
    "    optimizer = torch.optim.AdamW(model.parameters(), lr=hypers.learning_rate, weight_decay=hypers.weight_decay, amsgrad=True)\n",
    "    history = TrainingMetrics(\n",
    "        metrics=[\n",
    "            Metric(name='loss', xlabel='Episode', ylabel='Loss', addons={'running_mean': 100}, maximize=False, alert_on_best=True),\n",
    "            Metric(name='value_loss', xlabel='Episode', ylabel='Loss', addons={'running_mean': 100}, maximize=False, alert_on_best=True, proper_name='Value Loss'),\n",
    "            Metric(name='policy_loss', xlabel='Episode', ylabel='Loss', addons={'running_mean': 100}, maximize=False, alert_on_best=True, proper_name='Policy Loss'),\n",
    "            Metric(name='policy_accuracy', xlabel='Episode', ylabel='Accuracy (%)', addons={'running_mean': 100}, maximize=True, alert_on_best=True, proper_name='Policy Accuracy'),\n",
    "            Metric(name='game_score', xlabel='Episode', ylabel='Score', addons={'running_mean': 100}, maximize=True, alert_on_best=False, proper_name='Game Score'),\n",
    "            Metric(name='game_moves', xlabel='Episode', ylabel='Moves', addons={'running_mean': 100}, maximize=True, alert_on_best=True, proper_name='Game Moves'),\n",
    "            Metric(name='high_square', xlabel='Episode', ylabel='High Square (log2)', addons={'running_mean': 100}, maximize=True, alert_on_best=False, proper_name='High Square'),\n",
    "            Metric(name='avg_deviation', xlabel='Episode', ylabel='Turn', addons={'running_mean': 100}, maximize=True, alert_on_best=False, proper_name='Average Deviation'),\n",
    "            Metric(name='avg_score', xlabel='Epoch', ylabel='Score', maximize=True, alert_on_best=False, proper_name='Average Score'),\n",
    "            Metric(name='avg_moves', xlabel='Epoch', ylabel='Moves', maximize=True, alert_on_best=False, proper_name='Average Moves'),\n",
    "            Metric(name='avg_high_square', xlabel='Epoch', ylabel='High Square (log2)', maximize=True, alert_on_best=False, proper_name='Average High Square'),\n",
    "            Metric(name='std_moves', xlabel='Epoch', ylabel='Moves', maximize=False, alert_on_best=False, proper_name='Stddev Moves'),\n",
    "            Metric(name='tau_inflection', xlabel='Epoch', ylabel='Tau Inflection Turn', maximize=True, alert_on_best=False, proper_name='Tau Inflection'),\n",
    "        ],\n",
    "        eval_metrics=[\n",
    "            Metric(name='game_score', xlabel='Score', ylabel='Freq', pl_type='hist', maximize=True, alert_on_best=False, proper_name='Eval Game Scores'),\n",
    "            Metric(name='game_moves', xlabel='Moves', ylabel='Freq', pl_type='hist', maximize=True, alert_on_best=True, proper_name='Eval Game Moves'),\n",
    "            Metric(name='high_square', xlabel='High Square (log2)', ylabel='Freq', pl_type='hist', maximize=True, alert_on_best=False, proper_name='Eval High Square'),\n",
    "        ]\n",
    "    )\n",
    "    run_tag = 'resnet64v2'     "
   ]
  },
  {
   "cell_type": "code",
   "execution_count": 4,
   "metadata": {},
   "outputs": [],
   "source": [
    "hypers.mcts_iters_train = 2\n",
    "hypers.mcts_iters_eval = 2\n",
    "hypers.replay_memory_min_size = 1\n",
    "hypers.eval_games = 5\n",
    "hypers.episodes_per_epoch = 5"
   ]
  },
  {
   "cell_type": "code",
   "execution_count": 5,
   "metadata": {},
   "outputs": [],
   "source": [
    "def enque_and_train(results):\n",
    "    torch.set_num_threads(NUM_TRAIN_PROCS)\n",
    "    \n",
    "    training_examples, reward, moves, high_square, avg_deviation, score = results\n",
    "    training_examples = rotate_training_examples(training_examples)\n",
    "    memory.insert(list(training_examples))\n",
    "    \n",
    "    if memory.size() >= hypers.replay_memory_min_size:\n",
    "        cum_vl, cum_pl, cum_tl, cum_pa = 0.0, 0.0, 0.0, 0.0\n",
    "        for i in range(hypers.minibatches_per_update):\n",
    "            value_loss, prob_loss, total_loss, policy_acc = train(memory.sample(hypers.minibatch_size), model, optimizer, tensor_conversion_fn=input_to_tensor_scalar, \\\n",
    "                                                                  c_prob=hypers.policy_factor)\n",
    "            cum_vl += value_loss\n",
    "            cum_pl += prob_loss\n",
    "            cum_tl += total_loss\n",
    "            cum_pa += policy_acc\n",
    "            \n",
    "        cum_vl /= hypers.minibatches_per_update\n",
    "        cum_pl /= hypers.minibatches_per_update\n",
    "        cum_tl /= hypers.minibatches_per_update\n",
    "        cum_pa /= hypers.minibatches_per_update\n",
    "\n",
    "        history.add_episode_data({\n",
    "            'loss': cum_tl,\n",
    "            'value_loss': cum_vl,\n",
    "            'policy_loss': cum_pl,\n",
    "            'policy_accuracy': cum_pa,\n",
    "            'game_score': score,\n",
    "            'game_moves': moves,\n",
    "            'high_square': high_square,\n",
    "            'avg_deviation': avg_deviation\n",
    "        }, print_data=True)\n",
    "\n",
    "        if history.cur_episode % PLOT_EVERY == 0:\n",
    "            history.generate_plots()\n",
    "    else:\n",
    "        print(f'Replay memory size not large enough, {memory.size()} < {hypers.replay_memory_min_size}')\n",
    "\n",
    "def enque_eval_results(results):\n",
    "    _, moves, high_square, score = results\n",
    "    history.add_eval_data({\n",
    "        'game_score': score,\n",
    "        'game_moves': moves,\n",
    "        'high_square': high_square\n",
    "    })"
   ]
  },
  {
   "cell_type": "code",
   "execution_count": 6,
   "metadata": {},
   "outputs": [
    {
     "name": "stdout",
     "output_type": "stream",
     "text": [
      "Starting epoch 1/100\n",
      "Training...\n"
     ]
    },
    {
     "name": "stderr",
     "output_type": "stream",
     "text": [
      "/Users/marshingjay/miniconda3/envs/python3/lib/python3.8/site-packages/torch/nn/modules/conv.py:453: UserWarning: Using padding='same' with even kernel lengths and odd dilation may require a zero-padded copy of the input be created (Triggered internally at  /private/var/folders/nz/j6p8yfhx1mv_0grj5xl4650h0000gp/T/abs_62dm4livko/croot/pytorch_1675190252673/work/aten/src/ATen/native/Convolution.cpp:883.)\n",
      "  return F.conv2d(input, weight, bias, self.stride,\n",
      "/Users/marshingjay/miniconda3/envs/python3/lib/python3.8/site-packages/torch/nn/modules/conv.py:453: UserWarning: Using padding='same' with even kernel lengths and odd dilation may require a zero-padded copy of the input be created (Triggered internally at  /private/var/folders/nz/j6p8yfhx1mv_0grj5xl4650h0000gp/T/abs_62dm4livko/croot/pytorch_1675190252673/work/aten/src/ATen/native/Convolution.cpp:883.)\n",
      "  return F.conv2d(input, weight, bias, self.stride,\n",
      "/Users/marshingjay/miniconda3/envs/python3/lib/python3.8/site-packages/torch/nn/modules/conv.py:453: UserWarning: Using padding='same' with even kernel lengths and odd dilation may require a zero-padded copy of the input be created (Triggered internally at  /private/var/folders/nz/j6p8yfhx1mv_0grj5xl4650h0000gp/T/abs_62dm4livko/croot/pytorch_1675190252673/work/aten/src/ATen/native/Convolution.cpp:883.)\n",
      "  return F.conv2d(input, weight, bias, self.stride,\n",
      "/Users/marshingjay/miniconda3/envs/python3/lib/python3.8/site-packages/torch/nn/modules/conv.py:453: UserWarning: Using padding='same' with even kernel lengths and odd dilation may require a zero-padded copy of the input be created (Triggered internally at  /private/var/folders/nz/j6p8yfhx1mv_0grj5xl4650h0000gp/T/abs_62dm4livko/croot/pytorch_1675190252673/work/aten/src/ATen/native/Convolution.cpp:883.)\n",
      "  return F.conv2d(input, weight, bias, self.stride,\n"
     ]
    },
    {
     "name": "stdout",
     "output_type": "stream",
     "text": [
      "Episode 0\n",
      "\tLoss: 122.71309095254401\n",
      "\tValue Loss: 55.13144111633301\n",
      "\tPolicy Loss: 67.581649836211\n",
      "\tPolicy Accuracy: 0.310546875\n",
      "\tGame Score: 1028.0\n",
      "\tGame Moves: 111\n",
      "\tHigh Square: 7\n",
      "\tAverage Deviation: 56.66101694915254\n",
      "**** NEW BEST Loss: 122.71309095254401 ****\n",
      "**** NEW BEST Value Loss: 55.13144111633301 ****\n",
      "**** NEW BEST Policy Loss: 67.581649836211 ****\n",
      "**** NEW BEST Policy Accuracy: 0.310546875 ****\n",
      "**** NEW BEST Game Moves: 111 ****\n",
      "Episode 1\n",
      "\tLoss: 119.44745151224197\n",
      "\tValue Loss: 53.16577672958374\n",
      "\tPolicy Loss: 66.28167478265823\n",
      "\tPolicy Accuracy: 0.32470703125\n",
      "\tGame Score: 844.0\n",
      "\tGame Moves: 102\n",
      "\tHigh Square: 6\n",
      "\tAverage Deviation: 56.160714285714285\n",
      "**** NEW BEST Loss: 119.44745151224197 ****\n",
      "**** NEW BEST Value Loss: 53.16577672958374 ****\n",
      "**** NEW BEST Policy Loss: 66.28167478265823 ****\n",
      "**** NEW BEST Policy Accuracy: 0.32470703125 ****\n",
      "Episode 2\n",
      "\tLoss: 117.06118751782924\n",
      "\tValue Loss: 51.0110867023468\n",
      "\tPolicy Loss: 66.05010081548244\n",
      "\tPolicy Accuracy: 0.3193359375\n",
      "\tGame Score: 692.0\n",
      "\tGame Moves: 92\n",
      "\tHigh Square: 6\n",
      "\tAverage Deviation: 43.94\n",
      "**** NEW BEST Loss: 117.06118751782924 ****\n",
      "**** NEW BEST Value Loss: 51.0110867023468 ****\n",
      "**** NEW BEST Policy Loss: 66.05010081548244 ****\n",
      "Episode 3\n",
      "\tLoss: 115.87128170992946\n",
      "\tValue Loss: 50.69891905784607\n",
      "\tPolicy Loss: 65.1723626520834\n",
      "\tPolicy Accuracy: 0.3603515625\n",
      "\tGame Score: 980.0\n",
      "\tGame Moves: 103\n",
      "\tHigh Square: 7\n",
      "\tAverage Deviation: 49.032786885245905\n",
      "**** NEW BEST Loss: 115.87128170992946 ****\n",
      "**** NEW BEST Value Loss: 50.69891905784607 ****\n",
      "**** NEW BEST Policy Loss: 65.1723626520834 ****\n",
      "**** NEW BEST Policy Accuracy: 0.3603515625 ****\n"
     ]
    },
    {
     "ename": "KeyboardInterrupt",
     "evalue": "",
     "output_type": "error",
     "traceback": [
      "\u001b[0;31m---------------------------------------------------------------------------\u001b[0m",
      "\u001b[0;31mKeyboardInterrupt\u001b[0m                         Traceback (most recent call last)",
      "Cell \u001b[0;32mIn[6], line 18\u001b[0m\n\u001b[1;32m     16\u001b[0m         results\u001b[39m.\u001b[39mappend(p\u001b[39m.\u001b[39mapply_async(collect_episode, (model, hypers, input_to_tensor_scalar, tau_shift, tau_divisor), callback\u001b[39m=\u001b[39menque_and_train, error_callback\u001b[39m=\u001b[39m\u001b[39mprint\u001b[39m))\n\u001b[1;32m     17\u001b[0m     \u001b[39mfor\u001b[39;00m r \u001b[39min\u001b[39;00m results:\n\u001b[0;32m---> 18\u001b[0m         r\u001b[39m.\u001b[39;49mwait()\n\u001b[1;32m     20\u001b[0m \u001b[39mprint\u001b[39m(\u001b[39m'\u001b[39m\u001b[39mTesting...\u001b[39m\u001b[39m'\u001b[39m)\n\u001b[1;32m     21\u001b[0m \u001b[39mwith\u001b[39;00m mp\u001b[39m.\u001b[39mPool(NUM_COLLECTION_PROCS) \u001b[39mas\u001b[39;00m p:\n",
      "File \u001b[0;32m~/miniconda3/envs/python3/lib/python3.8/multiprocessing/pool.py:762\u001b[0m, in \u001b[0;36mApplyResult.wait\u001b[0;34m(self, timeout)\u001b[0m\n\u001b[1;32m    761\u001b[0m \u001b[39mdef\u001b[39;00m \u001b[39mwait\u001b[39m(\u001b[39mself\u001b[39m, timeout\u001b[39m=\u001b[39m\u001b[39mNone\u001b[39;00m):\n\u001b[0;32m--> 762\u001b[0m     \u001b[39mself\u001b[39;49m\u001b[39m.\u001b[39;49m_event\u001b[39m.\u001b[39;49mwait(timeout)\n",
      "File \u001b[0;32m~/miniconda3/envs/python3/lib/python3.8/threading.py:558\u001b[0m, in \u001b[0;36mEvent.wait\u001b[0;34m(self, timeout)\u001b[0m\n\u001b[1;32m    556\u001b[0m signaled \u001b[39m=\u001b[39m \u001b[39mself\u001b[39m\u001b[39m.\u001b[39m_flag\n\u001b[1;32m    557\u001b[0m \u001b[39mif\u001b[39;00m \u001b[39mnot\u001b[39;00m signaled:\n\u001b[0;32m--> 558\u001b[0m     signaled \u001b[39m=\u001b[39m \u001b[39mself\u001b[39;49m\u001b[39m.\u001b[39;49m_cond\u001b[39m.\u001b[39;49mwait(timeout)\n\u001b[1;32m    559\u001b[0m \u001b[39mreturn\u001b[39;00m signaled\n",
      "File \u001b[0;32m~/miniconda3/envs/python3/lib/python3.8/threading.py:302\u001b[0m, in \u001b[0;36mCondition.wait\u001b[0;34m(self, timeout)\u001b[0m\n\u001b[1;32m    300\u001b[0m \u001b[39mtry\u001b[39;00m:    \u001b[39m# restore state no matter what (e.g., KeyboardInterrupt)\u001b[39;00m\n\u001b[1;32m    301\u001b[0m     \u001b[39mif\u001b[39;00m timeout \u001b[39mis\u001b[39;00m \u001b[39mNone\u001b[39;00m:\n\u001b[0;32m--> 302\u001b[0m         waiter\u001b[39m.\u001b[39;49macquire()\n\u001b[1;32m    303\u001b[0m         gotit \u001b[39m=\u001b[39m \u001b[39mTrue\u001b[39;00m\n\u001b[1;32m    304\u001b[0m     \u001b[39melse\u001b[39;00m:\n",
      "\u001b[0;31mKeyboardInterrupt\u001b[0m: "
     ]
    }
   ],
   "source": [
    "\n",
    "\n",
    "\n",
    "if history.cur_epoch < 2:\n",
    "    tau_shift = 0.0\n",
    "    tau_divisor = 1.0\n",
    "else:\n",
    "    mean = history.metrics['avg_moves'].data[-1]\n",
    "    std = history.metrics['std_moves'].data[-1]\n",
    "    tau_shift = mean - (hypers.tau_s * std)\n",
    "    tau_divisor = mean / hypers.tau_d\n",
    "\n",
    "for epoch in range(history.cur_epoch, hypers.num_epochs):\n",
    "    print(f'Starting epoch {epoch}/{hypers.num_epochs}')\n",
    "    print('Training...')\n",
    "    with mp.Pool(NUM_COLLECTION_PROCS) as p:\n",
    "        results = []\n",
    "        for _ in range(history.cur_episode, hypers.episodes_per_epoch * epoch):\n",
    "            results.append(p.apply_async(collect_episode, (model, hypers, input_to_tensor_scalar, tau_shift, tau_divisor), callback=enque_and_train, error_callback=print))\n",
    "        for r in results:\n",
    "            r.wait()\n",
    "    \n",
    "    print('Testing...')\n",
    "    with mp.Pool(NUM_COLLECTION_PROCS) as p:\n",
    "        results = []\n",
    "        for _ in range(hypers.eval_games):\n",
    "            results.append(p.apply_async(test_network, (model, hypers, input_to_tensor_scalar, ), callback=enque_eval_results, error_callback=print))\n",
    "        for r in results:\n",
    "            r.wait()\n",
    "    \n",
    "    \n",
    "    \n",
    "    history.add_epoch_data({\n",
    "        'avg_score': np.mean(history.eval_metrics['game_score'][-1].data),\n",
    "        'avg_moves': np.mean(history.eval_metrics['game_moves'][-1].data),\n",
    "        'avg_high_square': np.mean(history.eval_metrics['high_square'][-1].data),\n",
    "        'std_moves': np.std(history.eval_metrics['game_moves'][-1].data),\n",
    "        'tau_inflection': tau_shift\n",
    "    })\n",
    "    \n",
    "    if history.cur_epoch > 1:\n",
    "        mean = history.metrics['avg_moves'].data[-1]\n",
    "        std = history.metrics['std_moves'].data[-1]\n",
    "        tau_shift = mean - (hypers.tau_s * std)\n",
    "        tau_divisor = mean / hypers.tau_d\n",
    "\n",
    "    history.generate_plots()\n",
    "    \n",
    "    print('Saving model checkpoint...')\n",
    "    save_checkpoint(model, optimizer, hypers, history, memory, run_tag, save_replay_memory=True)\n",
    "    print('Saved model checkpoint!')\n",
    "    \n",
    "        "
   ]
  }
 ],
 "metadata": {
  "kernelspec": {
   "display_name": "Python 3",
   "language": "python",
   "name": "python3"
  },
  "language_info": {
   "codemirror_mode": {
    "name": "ipython",
    "version": 3
   },
   "file_extension": ".py",
   "mimetype": "text/x-python",
   "name": "python",
   "nbconvert_exporter": "python",
   "pygments_lexer": "ipython3",
   "version": "3.8.16"
  },
  "vscode": {
   "interpreter": {
    "hash": "644e7a931897874d9649e2ac8857f34ca516c0cb177a94235220b02fad034c18"
   }
  }
 },
 "nbformat": 4,
 "nbformat_minor": 4
}
