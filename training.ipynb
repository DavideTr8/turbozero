{
 "cells": [
  {
   "cell_type": "code",
   "execution_count": 1,
   "metadata": {},
   "outputs": [
    {
     "name": "stderr",
     "output_type": "stream",
     "text": [
      "/Users/marshingjay/miniconda3/envs/python3/lib/python3.8/site-packages/tqdm/auto.py:21: TqdmWarning: IProgress not found. Please update jupyter and ipywidgets. See https://ipywidgets.readthedocs.io/en/stable/user_install.html\n",
      "  from .autonotebook import tqdm as notebook_tqdm\n"
     ]
    }
   ],
   "source": [
    "import os\n",
    "os.environ[\"MKL_NUM_THREADS\"] = \"1\" \n",
    "os.environ[\"NUMEXPR_NUM_THREADS\"] = \"1\" \n",
    "os.environ[\"OMP_NUM_THREADS\"] = \"1\" \n",
    "\n",
    "\n",
    "import warnings\n",
    "warnings.filterwarnings(\"ignore\", category=UserWarning)\n",
    "\n",
    "from hyperparameters import AZ_HYPERPARAMETERS\n",
    "import torch\n",
    "# torch.set_num_threads(1)\n",
    "\n",
    "import matplotlib.pyplot as plt\n",
    "\n",
    "import logging\n",
    "logging.basicConfig(filename='training.log', filemode='a', level=logging.INFO, format='%(asctime)s %(message)s')\n",
    "logging.info('Starting training')\n",
    "\n",
    "from az_resnet import AZResnetArchitectureParameters, AZResnet\n",
    "from trainer import AlphaZeroTrainer, init_trainer_from_checkpoint\n",
    "from env2048.trainer import _2048Trainer\n",
    "import torch.multiprocessing as mp\n",
    "mp.set_start_method('spawn', force=True)\n",
    "\n",
    "# depending on the cloud provider you're using you may need to uncomment these lines\n",
    "# import resource\n",
    "# resource.setrlimit(\n",
    "#     resource.RLIMIT_NOFILE,\n",
    "#     (200000, 200000))"
   ]
  },
  {
   "cell_type": "code",
   "execution_count": 2,
   "metadata": {},
   "outputs": [],
   "source": [
    "CHECKPOINT_PATH = \"\" # place filename of checkpoint here, otherwise leave empty\n",
    "LOAD_REPLAY_MEMORY = True\n",
    "PLOT_EVERY = 25\n",
    "NUM_COLLECTION_PROCS = 8\n",
    "NUM_TRAIN_PROCS = 1\n",
    "device = torch.device(\"cuda\" if torch.cuda.is_available() else \"cpu\")"
   ]
  },
  {
   "cell_type": "code",
   "execution_count": 3,
   "metadata": {},
   "outputs": [],
   "source": [
    "if CHECKPOINT_PATH:\n",
    "    trainer = init_trainer_from_checkpoint(CHECKPOINT_PATH, load_replay_memory=LOAD_REPLAY_MEMORY)\n",
    "    logging.info(f'Loaded model from {CHECKPOINT_PATH}')\n",
    "else:\n",
    "    # name your run here\n",
    "    run_tag = 'resnet2048'\n",
    "    hypers = AZ_HYPERPARAMETERS()\n",
    "    # Set any hyperparameters you want to change here\n",
    "    \n",
    "    # hypers.mcts_iters_train = 100\n",
    "    # ...\n",
    "\n",
    "    # init model, replay memory, optimizer, and metrics history\n",
    "    model_arch_params = AZResnetArchitectureParameters(\n",
    "        input_size=torch.Size([4,4,4]),\n",
    "        policy_size=4,\n",
    "        res_channels=16,\n",
    "        res_blocks=8,\n",
    "        value_head_res_channels=16,\n",
    "        value_head_res_blocks=0,\n",
    "        policy_head_res_channels=16,\n",
    "        policy_head_res_blocks=0,\n",
    "        kernel_size=3,\n",
    "        policy_fc_size=32,\n",
    "        value_fc_size=32,\n",
    "    )\n",
    "\n",
    "    model = AZResnet(model_arch_params)\n",
    "    model.to(device)\n",
    "    model.share_memory()\n",
    "    optimizer = torch.optim.AdamW(model.parameters(), lr=hypers.learning_rate, weight_decay=hypers.weight_decay, amsgrad=True)\n",
    "    trainer = _2048Trainer(model, optimizer, device, hypers, run_tag=run_tag)\n",
    "    logging.info(f'Created new trainer module with tag {run_tag}')\n",
    "plt.close('all')"
   ]
  },
  {
   "cell_type": "code",
   "execution_count": 7,
   "metadata": {},
   "outputs": [
    {
     "data": {
      "text/plain": [
       "{'score': 1496.0, 'moves': 151, 'max_tile': 128, 'progression_id': (15, 1)}"
      ]
     },
     "execution_count": 7,
     "metadata": {},
     "output_type": "execute_result"
    }
   ],
   "source": [
    "trainer.run_training_loop()"
   ]
  }
 ],
 "metadata": {
  "kernelspec": {
   "display_name": "Python 3",
   "language": "python",
   "name": "python3"
  },
  "language_info": {
   "codemirror_mode": {
    "name": "ipython",
    "version": 3
   },
   "file_extension": ".py",
   "mimetype": "text/x-python",
   "name": "python",
   "nbconvert_exporter": "python",
   "pygments_lexer": "ipython3",
   "version": "3.8.16"
  },
  "vscode": {
   "interpreter": {
    "hash": "644e7a931897874d9649e2ac8857f34ca516c0cb177a94235220b02fad034c18"
   }
  }
 },
 "nbformat": 4,
 "nbformat_minor": 4
}
