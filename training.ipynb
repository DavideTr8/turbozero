{
 "cells": [
  {
   "cell_type": "code",
   "execution_count": 3,
   "metadata": {},
   "outputs": [],
   "source": [
    "import os\n",
    "os.environ[\"MKL_NUM_THREADS\"] = \"1\" \n",
    "os.environ[\"NUMEXPR_NUM_THREADS\"] = \"1\" \n",
    "os.environ[\"OMP_NUM_THREADS\"] = \"1\" \n",
    "\n",
    "\n",
    "import warnings\n",
    "warnings.filterwarnings(\"ignore\", category=UserWarning)\n",
    "from hyperparameters import AZ_HYPERPARAMETERS\n",
    "import torch\n",
    "from resnet2 import ResNet2Heads\n",
    "from utils import input_to_tensor_3d, input_to_tensor, input_to_tensor_scalar\n",
    "import torch.multiprocessing as mp\n",
    "from train import save_checkpoint, load_from_checkpoint, test_network, GameReplayMemory, rotate_training_examples, train, collect_episode\n",
    "from history import TrainingMetrics, Metric\n",
    "\n",
    "import matplotlib.pyplot as plt\n",
    "import numpy as np\n",
    "from copy import deepcopy"
   ]
  },
  {
   "cell_type": "code",
   "execution_count": 4,
   "metadata": {},
   "outputs": [
    {
     "data": {
      "text/plain": [
       "64037"
      ]
     },
     "execution_count": 4,
     "metadata": {},
     "output_type": "execute_result"
    }
   ],
   "source": [
    "sum(p.numel() for p in ResNet2Heads().parameters() if p.requires_grad)"
   ]
  },
  {
   "cell_type": "code",
   "execution_count": 5,
   "metadata": {},
   "outputs": [],
   "source": [
    "MODEL_TO_LOAD = \"\" # place filename of checkpoint here, otherwise leave empty\n",
    "LOAD_REPLAY_MEMORY = True\n",
    "PLOT_EVERY = 10000\n",
    "NUM_COLLECTION_PROCS = 4\n",
    "NUM_TRAIN_PROCS = 1\n",
    "\n",
    "\n",
    "# HYPERPARAMETERS (will be ignored if loading from a checkpoint)\n",
    "hypers = AZ_HYPERPARAMETERS() # use kwargs to specify non-default values\n"
   ]
  },
  {
   "cell_type": "code",
   "execution_count": 6,
   "metadata": {},
   "outputs": [
    {
     "data": {
      "text/plain": [
       "<Figure size 640x480 with 0 Axes>"
      ]
     },
     "metadata": {},
     "output_type": "display_data"
    },
    {
     "data": {
      "text/plain": [
       "<Figure size 640x480 with 0 Axes>"
      ]
     },
     "metadata": {},
     "output_type": "display_data"
    },
    {
     "data": {
      "text/plain": [
       "<Figure size 640x480 with 0 Axes>"
      ]
     },
     "metadata": {},
     "output_type": "display_data"
    },
    {
     "data": {
      "text/plain": [
       "<Figure size 640x480 with 0 Axes>"
      ]
     },
     "metadata": {},
     "output_type": "display_data"
    },
    {
     "data": {
      "text/plain": [
       "<Figure size 640x480 with 0 Axes>"
      ]
     },
     "metadata": {},
     "output_type": "display_data"
    },
    {
     "data": {
      "text/plain": [
       "<Figure size 640x480 with 0 Axes>"
      ]
     },
     "metadata": {},
     "output_type": "display_data"
    },
    {
     "data": {
      "text/plain": [
       "<Figure size 640x480 with 0 Axes>"
      ]
     },
     "metadata": {},
     "output_type": "display_data"
    },
    {
     "data": {
      "text/plain": [
       "<Figure size 640x480 with 0 Axes>"
      ]
     },
     "metadata": {},
     "output_type": "display_data"
    },
    {
     "data": {
      "text/plain": [
       "<Figure size 640x480 with 0 Axes>"
      ]
     },
     "metadata": {},
     "output_type": "display_data"
    },
    {
     "data": {
      "text/plain": [
       "<Figure size 640x480 with 0 Axes>"
      ]
     },
     "metadata": {},
     "output_type": "display_data"
    },
    {
     "data": {
      "text/plain": [
       "<Figure size 640x480 with 0 Axes>"
      ]
     },
     "metadata": {},
     "output_type": "display_data"
    },
    {
     "data": {
      "text/plain": [
       "<Figure size 640x480 with 0 Axes>"
      ]
     },
     "metadata": {},
     "output_type": "display_data"
    },
    {
     "data": {
      "text/plain": [
       "<Figure size 640x480 with 0 Axes>"
      ]
     },
     "metadata": {},
     "output_type": "display_data"
    },
    {
     "data": {
      "text/plain": [
       "<Figure size 640x480 with 0 Axes>"
      ]
     },
     "metadata": {},
     "output_type": "display_data"
    },
    {
     "data": {
      "text/plain": [
       "<Figure size 640x480 with 0 Axes>"
      ]
     },
     "metadata": {},
     "output_type": "display_data"
    }
   ],
   "source": [
    "if MODEL_TO_LOAD:\n",
    "    model, optimizer, hypers, history, memory, run_tag = load_from_checkpoint(MODEL_TO_LOAD, ResNet2Heads, load_replay_memory=LOAD_REPLAY_MEMORY)\n",
    "    history.reset_all_figs()\n",
    "else:\n",
    "    # Set any hyperparameters you want to change here\n",
    "    \n",
    "\n",
    "    # init model, replay memory, optimizer, and metrics history\n",
    "    model = ResNet2Heads()\n",
    "    memory = GameReplayMemory(hypers.replay_memory_size)\n",
    "    optimizer = torch.optim.AdamW(model.parameters(), lr=hypers.learning_rate, weight_decay=hypers.weight_decay, amsgrad=True)\n",
    "    history = TrainingMetrics(\n",
    "        metrics=[\n",
    "            Metric(name='loss', xlabel='Episode', ylabel='Loss', addons={'running_mean': 100}, maximize=False, alert_on_best=True),\n",
    "            Metric(name='value_loss', xlabel='Episode', ylabel='Loss', addons={'running_mean': 100}, maximize=False, alert_on_best=True, proper_name='Value Loss'),\n",
    "            Metric(name='policy_loss', xlabel='Episode', ylabel='Loss', addons={'running_mean': 100}, maximize=False, alert_on_best=True, proper_name='Policy Loss'),\n",
    "            Metric(name='policy_accuracy', xlabel='Episode', ylabel='Accuracy (%)', addons={'running_mean': 100}, maximize=True, alert_on_best=True, proper_name='Policy Accuracy'),\n",
    "            Metric(name='game_score', xlabel='Episode', ylabel='Score', addons={'running_mean': 100}, maximize=True, alert_on_best=False, proper_name='Game Score'),\n",
    "            Metric(name='game_moves', xlabel='Episode', ylabel='Moves', addons={'running_mean': 100}, maximize=True, alert_on_best=True, proper_name='Game Moves'),\n",
    "            Metric(name='high_square', xlabel='Episode', ylabel='High Square (log2)', addons={'running_mean': 100}, maximize=True, alert_on_best=False, proper_name='High Square'),\n",
    "            Metric(name='avg_deviation', xlabel='Episode', ylabel='Turn', addons={'running_mean': 100}, maximize=True, alert_on_best=False, proper_name='Average Deviation'),\n",
    "            Metric(name='avg_score', xlabel='Epoch', ylabel='Score', maximize=True, alert_on_best=False, proper_name='Average Score'),\n",
    "            Metric(name='avg_moves', xlabel='Epoch', ylabel='Moves', maximize=True, alert_on_best=False, proper_name='Average Moves'),\n",
    "            Metric(name='avg_high_square', xlabel='Epoch', ylabel='High Square (log2)', maximize=True, alert_on_best=False, proper_name='Average High Square'),\n",
    "            Metric(name='std_moves', xlabel='Epoch', ylabel='Moves', maximize=False, alert_on_best=False, proper_name='Stddev Moves'),\n",
    "        ],\n",
    "        eval_metrics=[\n",
    "            Metric(name='game_score', xlabel='Score', ylabel='Freq', pl_type='hist', maximize=True, alert_on_best=False, proper_name='Eval Game Scores'),\n",
    "            Metric(name='game_moves', xlabel='Moves', ylabel='Freq', pl_type='hist', maximize=True, alert_on_best=True, proper_name='Eval Game Moves'),\n",
    "            Metric(name='high_square', xlabel='High Square (log2)', ylabel='Freq', pl_type='hist', maximize=True, alert_on_best=False, proper_name='Eval High Square'),\n",
    "        ]\n",
    "    )\n",
    "    run_tag = 'resnet64v2'     "
   ]
  },
  {
   "cell_type": "code",
   "execution_count": 7,
   "metadata": {},
   "outputs": [],
   "source": [
    "def enque_and_train(results):\n",
    "    torch.set_num_threads(NUM_TRAIN_PROCS)\n",
    "    \n",
    "    training_examples, reward, moves, high_square, avg_deviation, score = results\n",
    "    training_examples = rotate_training_examples(training_examples)\n",
    "    memory.insert(list(training_examples))\n",
    "    \n",
    "    if memory.size() >= hypers.replay_memory_min_size:\n",
    "        cum_vl, cum_pl, cum_tl, cum_pa = 0.0, 0.0, 0.0, 0.0\n",
    "        for i in range(hypers.minibatches_per_update):\n",
    "            value_loss, prob_loss, total_loss, policy_acc = train(memory.sample(hypers.minibatch_size), model, optimizer, tensor_conversion_fn=input_to_tensor_scalar, \\\n",
    "                                                                  c_prob=hypers.policy_factor)\n",
    "            cum_vl += value_loss\n",
    "            cum_pl += prob_loss\n",
    "            cum_tl += total_loss\n",
    "            cum_pa += policy_acc\n",
    "            \n",
    "        cum_vl /= hypers.minibatches_per_update\n",
    "        cum_pl /= hypers.minibatches_per_update\n",
    "        cum_tl /= hypers.minibatches_per_update\n",
    "        cum_pa /= hypers.minibatches_per_update\n",
    "\n",
    "        history.add_episode_data({\n",
    "            'loss': cum_tl,\n",
    "            'value_loss': cum_vl,\n",
    "            'policy_loss': cum_pl,\n",
    "            'policy_accuracy': cum_pa,\n",
    "            'game_score': score,\n",
    "            'game_moves': moves,\n",
    "            'high_square': high_square,\n",
    "            'avg_deviation': avg_deviation\n",
    "        }, print_data=True)\n",
    "\n",
    "        if history.cur_episode % PLOT_EVERY == 0:\n",
    "            history.generate_plots()\n",
    "    else:\n",
    "        print(f'Replay memory size not large enough, {memory.size()} < {hypers.replay_memory_min_size}')\n",
    "\n",
    "def enque_eval_results(results):\n",
    "    _, moves, high_square, score = results\n",
    "    history.add_eval_data({\n",
    "        'game_score': score,\n",
    "        'game_moves': moves,\n",
    "        'high_square': high_square\n",
    "    })"
   ]
  },
  {
   "cell_type": "code",
   "execution_count": null,
   "metadata": {},
   "outputs": [],
   "source": [
    "# populate replay memory\n",
    "with mp.Pool(NUM_COLLECTION_PROCS) as p:\n",
    "    results = []\n",
    "    for _ in range(memory.size(), hypers.replay_memory_min_size - 1):\n",
    "        results.append(p.apply_async(collect_episode, (model, hypers, input_to_tensor_scalar), callback=enque_and_train, error_callback=print))\n",
    "    for r in results:\n",
    "        r.wait()\n",
    "    \n",
    "\n",
    "for epoch in range(history.cur_epoch, hypers.num_epochs):\n",
    "    prev_model = deepcopy(model)\n",
    "    prev_optimizer = deepcopy(optimizer)\n",
    "    print(f'Starting epoch {epoch}/{hypers.num_epochs}')\n",
    "    print('Training...')\n",
    "    with mp.Pool(NUM_COLLECTION_PROCS) as p:\n",
    "        results = []\n",
    "        for _ in range(history.cur_episode, hypers.episodes_per_epoch * epoch):\n",
    "            results.append(p.apply_async(collect_episode, (model, hypers, input_to_tensor_scalar), callback=enque_and_train, error_callback=print))\n",
    "        for r in results:\n",
    "            r.wait()\n",
    "    \n",
    "    print('Testing...')\n",
    "    with mp.Pool(NUM_COLLECTION_PROCS) as p:\n",
    "        results = []\n",
    "        for _ in range(hypers.eval_games):\n",
    "            results.append(p.apply_async(test_network, (model, hypers, input_to_tensor_scalar), callback=enque_eval_results, error_callback=print))\n",
    "        for r in results:\n",
    "            r.wait()\n",
    "\n",
    "    \n",
    "    history.add_epoch_data({\n",
    "        'avg_score': np.mean(history.eval_metrics['game_score'][-1].data),\n",
    "        'avg_moves': np.mean(history.eval_metrics['game_moves'][-1].data),\n",
    "        'avg_high_square': np.mean(history.eval_metrics['high_square'][-1].data),\n",
    "        'std_moves': np.std(history.eval_metrics['game_moves'][-1].data)\n",
    "    })\n",
    "\n",
    "    # if model has not improved, load previous model\n",
    "    if epoch > 0 and history.metrics['avg_moves'].data[-1] < history.metrics['avg_moves'].data[-2]:\n",
    "        print('Model has not improved, reverting to previous model...')\n",
    "        print('Previous model avg moves:', history.metrics['avg_moves'].data[-1])\n",
    "        print('Current model avg moves:', history.metrics['avg_moves'].data[-2])\n",
    "        model = prev_model\n",
    "        optimizer = prev_optimizer\n",
    "\n",
    "\n",
    "    history.generate_plots()\n",
    "    \n",
    "    print('Saving model checkpoint...')\n",
    "    save_checkpoint(model, optimizer, hypers, history, memory, run_tag, save_replay_memory=True)\n",
    "    print('Saved model checkpoint!')\n",
    "    \n",
    "        "
   ]
  },
  {
   "cell_type": "code",
   "execution_count": 10,
   "metadata": {},
   "outputs": [
    {
     "name": "stdout",
     "output_type": "stream",
     "text": [
      "Episode 0\n",
      "\tLoss: 73.06212987436348\n",
      "\tValue Loss: 3.9527564346790314\n",
      "\tPolicy Loss: 69.10937343968445\n",
      "\tPolicy Accuracy: 0.35546875\n",
      "\tGame Score: 1276.0\n",
      "\tGame Moves: 136\n",
      "\tHigh Square: 7\n",
      "\tAverage Deviation: 68.6923076923077\n",
      "**** NEW BEST Loss: 73.06212987436348 ****\n",
      "**** NEW BEST Value Loss: 3.9527564346790314 ****\n",
      "**** NEW BEST Policy Loss: 69.10937343968445 ****\n",
      "**** NEW BEST Policy Accuracy: 0.35546875 ****\n",
      "**** NEW BEST Game Moves: 136 ****\n"
     ]
    }
   ],
   "source": [
    "hypers.replay_memory_min_size = 0\n",
    "enque_and_train(collect_episode(model, hypers, input_to_tensor_scalar))"
   ]
  },
  {
   "cell_type": "code",
   "execution_count": 14,
   "metadata": {},
   "outputs": [
    {
     "name": "stderr",
     "output_type": "stream",
     "text": [
      "/var/folders/bd/sfd5qw2j27v1b3ht5zx176l00000gn/T/ipykernel_25044/3362211688.py:3: RuntimeWarning: divide by zero encountered in log2\n",
      "  plt.plot(np.linspace(0, 2000, 2000), np.log2(np.linspace(0, 2000, 2000)))\n"
     ]
    },
    {
     "data": {
      "text/plain": [
       "[<matplotlib.lines.Line2D at 0x13177f280>]"
      ]
     },
     "execution_count": 14,
     "metadata": {},
     "output_type": "execute_result"
    },
    {
     "data": {
      "image/png": "[encoded data removed]",
      "text/plain": [
       "<Figure size 640x480 with 1 Axes>"
      ]
     },
     "metadata": {},
     "output_type": "display_data"
    }
   ],
   "source": [
    "import matplotlib.pyplot as plt\n",
    "import numpy as np\n",
    "plt.plot(np.linspace(0, 2000, 2000), np.log2(np.linspace(0, 2000, 2000)))"
   ]
  }
 ],
 "metadata": {
  "kernelspec": {
   "display_name": "Python 3",
   "language": "python",
   "name": "python3"
  },
  "language_info": {
   "codemirror_mode": {
    "name": "ipython",
    "version": 3
   },
   "file_extension": ".py",
   "mimetype": "text/x-python",
   "name": "python",
   "nbconvert_exporter": "python",
   "pygments_lexer": "ipython3",
   "version": "3.8.16"
  },
  "vscode": {
   "interpreter": {
    "hash": "644e7a931897874d9649e2ac8857f34ca516c0cb177a94235220b02fad034c18"
   }
  }
 },
 "nbformat": 4,
 "nbformat_minor": 4
}
