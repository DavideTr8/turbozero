{
 "cells": [
  {
   "cell_type": "code",
   "execution_count": 49,
   "metadata": {},
   "outputs": [],
   "source": [
    "import torch"
   ]
  },
  {
   "cell_type": "code",
   "execution_count": 50,
   "metadata": {},
   "outputs": [],
   "source": [
    "num_states = 10000\n",
    "states = torch.zeros((num_states, 2, 8, 8), dtype=torch.long)"
   ]
  },
  {
   "cell_type": "code",
   "execution_count": 51,
   "metadata": {},
   "outputs": [],
   "source": [
    "states[:, 0, 3, 3] = 1\n",
    "states[:, 1, 3, 4] = 1\n",
    "states[:, 1, 4, 3] = 1\n",
    "states[:, 0, 4, 4] = 1\n",
    "states[:, 0, 5, 2] = 1"
   ]
  },
  {
   "cell_type": "code",
   "execution_count": 52,
   "metadata": {},
   "outputs": [],
   "source": [
    "from envs.othello.torchscripts import get_legal_actions\n",
    "ray_tensor = torch.zeros((num_states, 48, 8, 8), dtype=torch.long)\n",
    "rays = get_legal_actions(states, ray_tensor)"
   ]
  },
  {
   "cell_type": "code",
   "execution_count": null,
   "metadata": {},
   "outputs": [],
   "source": []
  },
  {
   "cell_type": "code",
   "execution_count": 53,
   "metadata": {},
   "outputs": [],
   "source": [
    "num_rays = ray_tensor.shape[1]\n",
    "states_size = states.shape[-1]"
   ]
  },
  {
   "cell_type": "code",
   "execution_count": 54,
   "metadata": {},
   "outputs": [],
   "source": [
    "flips = torch.zeros((num_rays, states_size, states_size, states_size, states_size), device=states.device, requires_grad=False, dtype=torch.bool)\n",
    "f_index = 0\n",
    "for i in range(2, states_size):\n",
    "    for x in range(states_size):\n",
    "        for y in range(states_size):\n",
    "            # right, down, left, up\n",
    "            if x+1 < states_size:\n",
    "                flips[f_index, y, x, y, x+1:min(x+i, states_size)] = True\n",
    "            if y+1 < states_size:\n",
    "                flips[f_index+1, y, x, y+1:min(y+i, states_size), x] = True\n",
    "            flips[f_index+2, y, x, y, max(x-i, 0):x] = True\n",
    "            flips[f_index+3, y, x, max(y-i, 0):y, x] = True\n",
    "\n",
    "            # diag right down, diag left down, diag left up, diag right up\n",
    "            for j in range(1, i):\n",
    "                if y+j < states_size:\n",
    "                    if x+j < states_size:\n",
    "                        flips[f_index+4, y, x, y+j, x+j] = True\n",
    "                    if x-j >= 0:\n",
    "                        flips[f_index+5, y, x, y+j, x-j] = True\n",
    "                if y-j >= 0:\n",
    "                    if x-j >= 0:\n",
    "                        flips[f_index+6, y, x, y-j, x-j] = True\n",
    "                    if x+j < states_size:\n",
    "                        flips[f_index+7, y, x, y-j, x+j] = True\n",
    "    f_index += 8"
   ]
  },
  {
   "cell_type": "code",
   "execution_count": 55,
   "metadata": {},
   "outputs": [],
   "source": [
    "action_ids = rays.view(-1, 64).long().argmax(dim=1)"
   ]
  },
  {
   "cell_type": "code",
   "execution_count": 56,
   "metadata": {},
   "outputs": [],
   "source": [
    "actions = torch.zeros((num_states, 64), dtype=torch.bool)\n",
    "actions[torch.arange(num_states), rays.view(-1, 64).long().argmax(dim=1)] = True\n",
    "actions = actions.view(num_states, 8, 8)"
   ]
  },
  {
   "cell_type": "code",
   "execution_count": 57,
   "metadata": {},
   "outputs": [
    {
     "data": {
      "text/plain": [
       "torch.Size([10000, 8, 8])"
      ]
     },
     "execution_count": 57,
     "metadata": {},
     "output_type": "execute_result"
    }
   ],
   "source": [
    "actions.shape"
   ]
  },
  {
   "cell_type": "code",
   "execution_count": 58,
   "metadata": {},
   "outputs": [],
   "source": [
    "action_xs = action_ids % 8\n",
    "action_ys = action_ids // 8"
   ]
  },
  {
   "cell_type": "code",
   "execution_count": 59,
   "metadata": {},
   "outputs": [
    {
     "data": {
      "text/plain": [
       "tensor([4, 4, 4,  ..., 4, 4, 4])"
      ]
     },
     "execution_count": 59,
     "metadata": {},
     "output_type": "execute_result"
    }
   ],
   "source": [
    "action_xs"
   ]
  },
  {
   "cell_type": "code",
   "execution_count": 60,
   "metadata": {},
   "outputs": [
    {
     "data": {
      "text/plain": [
       "tensor([2, 2, 2,  ..., 2, 2, 2])"
      ]
     },
     "execution_count": 60,
     "metadata": {},
     "output_type": "execute_result"
    }
   ],
   "source": [
    "action_ys"
   ]
  },
  {
   "cell_type": "code",
   "execution_count": 61,
   "metadata": {},
   "outputs": [],
   "source": [
    "activated_rays = ray_tensor[torch.arange(num_states), :, action_ys, action_xs]"
   ]
  },
  {
   "cell_type": "code",
   "execution_count": 73,
   "metadata": {},
   "outputs": [
    {
     "data": {
      "text/plain": [
       "torch.Size([10000, 48])"
      ]
     },
     "execution_count": 73,
     "metadata": {},
     "output_type": "execute_result"
    }
   ],
   "source": [
    "action_ys.unsqueeze(1).repeat(1, 48).shape"
   ]
  },
  {
   "cell_type": "code",
   "execution_count": 69,
   "metadata": {},
   "outputs": [
    {
     "data": {
      "text/plain": [
       "torch.Size([10000, 48])"
      ]
     },
     "execution_count": 69,
     "metadata": {},
     "output_type": "execute_result"
    }
   ],
   "source": [
    "activated_rays.shape"
   ]
  },
  {
   "cell_type": "code",
   "execution_count": 84,
   "metadata": {},
   "outputs": [],
   "source": [
    "flips_to_apply = flips[activated_rays, action_ys.unsqueeze(1).repeat(1, 48), action_xs.unsqueeze(1).repeat(1, 48)].amax(dim=1)"
   ]
  },
  {
   "cell_type": "code",
   "execution_count": 88,
   "metadata": {},
   "outputs": [
    {
     "data": {
      "text/plain": [
       "tensor([[0, 0, 0, 0, 0, 0, 0, 0],\n",
       "        [0, 0, 0, 0, 0, 0, 0, 0],\n",
       "        [0, 0, 0, 0, 0, 1, 0, 0],\n",
       "        [0, 0, 0, 1, 1, 0, 0, 0],\n",
       "        [0, 0, 0, 0, 1, 0, 0, 0],\n",
       "        [0, 0, 1, 0, 0, 0, 0, 0],\n",
       "        [0, 0, 0, 0, 0, 0, 0, 0],\n",
       "        [0, 0, 0, 0, 0, 0, 0, 0]])"
      ]
     },
     "execution_count": 88,
     "metadata": {},
     "output_type": "execute_result"
    }
   ],
   "source": [
    "(states[:, 0, :, :] | flips_to_apply)[0]"
   ]
  },
  {
   "cell_type": "code",
   "execution_count": 89,
   "metadata": {},
   "outputs": [
    {
     "data": {
      "text/plain": [
       "tensor([[0, 0, 0, 0, 0, 0, 0, 0],\n",
       "        [0, 0, 0, 0, 0, 0, 0, 0],\n",
       "        [0, 0, 0, 0, 0, 0, 0, 0],\n",
       "        [0, 0, 0, 0, 0, 0, 0, 0],\n",
       "        [0, 0, 0, 1, 0, 0, 0, 0],\n",
       "        [0, 0, 0, 0, 0, 0, 0, 0],\n",
       "        [0, 0, 0, 0, 0, 0, 0, 0],\n",
       "        [0, 0, 0, 0, 0, 0, 0, 0]])"
      ]
     },
     "execution_count": 89,
     "metadata": {},
     "output_type": "execute_result"
    }
   ],
   "source": [
    "(states[:, 1, :, :] & torch.logical_not(flips_to_apply))[0]"
   ]
  }
 ],
 "metadata": {
  "kernelspec": {
   "display_name": "python3",
   "language": "python",
   "name": "python3"
  },
  "language_info": {
   "codemirror_mode": {
    "name": "ipython",
    "version": 3
   },
   "file_extension": ".py",
   "mimetype": "text/x-python",
   "name": "python",
   "nbconvert_exporter": "python",
   "pygments_lexer": "ipython3",
   "version": "3.8.16"
  },
  "orig_nbformat": 4
 },
 "nbformat": 4,
 "nbformat_minor": 2
}
