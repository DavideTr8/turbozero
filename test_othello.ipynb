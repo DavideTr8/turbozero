{
 "cells": [
  {
   "cell_type": "code",
   "execution_count": 2,
   "metadata": {},
   "outputs": [],
   "source": [
    "import torch"
   ]
  },
  {
   "cell_type": "code",
   "execution_count": 3,
   "metadata": {},
   "outputs": [],
   "source": [
    "num_states = 10000\n",
    "states = torch.zeros((num_states, 2, 8, 8), dtype=torch.long)"
   ]
  },
  {
   "cell_type": "code",
   "execution_count": 22,
   "metadata": {},
   "outputs": [],
   "source": [
    "states[:, 0, 3, 3] = 1\n",
    "states[:, 1, 3, 4] = 1\n",
    "states[:, 1, 4, 3] = 1\n",
    "states[:, 0, 4, 4] = 1\n",
    "states[:, 0, 5, 2] = 1"
   ]
  },
  {
   "cell_type": "code",
   "execution_count": 38,
   "metadata": {},
   "outputs": [],
   "source": [
    "states_size = states.shape[-1]\n",
    "size_indices = torch.arange(states_size, device=states.device, requires_grad=False)\n",
    "filters = []\n",
    "ray_tensor = torch.zeros((num_states, 48, 8, 8), dtype=torch.bool)\n",
    "index = 0\n",
    "for i in range(2, states_size):\n",
    "    start, end = 0, states_size - i \n",
    "    start_inv, end_inv = i, states_size\n",
    "    kernel_right = torch.zeros((1, 2, 1, i+1), device=states.device, requires_grad=False, dtype=torch.long)\n",
    "    kernel_right[:, 1, :, 1:i] = 1\n",
    "    kernel_right[:, 0, :, i] = 1\n",
    "    kernel_right[:, :, :, 0] = -1\n",
    "    ray_tensor[:, index, :, start:end] = torch.nn.functional.conv2d(states, kernel_right, padding=0).squeeze(1) == i\n",
    "    index += 1\n",
    "\n",
    "    kernel_down = torch.zeros((1, 2, i+1, 1), device=states.device, requires_grad=False, dtype=torch.long)\n",
    "    kernel_down[:, 1, 1:i, :] = 1\n",
    "    kernel_down[:, 0, i, :] = 1\n",
    "    kernel_down[:, :, 0, :] = -1\n",
    "    ray_tensor[:, index, start:end, :] = torch.nn.functional.conv2d(states, kernel_down, padding=0).squeeze(1) == i\n",
    "    index += 1\n",
    "\n",
    "    kernel_left = torch.zeros((1, 2, 1, i+1), device=states.device, requires_grad=False, dtype=torch.long)\n",
    "    kernel_left[:, 1, :, 1:-1] = 1\n",
    "    kernel_left[:, 0, :, 0] = 1\n",
    "    kernel_left[:, :, :, -1] = -1\n",
    "    ray_tensor[:, index, :, start_inv:end_inv] = torch.nn.functional.conv2d(states, kernel_left, padding=0).squeeze(1) == i\n",
    "    index += 1\n",
    "\n",
    "    kernel_up = torch.zeros((1, 2, i+1, 1), device=states.device, requires_grad=False, dtype=torch.long)\n",
    "    kernel_up[:, 1, 1:-1, :] = 1\n",
    "    kernel_up[:, 0, 0, :] = 1\n",
    "    kernel_up[:, :, -1, :] = -1\n",
    "    ray_tensor[:, index, start_inv:end_inv, :] = torch.nn.functional.conv2d(states, kernel_up, padding=0).squeeze(1) == i\n",
    "    index += 1\n",
    "\n",
    "    kernel_diag_right_down = torch.zeros((1, 2, i+1, i+1), device=states.device, requires_grad=False, dtype=torch.long) \n",
    "    for j in range(1, i):\n",
    "        kernel_diag_right_down[:, 1, j, j] = 1\n",
    "    kernel_diag_right_down[:, 0, i, i] = 1\n",
    "    kernel_diag_right_down[:, :, 0, 0] = -1\n",
    "    ray_tensor[:, index, start:end, start:end] = torch.nn.functional.conv2d(states, kernel_diag_right_down, padding=0).squeeze(1) == i\n",
    "    index += 1\n",
    "\n",
    "    kernel_diag_left_down = torch.zeros((1, 2, i+1, i+1), device=states.device, requires_grad=False, dtype=torch.long)\n",
    "    for j in range(1, i):\n",
    "        kernel_diag_left_down[:, 1, j, -j-1] = 1\n",
    "    kernel_diag_left_down[:, 0, i, 0] = 1\n",
    "    kernel_diag_left_down[:, :, 0, -1] = -1\n",
    "    ray_tensor[:, index, start:end, start_inv:end_inv] = torch.nn.functional.conv2d(states, kernel_diag_left_down, padding=0).squeeze(1) == i\n",
    "    index += 1\n",
    "\n",
    "    kernel_diag_left_up = torch.zeros((1, 2, i+1, i+1), device=states.device, requires_grad=False, dtype=torch.long)\n",
    "    for j in range(1, i):\n",
    "        kernel_diag_left_up[:, 1, -j-1, j] = 1\n",
    "    kernel_diag_left_up[:, 0, 0, i] = 1\n",
    "    kernel_diag_left_up[:, :, -1, 0] = -1\n",
    "    ray_tensor[:, index, start_inv:end_inv, start_inv:end_inv] = torch.nn.functional.conv2d(states, kernel_diag_left_up, padding=0).squeeze(1) == i\n",
    "    index += 1\n",
    "\n",
    "    kernel_diag_right_up = torch.zeros((1, 2, i+1, i+1), device=states.device, requires_grad=False, dtype=torch.long)\n",
    "    for j in range(1, i):\n",
    "        kernel_diag_right_up[:, 1, -j-1, -j-1] = 1\n",
    "    kernel_diag_right_up[:, 0, 0, 0] = 1\n",
    "    kernel_diag_right_up[:, :, -1, -1] = -1\n",
    "    ray_tensor[:, index, start_inv:end_inv, start:end] = torch.nn.functional.conv2d(states, kernel_diag_right_up, padding=0).squeeze(1) == i\n",
    "    index += 1"
   ]
  },
  {
   "cell_type": "code",
   "execution_count": 39,
   "metadata": {},
   "outputs": [
    {
     "data": {
      "text/plain": [
       "tensor([[False, False, False, False, False, False, False, False],\n",
       "        [False, False, False, False, False, False, False, False],\n",
       "        [False, False, False, False, False,  True, False, False],\n",
       "        [False, False, False, False, False, False, False, False],\n",
       "        [False, False, False, False, False, False, False, False],\n",
       "        [False, False, False, False, False, False, False, False],\n",
       "        [False, False, False, False, False, False, False, False],\n",
       "        [False, False, False, False, False, False, False, False]])"
      ]
     },
     "execution_count": 39,
     "metadata": {},
     "output_type": "execute_result"
    }
   ],
   "source": [
    "ray_tensor[0][13]"
   ]
  }
 ],
 "metadata": {
  "kernelspec": {
   "display_name": "python3",
   "language": "python",
   "name": "python3"
  },
  "language_info": {
   "codemirror_mode": {
    "name": "ipython",
    "version": 3
   },
   "file_extension": ".py",
   "mimetype": "text/x-python",
   "name": "python",
   "nbconvert_exporter": "python",
   "pygments_lexer": "ipython3",
   "version": "3.8.16"
  },
  "orig_nbformat": 4
 },
 "nbformat": 4,
 "nbformat_minor": 2
}
