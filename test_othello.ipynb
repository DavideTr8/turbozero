{
 "cells": [
  {
   "cell_type": "code",
   "execution_count": 1,
   "metadata": {},
   "outputs": [],
   "source": [
    "import torch"
   ]
  },
  {
   "cell_type": "code",
   "execution_count": 2,
   "metadata": {},
   "outputs": [
    {
     "data": {
      "text/plain": [
       "<Figure size 640x480 with 0 Axes>"
      ]
     },
     "metadata": {},
     "output_type": "display_data"
    },
    {
     "data": {
      "text/plain": [
       "<Figure size 640x480 with 0 Axes>"
      ]
     },
     "metadata": {},
     "output_type": "display_data"
    },
    {
     "data": {
      "text/plain": [
       "<Figure size 640x480 with 0 Axes>"
      ]
     },
     "metadata": {},
     "output_type": "display_data"
    },
    {
     "data": {
      "text/plain": [
       "<Figure size 640x480 with 0 Axes>"
      ]
     },
     "metadata": {},
     "output_type": "display_data"
    }
   ],
   "source": [
    "from envs.othello.vectenv import OthelloVectEnv\n",
    "from envs.othello.torchscripts import get_legal_actions, push_actions\n",
    "from envs.othello.vecttrainer import OthelloTrainer, init_new_othello_trainer\n",
    "from core.hyperparameters import LZHyperparameters\n",
    "from core.lz_resnet import LZArchitectureParameters\n",
    "\n",
    "NUM_PARALLEL_ENVS = 10\n",
    "DEVICE = torch.device('cpu')\n",
    "\n",
    "trainer = init_new_othello_trainer(\n",
    "    arch_params=LZArchitectureParameters(\n",
    "        input_size=torch.Size((2, 8, 8)),\n",
    "        policy_size=64,\n",
    "        res_channels=16,\n",
    "        res_blocks=8,\n",
    "        value_head_res_channels=16,\n",
    "        value_head_res_blocks=4,\n",
    "        policy_head_res_channels=16,\n",
    "        policy_head_res_blocks=4,\n",
    "        kernel_size=3\n",
    "    ),\n",
    "    parallel_envs=NUM_PARALLEL_ENVS,\n",
    "    device=DEVICE,\n",
    "    hypers=LZHyperparameters(\n",
    "        learning_rate=1e-4,\n",
    "        num_iters_train=20,\n",
    "        iter_depth_train=3,\n",
    "        num_iters_eval=20,\n",
    "        iter_depth_test=3,\n",
    "        replay_memory_size=1000,\n",
    "        replay_memory_min_size=1,\n",
    "        policy_factor=1,\n",
    "        minibatch_size=128,\n",
    "        minibatches_per_update=1,\n",
    "        episodes_per_epoch=5,\n",
    "        eval_episodes_per_epoch=5,\n",
    "        epsilon_decay_per_epoch=0.0000,\n",
    "        epsilon_start=0.0,\n",
    "        epsilon_end=0.0,\n",
    "        mcts_c_puct=1.0\n",
    "    ),\n",
    "    run_tag='test_othello_1'\n",
    ")"
   ]
  },
  {
   "cell_type": "code",
   "execution_count": null,
   "metadata": {},
   "outputs": [],
   "source": [
    "trainer.run_training_loop()"
   ]
  }
 ],
 "metadata": {
  "kernelspec": {
   "display_name": "python3",
   "language": "python",
   "name": "python3"
  },
  "language_info": {
   "codemirror_mode": {
    "name": "ipython",
    "version": 3
   },
   "file_extension": ".py",
   "mimetype": "text/x-python",
   "name": "python",
   "nbconvert_exporter": "python",
   "pygments_lexer": "ipython3",
   "version": "3.8.16"
  },
  "orig_nbformat": 4
 },
 "nbformat": 4,
 "nbformat_minor": 2
}
