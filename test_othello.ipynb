{
 "cells": [
  {
   "cell_type": "code",
   "execution_count": 2,
   "metadata": {},
   "outputs": [],
   "source": [
    "import torch"
   ]
  },
  {
   "cell_type": "code",
   "execution_count": 3,
   "metadata": {},
   "outputs": [
    {
     "name": "stderr",
     "output_type": "stream",
     "text": [
      "/Users/marshingjay/Repos/lazyzero/envs/othello/torchscripts.py:84: TracerWarning: Converting a tensor to a Python boolean might cause the trace to be incorrect. We can't record the data flow of Python values, so this value will be treated as a constant in the future. This means that the trace might not generalize to other inputs!\n",
      "  if x+1 < states_size:\n",
      "/Users/marshingjay/Repos/lazyzero/envs/othello/torchscripts.py:85: TracerWarning: Converting a tensor to a Python boolean might cause the trace to be incorrect. We can't record the data flow of Python values, so this value will be treated as a constant in the future. This means that the trace might not generalize to other inputs!\n",
      "  flips[f_index, y, x, y, x+1:min(x+i, states_size)] = 1\n",
      "/Users/marshingjay/Repos/lazyzero/envs/othello/torchscripts.py:86: TracerWarning: Converting a tensor to a Python boolean might cause the trace to be incorrect. We can't record the data flow of Python values, so this value will be treated as a constant in the future. This means that the trace might not generalize to other inputs!\n",
      "  if y+1 < states_size:\n",
      "/Users/marshingjay/Repos/lazyzero/envs/othello/torchscripts.py:87: TracerWarning: Converting a tensor to a Python boolean might cause the trace to be incorrect. We can't record the data flow of Python values, so this value will be treated as a constant in the future. This means that the trace might not generalize to other inputs!\n",
      "  flips[f_index+1, y, x, y+1:min(y+i, states_size), x] = 1\n",
      "/Users/marshingjay/Repos/lazyzero/envs/othello/torchscripts.py:93: TracerWarning: Converting a tensor to a Python boolean might cause the trace to be incorrect. We can't record the data flow of Python values, so this value will be treated as a constant in the future. This means that the trace might not generalize to other inputs!\n",
      "  if y+j < states_size:\n",
      "/Users/marshingjay/Repos/lazyzero/envs/othello/torchscripts.py:94: TracerWarning: Converting a tensor to a Python boolean might cause the trace to be incorrect. We can't record the data flow of Python values, so this value will be treated as a constant in the future. This means that the trace might not generalize to other inputs!\n",
      "  if x+j < states_size:\n",
      "/Users/marshingjay/Repos/lazyzero/envs/othello/torchscripts.py:101: TracerWarning: Converting a tensor to a Python boolean might cause the trace to be incorrect. We can't record the data flow of Python values, so this value will be treated as a constant in the future. This means that the trace might not generalize to other inputs!\n",
      "  if x+j < states_size:\n"
     ]
    }
   ],
   "source": [
    "from envs.othello.vectenv import OthelloVectEnv\n",
    "from envs.othello.torchscripts import get_legal_actions, push_actions\n",
    "\n",
    "env = OthelloVectEnv(100, torch.device('cpu'), 8)"
   ]
  },
  {
   "cell_type": "code",
   "execution_count": null,
   "metadata": {},
   "outputs": [],
   "source": []
  },
  {
   "cell_type": "code",
   "execution_count": null,
   "metadata": {},
   "outputs": [],
   "source": []
  },
  {
   "cell_type": "code",
   "execution_count": 11,
   "metadata": {},
   "outputs": [
    {
     "data": {
      "text/plain": [
       "tensor([43, 20, 43, 43, 34, 43, 20, 43, 43, 43, 29, 29, 29, 20, 20, 20, 43, 43,\n",
       "        43, 20, 29, 34, 34, 43, 29, 20, 43, 20, 34, 43, 34, 29, 29, 43, 29, 20,\n",
       "        29, 20, 29, 29, 29, 29, 43, 34, 34, 34, 34, 29, 43, 29, 34, 20, 20, 34,\n",
       "        20, 29, 29, 29, 43, 43, 34, 43, 34, 43, 20, 29, 20, 34, 29, 29, 20, 20,\n",
       "        29, 29, 29, 29, 34, 34, 20, 20, 29, 34, 43, 34, 43, 43, 20, 29, 34, 34,\n",
       "        29, 43, 20, 29, 43, 43, 43, 34, 43, 29])"
      ]
     },
     "execution_count": 11,
     "metadata": {},
     "output_type": "execute_result"
    }
   ],
   "source": [
    "env.reset()\n",
    "\n",
    "legal_actions = get_legal_actions(env.states, env.ray_tensor)\n",
    "actions = env.fast_weighted_sample(legal_actions.view(-1, 64).float())\n",
    "actions"
   ]
  },
  {
   "cell_type": "code",
   "execution_count": 13,
   "metadata": {},
   "outputs": [],
   "source": [
    "push_actions(env.states, env.ray_tensor, actions)\n",
    "pass"
   ]
  },
  {
   "cell_type": "code",
   "execution_count": null,
   "metadata": {},
   "outputs": [],
   "source": []
  }
 ],
 "metadata": {
  "kernelspec": {
   "display_name": "python3",
   "language": "python",
   "name": "python3"
  },
  "language_info": {
   "codemirror_mode": {
    "name": "ipython",
    "version": 3
   },
   "file_extension": ".py",
   "mimetype": "text/x-python",
   "name": "python",
   "nbconvert_exporter": "python",
   "pygments_lexer": "ipython3",
   "version": "3.8.16"
  },
  "orig_nbformat": 4
 },
 "nbformat": 4,
 "nbformat_minor": 2
}
