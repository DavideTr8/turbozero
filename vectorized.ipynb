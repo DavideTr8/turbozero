{
 "cells": [
  {
   "attachments": {},
   "cell_type": "markdown",
   "metadata": {},
   "source": []
  },
  {
   "cell_type": "code",
   "execution_count": 1,
   "metadata": {},
   "outputs": [],
   "source": [
    "\n",
    "import torch\n",
    "import matplotlib.pyplot as plt\n",
    "import logging\n",
    "\n",
    "from torch.profiler import profile, record_function, ProfilerActivity\n",
    "\n",
    "logging.basicConfig(filename='training.log', filemode='a', level=logging.INFO, format='%(asctime)s %(message)s')\n",
    "logging.info('Starting training')\n",
    "\n",
    "from envs._2048.vecttrainer import _2048Trainer, init_new_2048_trainer, init_2048_trainer_from_checkpoint\n",
    "from core.hyperparameters import LZHyperparameters\n",
    "from core.lz_resnet import LZArchitectureParameters\n"
   ]
  },
  {
   "cell_type": "code",
   "execution_count": null,
   "metadata": {},
   "outputs": [],
   "source": [
    "# --------- SETUP ---------\n",
    "device = torch.device('cuda') if torch.cuda.is_available() else torch.device('cpu')\n",
    "\n",
    "CHECKPOINT_FILE = ''\n",
    "NUM_PARALLEL_ENVS = 5 # you can go much higher on a GPU, depending on the model size / state size\n",
    "\n",
    "# performance\n",
    "torch.backends.cudnn.benchmark = True\n",
    "\n",
    "if CHECKPOINT_FILE:\n",
    "    trainer: _2048Trainer = init_2048_trainer_from_checkpoint(NUM_PARALLEL_ENVS, CHECKPOINT_FILE, device)\n",
    "else:\n",
    "    run_tag = '' # TODO: add run tag\n",
    "    \n",
    "    model_architecture = LZArchitectureParameters(\n",
    "        input_size=torch.Size((1, 4, 4)),\n",
    "        policy_size=4,\n",
    "        res_channels=16,\n",
    "        res_blocks=8, \n",
    "        value_head_res_channels=16,\n",
    "        value_head_res_blocks=4,\n",
    "        policy_head_res_channels=16,\n",
    "        policy_head_res_blocks=4,\n",
    "        kernel_size=3,\n",
    "        policy_fc_size=32,\n",
    "        value_fc_size=32\n",
    "    ) # TODO: specify model architecture parameters \n",
    "\n",
    "    hypers =LZHyperparameters(\n",
    "        # TODO: I strongly reccommend changing default hyperparamters\n",
    "        learning_rate = 1e-4,\n",
    "        num_iters_train = 100,\n",
    "        iter_depth_train = 5,\n",
    "        num_iters_eval = 5,\n",
    "        iter_depth_test = 3,\n",
    "        replay_memory_size = 10000,\n",
    "        replay_memory_min_size = 1,\n",
    "        minibatch_size = 4096,\n",
    "        minibatches_per_update = 2,\n",
    "        episodes_per_epoch=100000,\n",
    "        epsilon_decay_per_epoch=0.1,\n",
    "        eval_episodes_per_epoch=0\n",
    "    )\n",
    "\n",
    "    \n",
    "    trainer = init_new_2048_trainer(\n",
    "        model_architecture,\n",
    "        NUM_PARALLEL_ENVS,\n",
    "        device,\n",
    "        hypers,\n",
    "        log_results=True,\n",
    "        interactive=True,\n",
    "        run_tag=run_tag\n",
    "    )\n",
    "\n",
    "plt.close('all')"
   ]
  },
  {
   "cell_type": "code",
   "execution_count": null,
   "metadata": {},
   "outputs": [],
   "source": [
    "trainer.run_training_loop()"
   ]
  }
 ],
 "metadata": {
  "kernelspec": {
   "display_name": "Python 3 (ipykernel)",
   "language": "python",
   "name": "python3"
  },
  "language_info": {
   "codemirror_mode": {
    "name": "ipython",
    "version": 3
   },
   "file_extension": ".py",
   "mimetype": "text/x-python",
   "name": "python",
   "nbconvert_exporter": "python",
   "pygments_lexer": "ipython3",
   "version": "3.8.16"
  },
  "orig_nbformat": 4
 },
 "nbformat": 4,
 "nbformat_minor": 2
}
