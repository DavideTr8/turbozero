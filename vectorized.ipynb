{
 "cells": [
  {
   "cell_type": "code",
   "execution_count": 66,
   "metadata": {},
   "outputs": [],
   "source": [
    "import torch\n",
    "num_boards = 100000"
   ]
  },
  {
   "cell_type": "code",
   "execution_count": 67,
   "metadata": {},
   "outputs": [],
   "source": [
    "import torch.nn.functional as F"
   ]
  },
  {
   "cell_type": "code",
   "execution_count": 68,
   "metadata": {},
   "outputs": [],
   "source": [
    "# generate starting boards\n",
    "random_floats = torch.randn((num_boards, 16), dtype=torch.float32)\n",
    "boards = torch.zeros((num_boards, 16), dtype=torch.int16)\n",
    "starting_boards = random_floats.topk(2, dim=1).indices\n",
    "boards[(range(num_boards), starting_boards[:,0])] = 1\n",
    "boards[(range(num_boards), starting_boards[:,1])] = 1\n",
    "boards = boards.reshape((num_boards, 1, 4, 4))"
   ]
  },
  {
   "cell_type": "code",
   "execution_count": null,
   "metadata": {},
   "outputs": [],
   "source": []
  },
  {
   "cell_type": "code",
   "execution_count": 69,
   "metadata": {},
   "outputs": [],
   "source": [
    "def get_legal_moves(bs, very_negative_value=-100):\n",
    "    num_boards = bs.shape[0]\n",
    "    # check for empty spaces\n",
    "    mask0 = torch.tensor([[[[very_negative_value, 1]]]], dtype=torch.int16)\n",
    "    mask1 = torch.tensor([[[[1, very_negative_value]]]], dtype=torch.int16)\n",
    "    mask2 = torch.tensor([[[[1], [very_negative_value]]]], dtype=torch.int16)\n",
    "    mask3 = torch.tensor([[[[very_negative_value], [1]]]], dtype=torch.int16)\n",
    "    \n",
    "    m0 = torch.nn.functional.conv2d(bs, mask0, padding=0, bias=None).view(num_boards, 12)\n",
    "    m1 = torch.nn.functional.conv2d(bs, mask1, padding=0, bias=None).view(num_boards, 12)\n",
    "    m2 = torch.nn.functional.conv2d(bs, mask2, padding=0, bias=None).view(num_boards, 12)\n",
    "    m3 = torch.nn.functional.conv2d(bs, mask3, padding=0, bias=None).view(num_boards, 12)\n",
    "\n",
    "    m0_valid = torch.any(m0 > 0, dim=1, keepdim=True)\n",
    "    m1_valid = torch.any(m1 > 0, dim=1, keepdim=True)\n",
    "    m2_valid = torch.any(m2 > 0, dim=1, keepdim=True)\n",
    "    m3_valid = torch.any(m3 > 0, dim=1, keepdim=True)\n",
    "\n",
    "    # check for matching tiles\n",
    "    vertical_comparison = torch.any((torch.logical_and(bs[:,:,:-1,:] == bs[:,:,1:,:], bs[:,:,1:,:] != 0)).view(num_boards, 12), dim=1, keepdim=True)\n",
    "    horizontal_comparison = torch.any((torch.logical_and(bs[:,:,:,:-1] == bs[:,:,:,1:], bs[:,:,:,1:] != 0)).view(num_boards, 12), dim=1, keepdim=True)\n",
    "\n",
    "    m0_valid = torch.logical_or(m0_valid, horizontal_comparison)\n",
    "    m1_valid = torch.logical_or(m1_valid, horizontal_comparison)\n",
    "\n",
    "    m2_valid = torch.logical_or(m2_valid, vertical_comparison)\n",
    "    m3_valid = torch.logical_or(m3_valid, vertical_comparison)\n",
    "\n",
    "    return torch.concat([m0_valid, m1_valid, m2_valid, m3_valid], dim=1)"
   ]
  },
  {
   "cell_type": "code",
   "execution_count": 91,
   "metadata": {},
   "outputs": [],
   "source": [
    "ones = torch.eye(16, dtype=torch.int16).view(16, 4, 4)\n",
    "twos = torch.eye(16, dtype=torch.int16).view(16, 4, 4) * 2\n",
    "base_progressions = torch.concat([ones, twos], dim=0)\n",
    "probabilities = torch.concat([torch.full((16,), 0.9), torch.full((16,), 0.1)], dim=0)\n",
    "\n",
    "def get_progressions(bs):\n",
    "    num_boards = bs.shape[0]\n",
    "    # check and see if each of the progressions are valid (no tile already in that spot)\n",
    "    # base_progressions is a 32x4x4 tensor with all the possible progressions\n",
    "    # bs is an Nx4x4 tensor with N board states\n",
    "    # returns an 32xNx4x4 tensor with 32 possible progressions for each board state\n",
    "    valid_progressions = torch.logical_not(torch.any((bs * base_progressions).view(num_boards, 32, 16), dim=2)).view(num_boards, 32, 1, 1)\n",
    "    progressions = (bs + base_progressions) * valid_progressions\n",
    "    probs = probabilities * valid_progressions.view(num_boards, 32)\n",
    "    return progressions, probs"
   ]
  },
  {
   "cell_type": "code",
   "execution_count": 101,
   "metadata": {},
   "outputs": [],
   "source": [
    "def spawn_tile(bs):\n",
    "    progs, probs = get_progressions(bs)\n",
    "    probs += torch.where(probs.amax(dim=1, keepdim=True) == 0, torch.full_like(probs, 1), torch.full_like(probs, 0))\n",
    "    indices = torch.multinomial(probs, 1)\n",
    "    bs = progs[(range(bs.shape[0]), indices[:,0])]\n",
    "    return bs\n",
    "    "
   ]
  },
  {
   "cell_type": "code",
   "execution_count": 77,
   "metadata": {},
   "outputs": [],
   "source": [
    "def rotate_in_place(bs, rot_amnts):\n",
    "    rotations_0 = bs\n",
    "    rotations_1 = torch.rot90(bs, 1, (2,3))\n",
    "    rotations_2 = torch.rot90(bs, 2, (2,3))\n",
    "    rotations_3 = torch.rot90(bs, 3, (2,3))\n",
    "    mask_0 = (rot_amnts == 0)\n",
    "    mask_90 = (rot_amnts == 1)\n",
    "    mask_180 = (rot_amnts == 2)\n",
    "    mask_270 = (rot_amnts == 3)    \n",
    "    bs[mask_0] = rotations_0[mask_0]\n",
    "    bs[mask_90] = rotations_1[mask_90]\n",
    "    bs[mask_180] = rotations_2[mask_180]\n",
    "    bs[mask_270] = rotations_3[mask_270]\n",
    "    return bs\n",
    "\n",
    "def merge(bs):\n",
    "    shape = boards.shape\n",
    "    bs_flat = bs.view(-1, shape[-1])\n",
    "    mask = (bs_flat != 0)\n",
    "    _, sorted_indices = torch.sort(mask, dim=1, descending=True)\n",
    "    bs_flat = torch.gather(bs_flat, 1, sorted_indices)\n",
    "    for i in range(3):\n",
    "        is_same = torch.logical_and(bs_flat[:,i] == bs_flat[:,i+1], bs_flat[:,i] != 0).int()\n",
    "        bs_flat[:,i] += is_same\n",
    "        bs_flat[:,i+1] *= (1 - is_same)\n",
    "    mask = (bs_flat != 0)\n",
    "    _, sorted_indices = torch.sort(mask, dim=1, descending=True)\n",
    "    bs_flat = torch.gather(bs_flat, 1, sorted_indices)\n",
    "    bs = bs_flat.view(shape)\n",
    "    return bs\n",
    "\n",
    "def push_moves(bs, moves):\n",
    "    bs = rotate_in_place(bs, moves) # TODO: inplace\n",
    "    bs = merge(bs)\n",
    "    bs = rotate_in_place(bs, (4-moves) % 4)\n",
    "    return bs"
   ]
  },
  {
   "cell_type": "code",
   "execution_count": 73,
   "metadata": {},
   "outputs": [],
   "source": [
    "moves = torch.randint(0, 4, (num_boards,))"
   ]
  },
  {
   "cell_type": "code",
   "execution_count": 80,
   "metadata": {},
   "outputs": [
    {
     "data": {
      "text/plain": [
       "tensor([[[1, 2, 3, 4],\n",
       "         [2, 3, 4, 1],\n",
       "         [3, 4, 1, 2],\n",
       "         [4, 1, 2, 3]]], dtype=torch.int16)"
      ]
     },
     "execution_count": 80,
     "metadata": {},
     "output_type": "execute_result"
    }
   ],
   "source": [
    "moves[0] = 0\n",
    "boards[0][0] = torch.tensor([[1,2,3,4], [2, 3, 4, 1], [3, 4, 1, 2], [4, 1, 2, 3]])\n",
    "boards[0]"
   ]
  },
  {
   "cell_type": "code",
   "execution_count": 105,
   "metadata": {},
   "outputs": [
    {
     "data": {
      "text/plain": [
       "torch.Size([100000, 4, 4])"
      ]
     },
     "execution_count": 105,
     "metadata": {},
     "output_type": "execute_result"
    }
   ],
   "source": [
    "spawn_tile(boards).shape"
   ]
  }
 ],
 "metadata": {
  "kernelspec": {
   "display_name": "python3",
   "language": "python",
   "name": "python3"
  },
  "language_info": {
   "codemirror_mode": {
    "name": "ipython",
    "version": 3
   },
   "file_extension": ".py",
   "mimetype": "text/x-python",
   "name": "python",
   "nbconvert_exporter": "python",
   "pygments_lexer": "ipython3",
   "version": "3.8.16"
  },
  "orig_nbformat": 4
 },
 "nbformat": 4,
 "nbformat_minor": 2
}
