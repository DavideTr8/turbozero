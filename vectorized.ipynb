{
 "cells": [
  {
   "attachments": {},
   "cell_type": "markdown",
   "metadata": {},
   "source": []
  },
  {
   "cell_type": "code",
   "execution_count": 1,
   "metadata": {},
   "outputs": [],
   "source": [
    "\n",
    "import torch\n",
    "import matplotlib.pyplot as plt\n",
    "import logging\n",
    "\n",
    "from env2048.vecttrainer import VectorizedTrainer, load_trainer_from_checkpoint\n",
    "from az_resnet import AZResnet, AZResnetArchitectureParameters\n",
    "from hyperparameters import LazyAZHyperparameters\n",
    "\n",
    "logging.basicConfig(filename='training.log', filemode='a', level=logging.INFO, format='%(asctime)s %(message)s')\n",
    "logging.info('Starting training')\n",
    "\n",
    "torch.jit.enable_onednn_fusion(True)\n",
    "torch.backends.cudnn.benchmark = True"
   ]
  },
  {
   "cell_type": "code",
   "execution_count": 2,
   "metadata": {},
   "outputs": [],
   "source": [
    "CHECKPOINT_FILE = ''\n",
    "device = torch.device('cuda') if torch.cuda.is_available() else torch.device('cpu')"
   ]
  },
  {
   "cell_type": "code",
   "execution_count": 3,
   "metadata": {},
   "outputs": [],
   "source": [
    "\n",
    "\n",
    "if CHECKPOINT_FILE:\n",
    "    trainer = load_trainer_from_checkpoint(CHECKPOINT_FILE, device, load_replay_memory=True)\n",
    "else:\n",
    "    run_tag = '' # TODO: add run tag\n",
    "    \n",
    "    num_boards = 20\n",
    "\n",
    "    model = AZResnet(AZResnetArchitectureParameters(\n",
    "        input_size=torch.Size((1, 4, 4)),\n",
    "        policy_size=4,\n",
    "        res_channels=8,\n",
    "        res_blocks=2, \n",
    "        value_head_res_channels=8,\n",
    "        value_head_res_blocks=2,\n",
    "        policy_head_res_channels=8,\n",
    "        policy_head_res_blocks=2,\n",
    "        kernel_size=3,\n",
    "        policy_fc_size=32,\n",
    "        value_fc_size=32\n",
    "    )) # TODO: specify model architecture parameters \n",
    "\n",
    "    hypers = LazyAZHyperparameters() # TODO: specify hyperparameters\n",
    "\n",
    "    optimizer = torch.optim.AdamW(model.parameters(), lr=hypers.learning_rate)\n",
    "\n",
    "    trainer = VectorizedTrainer(num_boards, model, optimizer, hypers, device, run_tag=run_tag, progression_batch_size=20)\n",
    "\n",
    "plt.close('all')"
   ]
  },
  {
   "cell_type": "code",
   "execution_count": null,
   "metadata": {},
   "outputs": [],
   "source": [
    "trainer.run_training_loop()"
   ]
  }
 ],
 "metadata": {
  "kernelspec": {
   "display_name": "Python 3 (ipykernel)",
   "language": "python",
   "name": "python3"
  },
  "language_info": {
   "codemirror_mode": {
    "name": "ipython",
    "version": 3
   },
   "file_extension": ".py",
   "mimetype": "text/x-python",
   "name": "python",
   "nbconvert_exporter": "python",
   "pygments_lexer": "ipython3",
   "version": "3.8.16"
  },
  "orig_nbformat": 4
 },
 "nbformat": 4,
 "nbformat_minor": 2
}
