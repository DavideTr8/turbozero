{
 "cells": [
  {
   "attachments": {},
   "cell_type": "markdown",
   "metadata": {},
   "source": []
  },
  {
   "cell_type": "code",
   "execution_count": 1,
   "metadata": {},
   "outputs": [
    {
     "name": "stderr",
     "output_type": "stream",
     "text": [
      "/Users/marshingjay/miniconda3/envs/python3/lib/python3.8/site-packages/tqdm/auto.py:21: TqdmWarning: IProgress not found. Please update jupyter and ipywidgets. See https://ipywidgets.readthedocs.io/en/stable/user_install.html\n",
      "  from .autonotebook import tqdm as notebook_tqdm\n"
     ]
    }
   ],
   "source": [
    "from env2048.vectenv import Vectorized2048Env\n",
    "from env2048.vectmcts import Vectorized2048MCTSLazy\n",
    "from az_resnet import AZResnet, AZResnetArchitectureParameters\n",
    "import torch"
   ]
  },
  {
   "cell_type": "code",
   "execution_count": 2,
   "metadata": {},
   "outputs": [],
   "source": [
    "\n",
    "from env2048.vecttrainer import VectorizedTrainer\n",
    "\n",
    "\n",
    "device = torch.device('cuda') if torch.cuda.is_available() else torch.device('cpu')\n",
    "num_boards = 10\n",
    "v = Vectorized2048Env(num_boards, device)\n",
    "model = AZResnet(AZResnetArchitectureParameters(\n",
    "    input_size=torch.Size((1, 4, 4)),\n",
    "    policy_size=4,\n",
    "    res_channels=8,\n",
    "    res_blocks=2, \n",
    "    value_head_res_channels=8,\n",
    "    value_head_res_blocks=2,\n",
    "    policy_head_res_channels=8,\n",
    "    policy_head_res_blocks=2,\n",
    "    kernel_size=3,\n",
    "    policy_fc_size=32,\n",
    "    value_fc_size=32\n",
    "))\n",
    "mc = Vectorized2048MCTSLazy(v, model, 1)\n",
    "v.reset()\n",
    "trainer = VectorizedTrainer(mc, model, 5, 5)"
   ]
  },
  {
   "cell_type": "code",
   "execution_count": 3,
   "metadata": {},
   "outputs": [],
   "source": [
    "def run_for_steps(steps):\n",
    "    for _ in range(steps):\n",
    "        boards, actions, terminated = trainer.run_step()"
   ]
  },
  {
   "cell_type": "code",
   "execution_count": 4,
   "metadata": {},
   "outputs": [
    {
     "name": "stdout",
     "output_type": "stream",
     "text": [
      " "
     ]
    },
    {
     "name": "stdout",
     "output_type": "stream",
     "text": [
      "         2040434 function calls (1810334 primitive calls) in 8.349 seconds\n",
      "\n",
      "   Ordered by: internal time\n",
      "\n",
      "   ncalls  tottime  percall  cumtime  percall filename:lineno(function)\n",
      "    58600    3.618    0.000    3.618    0.000 {built-in method torch.conv2d}\n",
      "    39000    1.175    0.000    1.175    0.000 {built-in method torch.batch_norm}\n",
      "     6200    0.469    0.000    2.208    0.000 vectenv.py:52(get_legal_moves)\n",
      "     6200    0.267    0.000    0.338    0.000 vectenv.py:95(rotate_by_amnts)\n",
      "     3100    0.259    0.000    0.426    0.000 vectenv.py:104(merge)\n",
      "187200/2600    0.219    0.000    4.709    0.002 module.py:1124(_call_impl)\n",
      "41600/10400    0.148    0.000    4.663    0.000 container.py:137(forward)\n",
      "   340600    0.146    0.000    0.146    0.000 module.py:1194(__getattr__)\n",
      "    39000    0.142    0.000    1.496    0.000 batchnorm.py:134(forward)\n",
      "    40500    0.126    0.000    0.126    0.000 {built-in method torch.any}\n",
      "    15600    0.116    0.000    4.018    0.000 az_resnet.py:36(forward)\n",
      "    39000    0.112    0.000    0.112    0.000 {built-in method torch.relu}\n",
      "    10400    0.110    0.000    0.110    0.000 {built-in method torch._C._nn.linear}\n",
      "      500    0.104    0.000    7.429    0.015 vectmcts.py:26(iterate)\n",
      "    59500    0.104    0.000    0.104    0.000 {method 'view' of 'torch._C._TensorBase' objects}\n",
      "   187200    0.065    0.000    0.065    0.000 {built-in method torch._C._get_tracing_state}\n",
      "     3300    0.058    0.000    0.107    0.000 vectenv.py:76(get_progressions)\n",
      "    39000    0.057    0.000    1.256    0.000 functional.py:2407(batch_norm)\n",
      "    24800    0.055    0.000    0.055    0.000 {method 'flip' of 'torch._C._TensorBase' objects}\n",
      "     6200    0.055    0.000    0.055    0.000 {built-in method torch.sort}\n",
      "     3300    0.054    0.000    0.215    0.000 vectenv.py:86(spawn_tiles)\n",
      "    12400    0.047    0.000    0.047    0.000 {built-in method torch.rsub}\n",
      "    33800    0.046    0.000    2.251    0.000 conv.py:456(forward)\n",
      "     6200    0.041    0.000    0.041    0.000 {built-in method torch.concat}\n",
      "     3600    0.041    0.000    1.333    0.000 vectenv.py:49(update_invalid_mask)\n",
      "    21700    0.041    0.000    0.041    0.000 {built-in method torch.logical_and}\n",
      "    24800    0.038    0.000    0.038    0.000 {built-in method torch.logical_or}\n",
      "    33800    0.035    0.000    2.186    0.000 conv.py:448(_conv_forward)\n",
      "     3100    0.028    0.000    0.804    0.000 vectenv.py:119(push_moves)\n",
      "    41600    0.025    0.000    0.039    0.000 container.py:129(__iter__)\n",
      "     5800    0.024    0.000    0.024    0.000 {built-in method torch.multinomial}\n",
      "    15500    0.024    0.000    0.024    0.000 {method 'float' of 'torch._C._TensorBase' objects}\n",
      "     2600    0.023    0.000    0.023    0.000 {built-in method torch.tensor}\n",
      "      100    0.023    0.000    8.236    0.082 vectmcts.py:40(explore)\n",
      "     3600    0.022    0.000    0.022    0.000 {method 'sum' of 'torch._C._TensorBase' objects}\n",
      "    39000    0.021    0.000    0.158    0.000 activation.py:97(forward)\n",
      "    39000    0.020    0.000    0.137    0.000 functional.py:1446(relu)\n",
      "     5200    0.019    0.000    0.019    0.000 {method 'flatten' of 'torch._C._TensorBase' objects}\n",
      "     9000    0.019    0.000    0.019    0.000 {built-in method torch.logical_not}\n",
      "     5800    0.018    0.000    0.018    0.000 {method 'amax' of 'torch._C._TensorBase' objects}\n",
      "     6200    0.017    0.000    0.017    0.000 {built-in method torch.gather}\n",
      "     3800    0.017    0.000    0.017    0.000 {built-in method torch.where}\n",
      "      500    0.017    0.000    0.029    0.000 vectmcts.py:17(choose_action_with_puct)\n",
      "    12400    0.016    0.000    0.016    0.000 {method 'transpose' of 'torch._C._TensorBase' objects}\n",
      "     2600    0.015    0.000    4.700    0.002 az_resnet.py:85(forward)\n",
      "    33800    0.015    0.000    0.022    0.000 batchnorm.py:405(_check_input_dim)\n",
      "    10400    0.014    0.000    0.131    0.000 linear.py:113(forward)\n",
      "     5800    0.014    0.000    0.014    0.000 {method 'masked_fill_' of 'torch._C._TensorBase' objects}\n",
      "     2600    0.013    0.000    0.013    0.000 {built-in method torch.max}\n",
      "     2600    0.013    0.000    0.013    0.000 {method 'softmax' of 'torch._C._TensorBase' objects}\n",
      "    39000    0.012    0.000    0.017    0.000 __init__.py:31(__get__)\n",
      "     5500    0.012    0.000    0.012    0.000 {method 'squeeze' of 'torch._C._TensorBase' objects}\n",
      "     3100    0.010    0.000    2.174    0.001 vectenv.py:34(step)\n",
      "     3300    0.010    0.000    0.010    0.000 {built-in method torch.arange}\n",
      "    41600    0.010    0.000    0.010    0.000 {built-in method builtins.iter}\n",
      "     2600    0.009    0.000    0.010    0.000 grad_mode.py:126(__init__)\n",
      "    39000    0.008    0.000    0.008    0.000 {method 'dim' of 'torch._C._TensorBase' objects}\n",
      "     7200    0.007    0.000    0.014    0.000 module.py:1210(__setattr__)\n",
      "     5200    0.006    0.000    0.008    0.000 grad_mode.py:226(__init__)\n",
      "    12400    0.006    0.000    0.060    0.000 _tensor.py:26(wrapped)\n",
      "    39000    0.006    0.000    0.006    0.000 {built-in method torch._C._has_torch_function_variadic}\n",
      " 7200/100    0.006    0.000    0.028    0.000 module.py:1820(train)\n",
      "     3300    0.006    0.000    0.006    0.000 {method 'unsqueeze' of 'torch._C._TensorBase' objects}\n",
      "    39000    0.005    0.000    0.005    0.000 {built-in method torch._C._get_cudnn_enabled}\n",
      "    12400    0.005    0.000    0.052    0.000 _tensor.py:637(__rsub__)\n",
      "    41600    0.005    0.000    0.005    0.000 {built-in method torch._C._has_torch_function_unary}\n",
      "    41600    0.004    0.000    0.004    0.000 {method 'values' of 'collections.OrderedDict' objects}\n",
      "     2600    0.004    0.000    0.009    0.000 grad_mode.py:135(__exit__)\n",
      "    14300    0.004    0.000    0.005    0.000 module.py:1728(named_children)\n",
      "     5200    0.004    0.000    0.023    0.000 flatten.py:44(forward)\n",
      "     2600    0.004    0.000    0.007    0.000 grad_mode.py:131(__enter__)\n",
      "      600    0.003    0.000    0.003    0.000 {built-in method torch.argmax}\n",
      "    14300    0.003    0.000    0.008    0.000 module.py:1719(children)\n",
      "28800/21600    0.003    0.000    0.005    0.000 {built-in method builtins.isinstance}\n",
      "      500    0.003    0.000    0.003    0.000 {built-in method torch.sum}\n",
      "      700    0.003    0.000    0.003    0.000 {method 'clone' of 'torch._C._TensorBase' objects}\n",
      "      500    0.002    0.000    0.002    0.000 {built-in method torch.sqrt}\n",
      "     7200    0.002    0.000    0.003    0.000 parameter.py:9(__instancecheck__)\n",
      "      100    0.002    0.000    8.349    0.083 vecttrainer.py:29(run_step)\n",
      "     2600    0.002    0.000    0.015    0.000 functional.py:1804(softmax)\n",
      "      900    0.002    0.000    0.002    0.000 {method 'fill_' of 'torch._C._TensorBase' objects}\n",
      "     5200    0.002    0.000    0.003    0.000 batchnorm.py:296(_check_input_dim)\n",
      "    21600    0.002    0.000    0.002    0.000 {method 'get' of 'dict' objects}\n",
      "    12400    0.002    0.000    0.002    0.000 {built-in method torch._C._has_torch_function}\n",
      "     7800    0.001    0.000    0.001    0.000 {built-in method torch.is_grad_enabled}\n",
      "     5200    0.001    0.000    0.001    0.000 {built-in method torch._C._set_grad_enabled}\n",
      "      306    0.001    0.000    0.001    0.000 {method 'numpy' of 'torch._C._TensorBase' objects}\n",
      "      100    0.001    0.000    0.013    0.000 vectenv.py:40(reset_invalid_boards)\n",
      "     2600    0.000    0.000    0.000    0.000 _jit_internal.py:958(is_scripting)\n",
      "     7200    0.000    0.000    0.000    0.000 {function _ParameterMeta.__instancecheck__ at 0x1303a9f70}\n",
      "     7100    0.000    0.000    0.000    0.000 {method 'add' of 'set' objects}\n",
      "     7200    0.000    0.000    0.000    0.000 {method 'items' of 'collections.OrderedDict' objects}\n",
      "      100    0.000    0.000    0.001    0.000 vecttrainer.py:16(push_examples_to_memory_buffer)\n",
      "      100    0.000    0.000    0.000    0.000 {built-in method torch.nonzero}\n",
      "        1    0.000    0.000    8.349    8.349 4117936621.py:1(run_for_steps)\n",
      "      306    0.000    0.000    0.000    0.000 {method 'cpu' of 'torch._C._TensorBase' objects}\n",
      "     1006    0.000    0.000    0.000    0.000 {method 'append' of 'list' objects}\n",
      "      100    0.000    0.000    0.028    0.000 module.py:1842(eval)\n",
      "        6    0.000    0.000    0.000    0.000 {built-in method torch.amax}\n",
      "      106    0.000    0.000    0.000    0.000 {built-in method builtins.len}\n",
      "        1    0.000    0.000    8.349    8.349 {built-in method builtins.exec}\n",
      "        1    0.000    0.000    8.349    8.349 <string>:1(<module>)\n",
      "        1    0.000    0.000    0.000    0.000 {method 'disable' of '_lsprof.Profiler' objects}"
     ]
    }
   ],
   "source": [
    "%prun -s tottime run_for_steps(100)"
   ]
  },
  {
   "cell_type": "code",
   "execution_count": null,
   "metadata": {},
   "outputs": [],
   "source": []
  }
 ],
 "metadata": {
  "kernelspec": {
   "display_name": "python3",
   "language": "python",
   "name": "python3"
  },
  "language_info": {
   "codemirror_mode": {
    "name": "ipython",
    "version": 3
   },
   "file_extension": ".py",
   "mimetype": "text/x-python",
   "name": "python",
   "nbconvert_exporter": "python",
   "pygments_lexer": "ipython3",
   "version": "3.8.16"
  },
  "orig_nbformat": 4
 },
 "nbformat": 4,
 "nbformat_minor": 2
}
