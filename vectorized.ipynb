{
 "cells": [
  {
   "attachments": {},
   "cell_type": "markdown",
   "metadata": {},
   "source": []
  },
  {
   "cell_type": "code",
   "execution_count": 1,
   "metadata": {},
   "outputs": [],
   "source": [
    "\n",
    "import torch\n",
    "import matplotlib.pyplot as plt\n",
    "import logging\n",
    "\n",
    "from env2048.vecttrainer import VectorizedTrainer, load_trainer_from_checkpoint\n",
    "from az_resnet import AZResnet, AZResnetArchitectureParameters\n",
    "from hyperparameters import LazyAZHyperparameters\n",
    "\n",
    "logging.basicConfig(filename='training.log', filemode='a', level=logging.INFO, format='%(asctime)s %(message)s')\n",
    "logging.info('Starting training')"
   ]
  },
  {
   "cell_type": "code",
   "execution_count": 2,
   "metadata": {},
   "outputs": [],
   "source": [
    "CHECKPOINT_FILE = ''"
   ]
  },
  {
   "cell_type": "code",
   "execution_count": 3,
   "metadata": {},
   "outputs": [],
   "source": [
    "device = torch.device('cuda') if torch.cuda.is_available() else torch.device('cpu')\n",
    "\n",
    "if CHECKPOINT_FILE:\n",
    "    trainer = load_trainer_from_checkpoint(CHECKPOINT_FILE, device, load_replay_memory=True)\n",
    "else:\n",
    "    run_tag = '' # TODO: add run tag\n",
    "    \n",
    "    num_boards = 10\n",
    "\n",
    "    model = AZResnet(AZResnetArchitectureParameters(\n",
    "        input_size=torch.Size((1, 4, 4)),\n",
    "        policy_size=4,\n",
    "        res_channels=8,\n",
    "        res_blocks=2, \n",
    "        value_head_res_channels=8,\n",
    "        value_head_res_blocks=2,\n",
    "        policy_head_res_channels=8,\n",
    "        policy_head_res_blocks=2,\n",
    "        kernel_size=3,\n",
    "        policy_fc_size=32,\n",
    "        value_fc_size=32\n",
    "    )) # TODO: specify model architecture parameters \n",
    "\n",
    "    hypers = LazyAZHyperparameters() # TODO: specify hyperparameters\n",
    "\n",
    "    optimizer = torch.optim.AdamW(model.parameters(), lr=hypers.learning_rate)\n",
    "\n",
    "    trainer = VectorizedTrainer(num_boards, model, optimizer, hypers, device, run_tag=run_tag, progression_batch_size=3)\n",
    "\n",
    "plt.close('all')"
   ]
  },
  {
   "cell_type": "code",
   "execution_count": 4,
   "metadata": {},
   "outputs": [
    {
     "ename": "KeyboardInterrupt",
     "evalue": "",
     "output_type": "error",
     "traceback": [
      "\u001b[0;31m---------------------------------------------------------------------------\u001b[0m",
      "\u001b[0;31mKeyboardInterrupt\u001b[0m                         Traceback (most recent call last)",
      "Cell \u001b[0;32mIn[4], line 1\u001b[0m\n\u001b[0;32m----> 1\u001b[0m trainer\u001b[39m.\u001b[39;49mrun_training_loop()\n",
      "File \u001b[0;32m~/Repos/alpha-2048/env2048/vecttrainer.py:239\u001b[0m, in \u001b[0;36mVectorizedTrainer.run_training_loop\u001b[0;34m(self, epochs)\u001b[0m\n\u001b[1;32m    237\u001b[0m     \u001b[39mself\u001b[39m\u001b[39m.\u001b[39munfinished_games_test \u001b[39m=\u001b[39m [[] \u001b[39mfor\u001b[39;00m _ \u001b[39min\u001b[39;00m \u001b[39mrange\u001b[39m(\u001b[39mself\u001b[39m\u001b[39m.\u001b[39mnum_parallel_envs)]\n\u001b[1;32m    238\u001b[0m     \u001b[39mwhile\u001b[39;00m \u001b[39mself\u001b[39m\u001b[39m.\u001b[39mhistory\u001b[39m.\u001b[39mcur_test_step \u001b[39m<\u001b[39m \u001b[39mself\u001b[39m\u001b[39m.\u001b[39mhypers\u001b[39m.\u001b[39meval_episodes_per_epoch:\n\u001b[0;32m--> 239\u001b[0m         \u001b[39mself\u001b[39;49m\u001b[39m.\u001b[39;49mrun_collection_step(\u001b[39mTrue\u001b[39;49;00m)\n\u001b[1;32m    241\u001b[0m \u001b[39mself\u001b[39m\u001b[39m.\u001b[39madd_epoch_metrics()\n\u001b[1;32m    242\u001b[0m \u001b[39mif\u001b[39;00m \u001b[39mself\u001b[39m\u001b[39m.\u001b[39minteractive:\n",
      "File \u001b[0;32m~/Repos/alpha-2048/env2048/vecttrainer.py:127\u001b[0m, in \u001b[0;36mVectorizedTrainer.run_collection_step\u001b[0;34m(self, is_eval, epsilon)\u001b[0m\n\u001b[1;32m    125\u001b[0m evaluator \u001b[39m=\u001b[39m \u001b[39mself\u001b[39m\u001b[39m.\u001b[39mtest_evaluator \u001b[39mif\u001b[39;00m is_eval \u001b[39mand\u001b[39;00m \u001b[39mself\u001b[39m\u001b[39m.\u001b[39mtest_evaluator \u001b[39melse\u001b[39;00m \u001b[39mself\u001b[39m\u001b[39m.\u001b[39mtrain_evaluator\n\u001b[1;32m    126\u001b[0m \u001b[39mself\u001b[39m\u001b[39m.\u001b[39mmodel\u001b[39m.\u001b[39meval()\n\u001b[0;32m--> 127\u001b[0m visits \u001b[39m=\u001b[39m evaluator\u001b[39m.\u001b[39;49mexplore(\u001b[39mself\u001b[39;49m\u001b[39m.\u001b[39;49mhypers\u001b[39m.\u001b[39;49mnum_iters_train, \u001b[39mself\u001b[39;49m\u001b[39m.\u001b[39;49mhypers\u001b[39m.\u001b[39;49miter_depth_train)\n\u001b[1;32m    128\u001b[0m np_boards \u001b[39m=\u001b[39m evaluator\u001b[39m.\u001b[39menv\u001b[39m.\u001b[39mboards\u001b[39m.\u001b[39mclone()\u001b[39m.\u001b[39mcpu()\u001b[39m.\u001b[39mnumpy()\n\u001b[1;32m    129\u001b[0m \u001b[39mif\u001b[39;00m torch\u001b[39m.\u001b[39mrand(\u001b[39m1\u001b[39m) \u001b[39m>\u001b[39m epsilon:\n",
      "File \u001b[0;32m~/Repos/alpha-2048/env2048/vectmcts.py:60\u001b[0m, in \u001b[0;36mVectorized2048MCTSLazy.explore\u001b[0;34m(self, iters, search_depth)\u001b[0m\n\u001b[1;32m     58\u001b[0m actions \u001b[39m=\u001b[39m \u001b[39mself\u001b[39m\u001b[39m.\u001b[39mchoose_action_with_puct(policy_logits, legal_actions)    \n\u001b[1;32m     59\u001b[0m \u001b[39mself\u001b[39m\u001b[39m.\u001b[39menv\u001b[39m.\u001b[39mstep(actions)\n\u001b[0;32m---> 60\u001b[0m \u001b[39mself\u001b[39;49m\u001b[39m.\u001b[39;49miterate(search_depth)\n\u001b[1;32m     61\u001b[0m \u001b[39mself\u001b[39m\u001b[39m.\u001b[39mvisits[\u001b[39mself\u001b[39m\u001b[39m.\u001b[39mindices, actions] \u001b[39m+\u001b[39m\u001b[39m=\u001b[39m \u001b[39m1\u001b[39m\n\u001b[1;32m     62\u001b[0m \u001b[39mself\u001b[39m\u001b[39m.\u001b[39maction_scores[\u001b[39mself\u001b[39m\u001b[39m.\u001b[39mindices, actions] \u001b[39m+\u001b[39m\u001b[39m=\u001b[39m \u001b[39mself\u001b[39m\u001b[39m.\u001b[39minter_scores \u001b[39m/\u001b[39m search_depth\n",
      "File \u001b[0;32m~/Repos/alpha-2048/env2048/vectmcts.py:41\u001b[0m, in \u001b[0;36mVectorized2048MCTSLazy.iterate\u001b[0;34m(self, depth)\u001b[0m\n\u001b[1;32m     39\u001b[0m values\u001b[39m.\u001b[39mclamp_(\u001b[39m0\u001b[39m)\n\u001b[1;32m     40\u001b[0m \u001b[39mself\u001b[39m\u001b[39m.\u001b[39minter_scores \u001b[39m+\u001b[39m\u001b[39m=\u001b[39m values\u001b[39m.\u001b[39msqueeze(\u001b[39m1\u001b[39m) \u001b[39m*\u001b[39m torch\u001b[39m.\u001b[39mlogical_not(\u001b[39mself\u001b[39m\u001b[39m.\u001b[39menv\u001b[39m.\u001b[39minvalid_mask\u001b[39m.\u001b[39mview(\u001b[39mself\u001b[39m\u001b[39m.\u001b[39menv\u001b[39m.\u001b[39mnum_parallel_envs))\n\u001b[0;32m---> 41\u001b[0m legal_actions \u001b[39m=\u001b[39m \u001b[39mself\u001b[39;49m\u001b[39m.\u001b[39;49menv\u001b[39m.\u001b[39;49mget_legal_moves()\n\u001b[1;32m     42\u001b[0m distribution \u001b[39m=\u001b[39m torch\u001b[39m.\u001b[39mnn\u001b[39m.\u001b[39mfunctional\u001b[39m.\u001b[39msoftmax(policy_logits, dim\u001b[39m=\u001b[39m\u001b[39m1\u001b[39m) \u001b[39m*\u001b[39m legal_actions\n\u001b[1;32m     43\u001b[0m distribution\u001b[39m.\u001b[39mmasked_fill_(distribution\u001b[39m.\u001b[39msum(dim\u001b[39m=\u001b[39m\u001b[39m1\u001b[39m, keepdim\u001b[39m=\u001b[39m\u001b[39mTrue\u001b[39;00m) \u001b[39m==\u001b[39m \u001b[39m0\u001b[39m, \u001b[39m1\u001b[39m)    \n",
      "File \u001b[0;32m~/Repos/alpha-2048/env2048/vectenv.py:58\u001b[0m, in \u001b[0;36mVectorized2048Env.get_legal_moves\u001b[0;34m(self)\u001b[0m\n\u001b[1;32m     56\u001b[0m m1 \u001b[39m=\u001b[39m torch\u001b[39m.\u001b[39mnn\u001b[39m.\u001b[39mfunctional\u001b[39m.\u001b[39mconv2d(\u001b[39mself\u001b[39m\u001b[39m.\u001b[39mboards, \u001b[39mself\u001b[39m\u001b[39m.\u001b[39mmask1, padding\u001b[39m=\u001b[39m\u001b[39m0\u001b[39m, bias\u001b[39m=\u001b[39m\u001b[39mNone\u001b[39;00m)\u001b[39m.\u001b[39mview(\u001b[39mself\u001b[39m\u001b[39m.\u001b[39mnum_parallel_envs, \u001b[39m12\u001b[39m)\n\u001b[1;32m     57\u001b[0m m2 \u001b[39m=\u001b[39m torch\u001b[39m.\u001b[39mnn\u001b[39m.\u001b[39mfunctional\u001b[39m.\u001b[39mconv2d(\u001b[39mself\u001b[39m\u001b[39m.\u001b[39mboards, \u001b[39mself\u001b[39m\u001b[39m.\u001b[39mmask2, padding\u001b[39m=\u001b[39m\u001b[39m0\u001b[39m, bias\u001b[39m=\u001b[39m\u001b[39mNone\u001b[39;00m)\u001b[39m.\u001b[39mview(\u001b[39mself\u001b[39m\u001b[39m.\u001b[39mnum_parallel_envs, \u001b[39m12\u001b[39m)\n\u001b[0;32m---> 58\u001b[0m m3 \u001b[39m=\u001b[39m torch\u001b[39m.\u001b[39;49mnn\u001b[39m.\u001b[39;49mfunctional\u001b[39m.\u001b[39;49mconv2d(\u001b[39mself\u001b[39;49m\u001b[39m.\u001b[39;49mboards, \u001b[39mself\u001b[39;49m\u001b[39m.\u001b[39;49mmask3, padding\u001b[39m=\u001b[39;49m\u001b[39m0\u001b[39;49m, bias\u001b[39m=\u001b[39;49m\u001b[39mNone\u001b[39;49;00m)\u001b[39m.\u001b[39mview(\u001b[39mself\u001b[39m\u001b[39m.\u001b[39mnum_parallel_envs, \u001b[39m12\u001b[39m)\n\u001b[1;32m     60\u001b[0m m0_valid \u001b[39m=\u001b[39m torch\u001b[39m.\u001b[39many(m0 \u001b[39m>\u001b[39m \u001b[39m0.5\u001b[39m, dim\u001b[39m=\u001b[39m\u001b[39m1\u001b[39m, keepdim\u001b[39m=\u001b[39m\u001b[39mTrue\u001b[39;00m)\n\u001b[1;32m     61\u001b[0m m1_valid \u001b[39m=\u001b[39m torch\u001b[39m.\u001b[39many(m1 \u001b[39m>\u001b[39m \u001b[39m0.5\u001b[39m, dim\u001b[39m=\u001b[39m\u001b[39m1\u001b[39m, keepdim\u001b[39m=\u001b[39m\u001b[39mTrue\u001b[39;00m)\n",
      "\u001b[0;31mKeyboardInterrupt\u001b[0m: "
     ]
    }
   ],
   "source": [
    "trainer.run_training_loop()"
   ]
  }
 ],
 "metadata": {
  "kernelspec": {
   "display_name": "Python 3 (ipykernel)",
   "language": "python",
   "name": "python3"
  },
  "language_info": {
   "codemirror_mode": {
    "name": "ipython",
    "version": 3
   },
   "file_extension": ".py",
   "mimetype": "text/x-python",
   "name": "python",
   "nbconvert_exporter": "python",
   "pygments_lexer": "ipython3",
   "version": "3.8.16"
  },
  "orig_nbformat": 4
 },
 "nbformat": 4,
 "nbformat_minor": 2
}
