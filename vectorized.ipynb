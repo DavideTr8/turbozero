{
 "cells": [
  {
   "attachments": {},
   "cell_type": "markdown",
   "metadata": {},
   "source": []
  },
  {
   "cell_type": "code",
   "execution_count": 1,
   "metadata": {},
   "outputs": [
    {
     "name": "stderr",
     "output_type": "stream",
     "text": [
      "/Users/marshingjay/miniconda3/envs/python3/lib/python3.8/site-packages/tqdm/auto.py:21: TqdmWarning: IProgress not found. Please update jupyter and ipywidgets. See https://ipywidgets.readthedocs.io/en/stable/user_install.html\n",
      "  from .autonotebook import tqdm as notebook_tqdm\n"
     ]
    }
   ],
   "source": [
    "from env2048.vectenv import Vectorized2048Env\n",
    "from env2048.vectmcts import Vectorized2048MCTSLazy\n",
    "from az_resnet import AZResnet, AZResnetArchitectureParameters\n",
    "import torch"
   ]
  },
  {
   "cell_type": "code",
   "execution_count": 2,
   "metadata": {},
   "outputs": [],
   "source": [
    "\n",
    "from env2048.vecttrainer import VectorizedTrainer\n",
    "from hyperparameters import AZ_HYPERPARAMETERS, LazyAZHyperparameters\n",
    "\n",
    "device = torch.device('cuda') if torch.cuda.is_available() else torch.device('cpu')\n",
    "num_boards = 10\n",
    "v = Vectorized2048Env(num_boards, device)\n",
    "model = AZResnet(AZResnetArchitectureParameters(\n",
    "    input_size=torch.Size((1, 4, 4)),\n",
    "    policy_size=4,\n",
    "    res_channels=8,\n",
    "    res_blocks=2, \n",
    "    value_head_res_channels=8,\n",
    "    value_head_res_blocks=2,\n",
    "    policy_head_res_channels=8,\n",
    "    policy_head_res_blocks=2,\n",
    "    kernel_size=3,\n",
    "    policy_fc_size=32,\n",
    "    value_fc_size=32\n",
    "))\n",
    "mc = Vectorized2048MCTSLazy(v, model, 1)\n",
    "v.reset()\n",
    "\n",
    "hyperparameters = LazyAZHyperparameters()\n",
    "\n",
    "trainer = VectorizedTrainer(mc, model, hyperparameters, device)"
   ]
  },
  {
   "cell_type": "code",
   "execution_count": null,
   "metadata": {},
   "outputs": [],
   "source": [
    "trainer.training_loop()"
   ]
  }
 ],
 "metadata": {
  "kernelspec": {
   "display_name": "python3",
   "language": "python",
   "name": "python3"
  },
  "language_info": {
   "codemirror_mode": {
    "name": "ipython",
    "version": 3
   },
   "file_extension": ".py",
   "mimetype": "text/x-python",
   "name": "python",
   "nbconvert_exporter": "python",
   "pygments_lexer": "ipython3",
   "version": "3.8.16"
  },
  "orig_nbformat": 4
 },
 "nbformat": 4,
 "nbformat_minor": 2
}
