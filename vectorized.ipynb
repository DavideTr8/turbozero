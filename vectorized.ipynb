{
 "cells": [
  {
   "cell_type": "code",
   "execution_count": 19,
   "metadata": {},
   "outputs": [],
   "source": [
    "import torch\n",
    "num_boards = 1000000"
   ]
  },
  {
   "cell_type": "code",
   "execution_count": 20,
   "metadata": {},
   "outputs": [],
   "source": [
    "import torch.nn.functional as F"
   ]
  },
  {
   "cell_type": "code",
   "execution_count": 21,
   "metadata": {},
   "outputs": [],
   "source": [
    "# generate starting boards\n",
    "\n",
    "\n",
    "random_floats = torch.randn((num_boards, 16), dtype=torch.float32)\n",
    "boards = torch.zeros((num_boards, 16), dtype=torch.float32)\n",
    "starting_boards = random_floats.topk(2, dim=1).indices\n",
    "boards[(range(num_boards), starting_boards[:,0])] = 1\n",
    "boards[(range(num_boards), starting_boards[:,1])] = 1"
   ]
  },
  {
   "cell_type": "code",
   "execution_count": 22,
   "metadata": {},
   "outputs": [],
   "source": [
    "boards = boards.reshape((num_boards, 4, 4))"
   ]
  },
  {
   "cell_type": "code",
   "execution_count": 23,
   "metadata": {},
   "outputs": [
    {
     "data": {
      "text/plain": [
       "tensor([[2., 2., 1., 1.],\n",
       "        [0., 0., 0., 0.],\n",
       "        [0., 1., 0., 0.],\n",
       "        [0., 1., 0., 0.]])"
      ]
     },
     "execution_count": 23,
     "metadata": {},
     "output_type": "execute_result"
    }
   ],
   "source": [
    "\n",
    "boards[0][0] = torch.tensor([2,2,1,1])\n",
    "boards[0]"
   ]
  },
  {
   "cell_type": "code",
   "execution_count": 24,
   "metadata": {},
   "outputs": [],
   "source": [
    "moves = torch.randint(0, 4, (num_boards,))\n",
    "\n",
    "\n",
    "rotations_0 = boards\n",
    "rotations_1 = torch.rot90(boards, 1, (1,2))\n",
    "rotations_2 = torch.rot90(boards, 2, (1,2))\n",
    "rotations_3 = torch.rot90(boards, 3, (1,2))\n"
   ]
  },
  {
   "cell_type": "code",
   "execution_count": 25,
   "metadata": {},
   "outputs": [
    {
     "data": {
      "text/plain": [
       "tensor(0)"
      ]
     },
     "execution_count": 25,
     "metadata": {},
     "output_type": "execute_result"
    }
   ],
   "source": [
    "moves[0]"
   ]
  },
  {
   "cell_type": "code",
   "execution_count": 26,
   "metadata": {},
   "outputs": [],
   "source": [
    "mask_0 = (moves == 0)\n",
    "mask_90 = (moves == 1)\n",
    "mask_180 = (moves == 2)\n",
    "mask_270 = (moves == 3)\n"
   ]
  },
  {
   "cell_type": "code",
   "execution_count": 27,
   "metadata": {},
   "outputs": [],
   "source": [
    "result = torch.zeros_like(boards)\n",
    "result[mask_0] = rotations_0[mask_0]\n",
    "result[mask_90] = rotations_1[mask_90]\n",
    "result[mask_180] = rotations_2[mask_180]\n",
    "result[mask_270] = rotations_3[mask_270]\n",
    "\n",
    "\n",
    "boards = result"
   ]
  },
  {
   "cell_type": "code",
   "execution_count": 28,
   "metadata": {},
   "outputs": [
    {
     "data": {
      "text/plain": [
       "tensor([[2., 2., 1., 1.],\n",
       "        [0., 0., 0., 0.],\n",
       "        [0., 1., 0., 0.],\n",
       "        [0., 1., 0., 0.]])"
      ]
     },
     "execution_count": 28,
     "metadata": {},
     "output_type": "execute_result"
    }
   ],
   "source": [
    "boards[0]"
   ]
  },
  {
   "cell_type": "code",
   "execution_count": 29,
   "metadata": {},
   "outputs": [],
   "source": [
    "\n",
    "shape = boards.shape\n",
    "boards_flat = boards.view(-1, shape[-1])\n",
    "mask = (boards_flat != 0).float()\n",
    "_, sorted_indices = torch.sort(mask, dim=1, descending=True)\n",
    "boards_flat = torch.gather(boards_flat, 1, sorted_indices)\n"
   ]
  },
  {
   "cell_type": "code",
   "execution_count": 30,
   "metadata": {},
   "outputs": [
    {
     "data": {
      "text/plain": [
       "tensor([[2., 2., 1., 1.],\n",
       "        [0., 0., 0., 0.],\n",
       "        [1., 0., 0., 0.],\n",
       "        [1., 0., 0., 0.]])"
      ]
     },
     "execution_count": 30,
     "metadata": {},
     "output_type": "execute_result"
    }
   ],
   "source": [
    "boards_flat[:4]"
   ]
  },
  {
   "cell_type": "code",
   "execution_count": 31,
   "metadata": {},
   "outputs": [],
   "source": [
    "# merge similar tiles from left to right\n",
    "for i in range(3):\n",
    "    is_same = torch.logical_and(boards_flat[:,i] == boards_flat[:,i+1], boards_flat[:,i] != 0).float()\n",
    "    boards_flat[:,i] += is_same\n",
    "    boards_flat[:,i+1] *= (1 - is_same)"
   ]
  },
  {
   "cell_type": "code",
   "execution_count": 32,
   "metadata": {},
   "outputs": [],
   "source": [
    "\n",
    "mask = (boards_flat != 0).float()\n",
    "_, sorted_indices = torch.sort(mask, dim=1, descending=True)\n",
    "boards_flat = torch.gather(boards_flat, 1, sorted_indices)"
   ]
  },
  {
   "cell_type": "code",
   "execution_count": 33,
   "metadata": {},
   "outputs": [],
   "source": [
    "boards = boards_flat.view(shape)"
   ]
  },
  {
   "cell_type": "code",
   "execution_count": 34,
   "metadata": {},
   "outputs": [],
   "source": [
    "moves = (4 - moves) % 4\n",
    "rotations_0 = boards\n",
    "rotations_1 = torch.rot90(boards, 1, (1,2))\n",
    "rotations_2 = torch.rot90(boards, 2, (1,2))\n",
    "rotations_3 = torch.rot90(boards, 3, (1,2))\n",
    "mask_0 = (moves == 0)\n",
    "mask_90 = (moves == 1)\n",
    "mask_180 = (moves == 2)\n",
    "mask_270 = (moves == 3)\n",
    "result = torch.zeros_like(boards)\n",
    "result[mask_0] = rotations_0[mask_0]\n",
    "result[mask_90] = rotations_1[mask_90]\n",
    "result[mask_180] = rotations_2[mask_180]\n",
    "result[mask_270] = rotations_3[mask_270]\n",
    "\n",
    "boards = result\n"
   ]
  },
  {
   "cell_type": "code",
   "execution_count": 35,
   "metadata": {},
   "outputs": [
    {
     "data": {
      "text/plain": [
       "(tensor([[[3., 2., 0., 0.],\n",
       "          [0., 0., 0., 0.],\n",
       "          [1., 0., 0., 0.],\n",
       "          [1., 0., 0., 0.]],\n",
       " \n",
       "         [[0., 0., 1., 1.],\n",
       "          [0., 0., 0., 0.],\n",
       "          [0., 0., 0., 0.],\n",
       "          [0., 0., 0., 0.]],\n",
       " \n",
       "         [[0., 0., 0., 0.],\n",
       "          [0., 0., 0., 0.],\n",
       "          [0., 0., 0., 2.],\n",
       "          [0., 0., 0., 0.]],\n",
       " \n",
       "         ...,\n",
       " \n",
       "         [[1., 0., 1., 0.],\n",
       "          [0., 0., 0., 0.],\n",
       "          [0., 0., 0., 0.],\n",
       "          [0., 0., 0., 0.]],\n",
       " \n",
       "         [[0., 0., 0., 0.],\n",
       "          [0., 0., 0., 0.],\n",
       "          [0., 0., 0., 0.],\n",
       "          [2., 0., 0., 0.]],\n",
       " \n",
       "         [[0., 0., 0., 0.],\n",
       "          [0., 0., 0., 0.],\n",
       "          [0., 0., 0., 0.],\n",
       "          [2., 0., 0., 0.]]]),\n",
       " tensor([0, 3, 2,  ..., 3, 0, 0]))"
      ]
     },
     "execution_count": 35,
     "metadata": {},
     "output_type": "execute_result"
    }
   ],
   "source": [
    "boards, moves"
   ]
  }
 ],
 "metadata": {
  "kernelspec": {
   "display_name": "python3",
   "language": "python",
   "name": "python3"
  },
  "language_info": {
   "codemirror_mode": {
    "name": "ipython",
    "version": 3
   },
   "file_extension": ".py",
   "mimetype": "text/x-python",
   "name": "python",
   "nbconvert_exporter": "python",
   "pygments_lexer": "ipython3",
   "version": "3.8.16"
  },
  "orig_nbformat": 4
 },
 "nbformat": 4,
 "nbformat_minor": 2
}
